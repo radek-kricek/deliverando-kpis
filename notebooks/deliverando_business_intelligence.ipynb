{
 "cells": [
  {
   "cell_type": "markdown",
   "id": "dbb59560",
   "metadata": {},
   "source": [
    "# Deliverando: A Business Intelligence project "
   ]
  },
  {
   "cell_type": "markdown",
   "id": "33589353",
   "metadata": {},
   "source": [
    "## Contents"
   ]
  },
  {
   "cell_type": "markdown",
   "id": "ad5e0f6e",
   "metadata": {},
   "source": [
    "[The questions](#questions)\n",
    "\n",
    "[Import of libraries and packages](#libraries)\n",
    "\n",
    "[Import of data, exploration and cleaning](#cleaning)\n",
    "\n",
    "[Analysis and Visualizations: Deliverando KPI's](#kpi)\n",
    "\n",
    "[Further research questions](#further)"
   ]
  },
  {
   "cell_type": "markdown",
   "id": "19d24b17",
   "metadata": {},
   "source": [
    "## The questions <a id='questions'></a>\n",
    "\n",
    "In this project, I performed business and competitor analysis for a fictive delivery company called Deliverando. The scope of the project was the Austrian region of Graz. Since there were real restaurants present in the dataset, I only publish a version with anonymized restaurant names (see *anonymization.ipynb*). These are the main questions to answer:\n",
    "\n",
    "1. What can we say about relevant KPIs?\n",
    "2. How many restaurants are active on Deliverando or our competitors and how much have the respective platforms grown?\n",
    "3. Which 10 restaurants have placed the most orders with our competitors and how are they doing on Deliverando?"
   ]
  },
  {
   "cell_type": "markdown",
   "id": "c17be556",
   "metadata": {},
   "source": [
    "## Import of libraries and packages <a id='libraries'></a>"
   ]
  },
  {
   "cell_type": "code",
   "execution_count": 1,
   "id": "c4cbd291",
   "metadata": {},
   "outputs": [],
   "source": [
    "import pandas as pd   # work with data frames\n",
    "\n",
    "from matplotlib import pyplot as plt   # visualizations\n",
    "import seaborn as sns   # visualizations\n",
    "\n",
    "from scipy import stats   # A/B testing"
   ]
  },
  {
   "cell_type": "markdown",
   "id": "c07d71eb",
   "metadata": {},
   "source": [
    "## Import of data, exploration and cleaning <a id='cleaning'></a>"
   ]
  },
  {
   "cell_type": "markdown",
   "id": "ac8dc952",
   "metadata": {},
   "source": [
    "Import of data on Deliverando company (CSV file with semicolon as separator)."
   ]
  },
  {
   "cell_type": "code",
   "execution_count": 67,
   "id": "13a22a92",
   "metadata": {},
   "outputs": [],
   "source": [
    "# df_deliverando = pd.read_csv('../data/SalesAnalyst_deliverando.csv', sep=';')"
   ]
  },
  {
   "cell_type": "markdown",
   "id": "a3800676",
   "metadata": {},
   "source": [
    "Import of data on the competition (an Excel file with two sheets)."
   ]
  },
  {
   "cell_type": "code",
   "execution_count": 68,
   "id": "ffcf5ad3",
   "metadata": {},
   "outputs": [],
   "source": [
    "# df_competition_month1 = pd.read_excel('../data/SalesAnalyst_Competition.xlsx', sheet_name = 'Month 1')\n",
    "# df_competition_month2 = pd.read_excel('../data/SalesAnalyst_Competition.xlsx', sheet_name = 'Month 2')"
   ]
  },
  {
   "cell_type": "code",
   "execution_count": 5,
   "id": "bd536623",
   "metadata": {},
   "outputs": [],
   "source": [
    "df_deliverando = pd.read_csv('../data/deliverando_anonymized.csv')\n",
    "df_competition_month1 = pd.read_csv('../data/comp_month_1_anonymized.csv')\n",
    "df_competition_month2 = pd.read_csv('../data/comp_month_2_anonymized.csv')"
   ]
  },
  {
   "cell_type": "markdown",
   "id": "cc4a949e",
   "metadata": {},
   "source": [
    "**Some initial exploration.**\n",
    "\n",
    "We can see the names of columns and how the values in the table look like.\n",
    "\n",
    "All data frames contain data about orders in Month 1 and Month 2, called June and July for the purpuse of our project.\n",
    "\n",
    "Deliverando data frame contains more detailed information about different KPIs. The columns names should be standardized.\n",
    "\n",
    "The competition data frames have both the same structure and contain only information about the number of orders."
   ]
  },
  {
   "cell_type": "code",
   "execution_count": 6,
   "id": "9d167770",
   "metadata": {},
   "outputs": [
    {
     "data": {
      "text/html": [
       "<div>\n",
       "<style scoped>\n",
       "    .dataframe tbody tr th:only-of-type {\n",
       "        vertical-align: middle;\n",
       "    }\n",
       "\n",
       "    .dataframe tbody tr th {\n",
       "        vertical-align: top;\n",
       "    }\n",
       "\n",
       "    .dataframe thead th {\n",
       "        text-align: right;\n",
       "    }\n",
       "</style>\n",
       "<table border=\"1\" class=\"dataframe\">\n",
       "  <thead>\n",
       "    <tr style=\"text-align: right;\">\n",
       "      <th></th>\n",
       "      <th>name</th>\n",
       "      <th>zip</th>\n",
       "      <th>kpi</th>\n",
       "      <th>Month 1</th>\n",
       "      <th>Month 2</th>\n",
       "      <th>delivery service</th>\n",
       "    </tr>\n",
       "  </thead>\n",
       "  <tbody>\n",
       "    <tr>\n",
       "      <th>0</th>\n",
       "      <td>Rustikale Schanze</td>\n",
       "      <td>8020</td>\n",
       "      <td># Commissionable Orders</td>\n",
       "      <td>699.0</td>\n",
       "      <td>822.00</td>\n",
       "      <td>deliverando</td>\n",
       "    </tr>\n",
       "    <tr>\n",
       "      <th>1</th>\n",
       "      <td>Rustikale Schanze</td>\n",
       "      <td>8020</td>\n",
       "      <td>Avg Basket Size €</td>\n",
       "      <td>22.5</td>\n",
       "      <td>23.33</td>\n",
       "      <td>deliverando</td>\n",
       "    </tr>\n",
       "    <tr>\n",
       "      <th>2</th>\n",
       "      <td>Rustikale Schanze</td>\n",
       "      <td>8020</td>\n",
       "      <td># Negative Comments</td>\n",
       "      <td>3.0</td>\n",
       "      <td>4.00</td>\n",
       "      <td>deliverando</td>\n",
       "    </tr>\n",
       "  </tbody>\n",
       "</table>\n",
       "</div>"
      ],
      "text/plain": [
       "                name   zip                      kpi  Month 1  Month 2  \\\n",
       "0  Rustikale Schanze  8020  # Commissionable Orders    699.0   822.00   \n",
       "1  Rustikale Schanze  8020        Avg Basket Size €     22.5    23.33   \n",
       "2  Rustikale Schanze  8020      # Negative Comments      3.0     4.00   \n",
       "\n",
       "  delivery service  \n",
       "0      deliverando  \n",
       "1      deliverando  \n",
       "2      deliverando  "
      ]
     },
     "execution_count": 6,
     "metadata": {},
     "output_type": "execute_result"
    }
   ],
   "source": [
    "df_deliverando.head(3)"
   ]
  },
  {
   "cell_type": "code",
   "execution_count": 7,
   "id": "cc5d1515",
   "metadata": {},
   "outputs": [
    {
     "data": {
      "text/html": [
       "<div>\n",
       "<style scoped>\n",
       "    .dataframe tbody tr th:only-of-type {\n",
       "        vertical-align: middle;\n",
       "    }\n",
       "\n",
       "    .dataframe tbody tr th {\n",
       "        vertical-align: top;\n",
       "    }\n",
       "\n",
       "    .dataframe thead th {\n",
       "        text-align: right;\n",
       "    }\n",
       "</style>\n",
       "<table border=\"1\" class=\"dataframe\">\n",
       "  <thead>\n",
       "    <tr style=\"text-align: right;\">\n",
       "      <th></th>\n",
       "      <th>name</th>\n",
       "      <th>zip</th>\n",
       "      <th>orders</th>\n",
       "      <th>month</th>\n",
       "      <th>delivery_service</th>\n",
       "    </tr>\n",
       "  </thead>\n",
       "  <tbody>\n",
       "    <tr>\n",
       "      <th>0</th>\n",
       "      <td>Sonnen Tafelspitz</td>\n",
       "      <td>1120</td>\n",
       "      <td>575</td>\n",
       "      <td>1</td>\n",
       "      <td>competition</td>\n",
       "    </tr>\n",
       "    <tr>\n",
       "      <th>1</th>\n",
       "      <td>Elegante Taverna</td>\n",
       "      <td>4614</td>\n",
       "      <td>283</td>\n",
       "      <td>1</td>\n",
       "      <td>competition</td>\n",
       "    </tr>\n",
       "    <tr>\n",
       "      <th>2</th>\n",
       "      <td>Verträumte Gastzimmer</td>\n",
       "      <td>1010</td>\n",
       "      <td>43</td>\n",
       "      <td>1</td>\n",
       "      <td>competition</td>\n",
       "    </tr>\n",
       "  </tbody>\n",
       "</table>\n",
       "</div>"
      ],
      "text/plain": [
       "                    name   zip  orders  month delivery_service\n",
       "0      Sonnen Tafelspitz  1120     575      1      competition\n",
       "1       Elegante Taverna  4614     283      1      competition\n",
       "2  Verträumte Gastzimmer  1010      43      1      competition"
      ]
     },
     "execution_count": 7,
     "metadata": {},
     "output_type": "execute_result"
    }
   ],
   "source": [
    "df_competition_month1.head(3)"
   ]
  },
  {
   "cell_type": "code",
   "execution_count": 8,
   "id": "0d427e26",
   "metadata": {},
   "outputs": [
    {
     "data": {
      "text/html": [
       "<div>\n",
       "<style scoped>\n",
       "    .dataframe tbody tr th:only-of-type {\n",
       "        vertical-align: middle;\n",
       "    }\n",
       "\n",
       "    .dataframe tbody tr th {\n",
       "        vertical-align: top;\n",
       "    }\n",
       "\n",
       "    .dataframe thead th {\n",
       "        text-align: right;\n",
       "    }\n",
       "</style>\n",
       "<table border=\"1\" class=\"dataframe\">\n",
       "  <thead>\n",
       "    <tr style=\"text-align: right;\">\n",
       "      <th></th>\n",
       "      <th>name</th>\n",
       "      <th>zip</th>\n",
       "      <th>orders</th>\n",
       "      <th>month</th>\n",
       "      <th>delivery_service</th>\n",
       "    </tr>\n",
       "  </thead>\n",
       "  <tbody>\n",
       "    <tr>\n",
       "      <th>0</th>\n",
       "      <td>Winterliche Schanze</td>\n",
       "      <td>1090</td>\n",
       "      <td>493</td>\n",
       "      <td>2</td>\n",
       "      <td>competition</td>\n",
       "    </tr>\n",
       "    <tr>\n",
       "      <th>1</th>\n",
       "      <td>Stern Tafelspitz</td>\n",
       "      <td>1100</td>\n",
       "      <td>1191</td>\n",
       "      <td>2</td>\n",
       "      <td>competition</td>\n",
       "    </tr>\n",
       "    <tr>\n",
       "      <th>2</th>\n",
       "      <td>Weinstube Kneipenlokal</td>\n",
       "      <td>4060</td>\n",
       "      <td>45</td>\n",
       "      <td>2</td>\n",
       "      <td>competition</td>\n",
       "    </tr>\n",
       "  </tbody>\n",
       "</table>\n",
       "</div>"
      ],
      "text/plain": [
       "                     name   zip  orders  month delivery_service\n",
       "0     Winterliche Schanze  1090     493      2      competition\n",
       "1        Stern Tafelspitz  1100    1191      2      competition\n",
       "2  Weinstube Kneipenlokal  4060      45      2      competition"
      ]
     },
     "execution_count": 8,
     "metadata": {},
     "output_type": "execute_result"
    }
   ],
   "source": [
    "df_competition_month2.head(3)"
   ]
  },
  {
   "cell_type": "markdown",
   "id": "d8dd2e1f",
   "metadata": {},
   "source": [
    "Which KPIs are present in the data?\n",
    "\n",
    "*Commissionable Orders, Avg Basket Size, Negative Comments, Positive Comments, Kill Rate, Avg Time to Accept.*"
   ]
  },
  {
   "cell_type": "code",
   "execution_count": 9,
   "id": "ba5bb21b",
   "metadata": {},
   "outputs": [
    {
     "data": {
      "text/plain": [
       "array(['# Commissionable Orders', 'Avg Basket Size €',\n",
       "       '# Negative Comments', '# Positive Comments', '% Kill Rate',\n",
       "       'Avg Time to Accept (s)'], dtype=object)"
      ]
     },
     "execution_count": 9,
     "metadata": {},
     "output_type": "execute_result"
    }
   ],
   "source": [
    "df_deliverando['kpi'].unique()"
   ]
  },
  {
   "cell_type": "markdown",
   "id": "4673ff35",
   "metadata": {},
   "source": [
    "Overview of columns and their types and population with data.\n",
    "\n",
    "The comparison of RangeIndex with Non-Null value shows that there is no missing data in the data frames."
   ]
  },
  {
   "cell_type": "code",
   "execution_count": 10,
   "id": "c45be112",
   "metadata": {},
   "outputs": [
    {
     "name": "stdout",
     "output_type": "stream",
     "text": [
      "<class 'pandas.core.frame.DataFrame'>\n",
      "RangeIndex: 1648 entries, 0 to 1647\n",
      "Data columns (total 6 columns):\n",
      " #   Column            Non-Null Count  Dtype  \n",
      "---  ------            --------------  -----  \n",
      " 0   name              1648 non-null   object \n",
      " 1   zip               1648 non-null   int64  \n",
      " 2   kpi               1648 non-null   object \n",
      " 3   Month 1           1648 non-null   float64\n",
      " 4   Month 2           1648 non-null   float64\n",
      " 5   delivery service  1648 non-null   object \n",
      "dtypes: float64(2), int64(1), object(3)\n",
      "memory usage: 77.4+ KB\n"
     ]
    }
   ],
   "source": [
    "df_deliverando.info()"
   ]
  },
  {
   "cell_type": "code",
   "execution_count": 11,
   "id": "ec61e31a",
   "metadata": {},
   "outputs": [
    {
     "name": "stdout",
     "output_type": "stream",
     "text": [
      "<class 'pandas.core.frame.DataFrame'>\n",
      "RangeIndex: 3207 entries, 0 to 3206\n",
      "Data columns (total 5 columns):\n",
      " #   Column            Non-Null Count  Dtype \n",
      "---  ------            --------------  ----- \n",
      " 0   name              3207 non-null   object\n",
      " 1   zip               3207 non-null   int64 \n",
      " 2   orders            3207 non-null   int64 \n",
      " 3   month             3207 non-null   int64 \n",
      " 4   delivery_service  3207 non-null   object\n",
      "dtypes: int64(3), object(2)\n",
      "memory usage: 125.4+ KB\n"
     ]
    }
   ],
   "source": [
    "df_competition_month1.info()"
   ]
  },
  {
   "cell_type": "code",
   "execution_count": 12,
   "id": "d46044ee",
   "metadata": {},
   "outputs": [
    {
     "name": "stdout",
     "output_type": "stream",
     "text": [
      "<class 'pandas.core.frame.DataFrame'>\n",
      "RangeIndex: 3242 entries, 0 to 3241\n",
      "Data columns (total 5 columns):\n",
      " #   Column            Non-Null Count  Dtype \n",
      "---  ------            --------------  ----- \n",
      " 0   name              3242 non-null   object\n",
      " 1   zip               3242 non-null   int64 \n",
      " 2   orders            3242 non-null   int64 \n",
      " 3   month             3242 non-null   int64 \n",
      " 4   delivery_service  3242 non-null   object\n",
      "dtypes: int64(3), object(2)\n",
      "memory usage: 126.8+ KB\n"
     ]
    }
   ],
   "source": [
    "df_competition_month2.info()"
   ]
  },
  {
   "cell_type": "markdown",
   "id": "98b54c2d",
   "metadata": {},
   "source": [
    "**Cleaning.**\n",
    "\n",
    "Standardize the column names for Deliverando."
   ]
  },
  {
   "cell_type": "code",
   "execution_count": 13,
   "id": "bd9bb8ba",
   "metadata": {},
   "outputs": [],
   "source": [
    "df_deliverando.rename(columns={'Month 1':'month_1', 'Month 2':'month_2', 'delivery service':'delivery_service'},\n",
    "                      inplace=True)"
   ]
  },
  {
   "cell_type": "markdown",
   "id": "e65aaf93",
   "metadata": {},
   "source": [
    "Filter all data frames for relevant ZIP codes only (Graz area)."
   ]
  },
  {
   "cell_type": "code",
   "execution_count": 14,
   "id": "b8ea096c",
   "metadata": {},
   "outputs": [],
   "source": [
    "df_deliverando =\\\n",
    "df_deliverando[df_deliverando['zip'].\\\n",
    "               isin([8010, 8020, 8036, 8041, 8042, 8043, 8045, 8051, 8052, 8053, 8054, 8055, 8063, 8077])]\n",
    "\n",
    "df_competition_month1 =\\\n",
    "df_competition_month1[df_competition_month1['zip'].\\\n",
    "                      isin([8010, 8020, 8036, 8041, 8042, 8043, 8045, 8051, 8052, 8053, 8054, 8055, 8063, 8077])]\n",
    "\n",
    "df_competition_month2 =\\\n",
    "df_competition_month2[df_competition_month2['zip'].\\\n",
    "                      isin([8010, 8020, 8036, 8041, 8042, 8043, 8045, 8051, 8052, 8053, 8054, 8055, 8063, 8077])]"
   ]
  },
  {
   "cell_type": "markdown",
   "id": "da0a614f",
   "metadata": {},
   "source": [
    "Drop any possible duplicates."
   ]
  },
  {
   "cell_type": "code",
   "execution_count": 15,
   "id": "bb79bb8b",
   "metadata": {},
   "outputs": [],
   "source": [
    "df_deliverando.drop_duplicates(inplace=True)\n",
    "df_competition_month1.drop_duplicates(inplace=True)\n",
    "df_competition_month2.drop_duplicates(inplace=True)"
   ]
  },
  {
   "cell_type": "markdown",
   "id": "9e836bed",
   "metadata": {},
   "source": [
    "Stripping string values in 'names' of empty spaces."
   ]
  },
  {
   "cell_type": "code",
   "execution_count": 17,
   "id": "827941ae",
   "metadata": {},
   "outputs": [],
   "source": [
    "df_deliverando['name'] = df_deliverando['name'].str.strip()\n",
    "df_competition_month1['name'] = df_competition_month1['name'].str.strip()\n",
    "df_competition_month2['name'] = df_competition_month2['name'].str.strip()"
   ]
  },
  {
   "cell_type": "markdown",
   "id": "0b7b702d",
   "metadata": {},
   "source": [
    "Some restaurants are present more times, with the same or different ZIP. This is apparently due to restautant chains - see the example below."
   ]
  },
  {
   "cell_type": "code",
   "execution_count": 18,
   "id": "76320f00",
   "metadata": {},
   "outputs": [
    {
     "data": {
      "text/plain": [
       "28"
      ]
     },
     "execution_count": 18,
     "metadata": {},
     "output_type": "execute_result"
    }
   ],
   "source": [
    "df_deliverando['name'].value_counts()['Kleine Brauerei']"
   ]
  },
  {
   "cell_type": "code",
   "execution_count": 19,
   "id": "e42d2bd1",
   "metadata": {
    "collapsed": true
   },
   "outputs": [
    {
     "data": {
      "text/html": [
       "<div>\n",
       "<style scoped>\n",
       "    .dataframe tbody tr th:only-of-type {\n",
       "        vertical-align: middle;\n",
       "    }\n",
       "\n",
       "    .dataframe tbody tr th {\n",
       "        vertical-align: top;\n",
       "    }\n",
       "\n",
       "    .dataframe thead th {\n",
       "        text-align: right;\n",
       "    }\n",
       "</style>\n",
       "<table border=\"1\" class=\"dataframe\">\n",
       "  <thead>\n",
       "    <tr style=\"text-align: right;\">\n",
       "      <th></th>\n",
       "      <th>name</th>\n",
       "      <th>zip</th>\n",
       "      <th>kpi</th>\n",
       "      <th>month_1</th>\n",
       "      <th>month_2</th>\n",
       "      <th>delivery_service</th>\n",
       "    </tr>\n",
       "  </thead>\n",
       "  <tbody>\n",
       "    <tr>\n",
       "      <th>545</th>\n",
       "      <td>Kleine Brauerei</td>\n",
       "      <td>8010</td>\n",
       "      <td># Commissionable Orders</td>\n",
       "      <td>2508.00</td>\n",
       "      <td>2038.00</td>\n",
       "      <td>deliverando</td>\n",
       "    </tr>\n",
       "    <tr>\n",
       "      <th>546</th>\n",
       "      <td>Kleine Brauerei</td>\n",
       "      <td>8010</td>\n",
       "      <td>Avg Basket Size €</td>\n",
       "      <td>21.26</td>\n",
       "      <td>21.85</td>\n",
       "      <td>deliverando</td>\n",
       "    </tr>\n",
       "    <tr>\n",
       "      <th>547</th>\n",
       "      <td>Kleine Brauerei</td>\n",
       "      <td>8010</td>\n",
       "      <td># Negative Comments</td>\n",
       "      <td>12.00</td>\n",
       "      <td>9.00</td>\n",
       "      <td>deliverando</td>\n",
       "    </tr>\n",
       "    <tr>\n",
       "      <th>548</th>\n",
       "      <td>Kleine Brauerei</td>\n",
       "      <td>8010</td>\n",
       "      <td># Positive Comments</td>\n",
       "      <td>1.00</td>\n",
       "      <td>1.00</td>\n",
       "      <td>deliverando</td>\n",
       "    </tr>\n",
       "    <tr>\n",
       "      <th>549</th>\n",
       "      <td>Kleine Brauerei</td>\n",
       "      <td>8010</td>\n",
       "      <td>% Kill Rate</td>\n",
       "      <td>31.00</td>\n",
       "      <td>36.00</td>\n",
       "      <td>deliverando</td>\n",
       "    </tr>\n",
       "    <tr>\n",
       "      <th>550</th>\n",
       "      <td>Kleine Brauerei</td>\n",
       "      <td>8010</td>\n",
       "      <td>Avg Time to Accept (s)</td>\n",
       "      <td>444.00</td>\n",
       "      <td>640.00</td>\n",
       "      <td>deliverando</td>\n",
       "    </tr>\n",
       "    <tr>\n",
       "      <th>551</th>\n",
       "      <td>Kleine Brauerei</td>\n",
       "      <td>8010</td>\n",
       "      <td># Commissionable Orders</td>\n",
       "      <td>1044.00</td>\n",
       "      <td>977.00</td>\n",
       "      <td>deliverando</td>\n",
       "    </tr>\n",
       "    <tr>\n",
       "      <th>552</th>\n",
       "      <td>Kleine Brauerei</td>\n",
       "      <td>8010</td>\n",
       "      <td>Avg Basket Size €</td>\n",
       "      <td>21.76</td>\n",
       "      <td>22.79</td>\n",
       "      <td>deliverando</td>\n",
       "    </tr>\n",
       "    <tr>\n",
       "      <th>553</th>\n",
       "      <td>Kleine Brauerei</td>\n",
       "      <td>8010</td>\n",
       "      <td># Negative Comments</td>\n",
       "      <td>11.00</td>\n",
       "      <td>7.00</td>\n",
       "      <td>deliverando</td>\n",
       "    </tr>\n",
       "    <tr>\n",
       "      <th>555</th>\n",
       "      <td>Kleine Brauerei</td>\n",
       "      <td>8010</td>\n",
       "      <td>% Kill Rate</td>\n",
       "      <td>61.00</td>\n",
       "      <td>0.06</td>\n",
       "      <td>deliverando</td>\n",
       "    </tr>\n",
       "    <tr>\n",
       "      <th>556</th>\n",
       "      <td>Kleine Brauerei</td>\n",
       "      <td>8010</td>\n",
       "      <td>Avg Time to Accept (s)</td>\n",
       "      <td>581.00</td>\n",
       "      <td>730.00</td>\n",
       "      <td>deliverando</td>\n",
       "    </tr>\n",
       "    <tr>\n",
       "      <th>557</th>\n",
       "      <td>Kleine Brauerei</td>\n",
       "      <td>8020</td>\n",
       "      <td># Commissionable Orders</td>\n",
       "      <td>551.00</td>\n",
       "      <td>458.00</td>\n",
       "      <td>deliverando</td>\n",
       "    </tr>\n",
       "    <tr>\n",
       "      <th>558</th>\n",
       "      <td>Kleine Brauerei</td>\n",
       "      <td>8020</td>\n",
       "      <td>Avg Basket Size €</td>\n",
       "      <td>22.58</td>\n",
       "      <td>23.69</td>\n",
       "      <td>deliverando</td>\n",
       "    </tr>\n",
       "    <tr>\n",
       "      <th>559</th>\n",
       "      <td>Kleine Brauerei</td>\n",
       "      <td>8020</td>\n",
       "      <td># Negative Comments</td>\n",
       "      <td>6.00</td>\n",
       "      <td>3.00</td>\n",
       "      <td>deliverando</td>\n",
       "    </tr>\n",
       "    <tr>\n",
       "      <th>560</th>\n",
       "      <td>Kleine Brauerei</td>\n",
       "      <td>8020</td>\n",
       "      <td># Positive Comments</td>\n",
       "      <td>1.00</td>\n",
       "      <td>1.00</td>\n",
       "      <td>deliverando</td>\n",
       "    </tr>\n",
       "    <tr>\n",
       "      <th>561</th>\n",
       "      <td>Kleine Brauerei</td>\n",
       "      <td>8020</td>\n",
       "      <td>% Kill Rate</td>\n",
       "      <td>49.00</td>\n",
       "      <td>0.05</td>\n",
       "      <td>deliverando</td>\n",
       "    </tr>\n",
       "    <tr>\n",
       "      <th>562</th>\n",
       "      <td>Kleine Brauerei</td>\n",
       "      <td>8020</td>\n",
       "      <td>Avg Time to Accept (s)</td>\n",
       "      <td>627.00</td>\n",
       "      <td>905.00</td>\n",
       "      <td>deliverando</td>\n",
       "    </tr>\n",
       "    <tr>\n",
       "      <th>563</th>\n",
       "      <td>Kleine Brauerei</td>\n",
       "      <td>8020</td>\n",
       "      <td># Commissionable Orders</td>\n",
       "      <td>1226.00</td>\n",
       "      <td>1023.00</td>\n",
       "      <td>deliverando</td>\n",
       "    </tr>\n",
       "    <tr>\n",
       "      <th>564</th>\n",
       "      <td>Kleine Brauerei</td>\n",
       "      <td>8020</td>\n",
       "      <td>Avg Basket Size €</td>\n",
       "      <td>21.96</td>\n",
       "      <td>21.88</td>\n",
       "      <td>deliverando</td>\n",
       "    </tr>\n",
       "    <tr>\n",
       "      <th>565</th>\n",
       "      <td>Kleine Brauerei</td>\n",
       "      <td>8020</td>\n",
       "      <td># Negative Comments</td>\n",
       "      <td>7.00</td>\n",
       "      <td>2.00</td>\n",
       "      <td>deliverando</td>\n",
       "    </tr>\n",
       "    <tr>\n",
       "      <th>567</th>\n",
       "      <td>Kleine Brauerei</td>\n",
       "      <td>8020</td>\n",
       "      <td>% Kill Rate</td>\n",
       "      <td>37.00</td>\n",
       "      <td>39.00</td>\n",
       "      <td>deliverando</td>\n",
       "    </tr>\n",
       "    <tr>\n",
       "      <th>568</th>\n",
       "      <td>Kleine Brauerei</td>\n",
       "      <td>8020</td>\n",
       "      <td>Avg Time to Accept (s)</td>\n",
       "      <td>511.00</td>\n",
       "      <td>629.00</td>\n",
       "      <td>deliverando</td>\n",
       "    </tr>\n",
       "    <tr>\n",
       "      <th>766</th>\n",
       "      <td>Kleine Brauerei</td>\n",
       "      <td>8054</td>\n",
       "      <td># Commissionable Orders</td>\n",
       "      <td>1010.00</td>\n",
       "      <td>903.00</td>\n",
       "      <td>deliverando</td>\n",
       "    </tr>\n",
       "    <tr>\n",
       "      <th>767</th>\n",
       "      <td>Kleine Brauerei</td>\n",
       "      <td>8054</td>\n",
       "      <td>Avg Basket Size €</td>\n",
       "      <td>23.97</td>\n",
       "      <td>23.81</td>\n",
       "      <td>deliverando</td>\n",
       "    </tr>\n",
       "    <tr>\n",
       "      <th>768</th>\n",
       "      <td>Kleine Brauerei</td>\n",
       "      <td>8054</td>\n",
       "      <td># Negative Comments</td>\n",
       "      <td>7.00</td>\n",
       "      <td>7.00</td>\n",
       "      <td>deliverando</td>\n",
       "    </tr>\n",
       "    <tr>\n",
       "      <th>769</th>\n",
       "      <td>Kleine Brauerei</td>\n",
       "      <td>8054</td>\n",
       "      <td># Positive Comments</td>\n",
       "      <td>1.00</td>\n",
       "      <td>1.00</td>\n",
       "      <td>deliverando</td>\n",
       "    </tr>\n",
       "    <tr>\n",
       "      <th>770</th>\n",
       "      <td>Kleine Brauerei</td>\n",
       "      <td>8054</td>\n",
       "      <td>% Kill Rate</td>\n",
       "      <td>55.00</td>\n",
       "      <td>58.00</td>\n",
       "      <td>deliverando</td>\n",
       "    </tr>\n",
       "    <tr>\n",
       "      <th>771</th>\n",
       "      <td>Kleine Brauerei</td>\n",
       "      <td>8054</td>\n",
       "      <td>Avg Time to Accept (s)</td>\n",
       "      <td>500.00</td>\n",
       "      <td>501.00</td>\n",
       "      <td>deliverando</td>\n",
       "    </tr>\n",
       "  </tbody>\n",
       "</table>\n",
       "</div>"
      ],
      "text/plain": [
       "                name   zip                      kpi  month_1  month_2  \\\n",
       "545  Kleine Brauerei  8010  # Commissionable Orders  2508.00  2038.00   \n",
       "546  Kleine Brauerei  8010        Avg Basket Size €    21.26    21.85   \n",
       "547  Kleine Brauerei  8010      # Negative Comments    12.00     9.00   \n",
       "548  Kleine Brauerei  8010      # Positive Comments     1.00     1.00   \n",
       "549  Kleine Brauerei  8010              % Kill Rate    31.00    36.00   \n",
       "550  Kleine Brauerei  8010   Avg Time to Accept (s)   444.00   640.00   \n",
       "551  Kleine Brauerei  8010  # Commissionable Orders  1044.00   977.00   \n",
       "552  Kleine Brauerei  8010        Avg Basket Size €    21.76    22.79   \n",
       "553  Kleine Brauerei  8010      # Negative Comments    11.00     7.00   \n",
       "555  Kleine Brauerei  8010              % Kill Rate    61.00     0.06   \n",
       "556  Kleine Brauerei  8010   Avg Time to Accept (s)   581.00   730.00   \n",
       "557  Kleine Brauerei  8020  # Commissionable Orders   551.00   458.00   \n",
       "558  Kleine Brauerei  8020        Avg Basket Size €    22.58    23.69   \n",
       "559  Kleine Brauerei  8020      # Negative Comments     6.00     3.00   \n",
       "560  Kleine Brauerei  8020      # Positive Comments     1.00     1.00   \n",
       "561  Kleine Brauerei  8020              % Kill Rate    49.00     0.05   \n",
       "562  Kleine Brauerei  8020   Avg Time to Accept (s)   627.00   905.00   \n",
       "563  Kleine Brauerei  8020  # Commissionable Orders  1226.00  1023.00   \n",
       "564  Kleine Brauerei  8020        Avg Basket Size €    21.96    21.88   \n",
       "565  Kleine Brauerei  8020      # Negative Comments     7.00     2.00   \n",
       "567  Kleine Brauerei  8020              % Kill Rate    37.00    39.00   \n",
       "568  Kleine Brauerei  8020   Avg Time to Accept (s)   511.00   629.00   \n",
       "766  Kleine Brauerei  8054  # Commissionable Orders  1010.00   903.00   \n",
       "767  Kleine Brauerei  8054        Avg Basket Size €    23.97    23.81   \n",
       "768  Kleine Brauerei  8054      # Negative Comments     7.00     7.00   \n",
       "769  Kleine Brauerei  8054      # Positive Comments     1.00     1.00   \n",
       "770  Kleine Brauerei  8054              % Kill Rate    55.00    58.00   \n",
       "771  Kleine Brauerei  8054   Avg Time to Accept (s)   500.00   501.00   \n",
       "\n",
       "    delivery_service  \n",
       "545      deliverando  \n",
       "546      deliverando  \n",
       "547      deliverando  \n",
       "548      deliverando  \n",
       "549      deliverando  \n",
       "550      deliverando  \n",
       "551      deliverando  \n",
       "552      deliverando  \n",
       "553      deliverando  \n",
       "555      deliverando  \n",
       "556      deliverando  \n",
       "557      deliverando  \n",
       "558      deliverando  \n",
       "559      deliverando  \n",
       "560      deliverando  \n",
       "561      deliverando  \n",
       "562      deliverando  \n",
       "563      deliverando  \n",
       "564      deliverando  \n",
       "565      deliverando  \n",
       "567      deliverando  \n",
       "568      deliverando  \n",
       "766      deliverando  \n",
       "767      deliverando  \n",
       "768      deliverando  \n",
       "769      deliverando  \n",
       "770      deliverando  \n",
       "771      deliverando  "
      ]
     },
     "execution_count": 19,
     "metadata": {},
     "output_type": "execute_result"
    }
   ],
   "source": [
    "df_deliverando[df_deliverando['name']=='Kleine Brauerei']"
   ]
  },
  {
   "cell_type": "markdown",
   "id": "6362e9e4",
   "metadata": {},
   "source": [
    "To perform further analyses, it will be more convenient to have values for both months in one column and each KPI in a separate column - melt and pivot the table. Also, I should distinguish between individual restaurants.\n",
    "\n",
    "First, I make a new column 'franchise' where I will distinguish between multiple occurrences of the same restaurant name within the same ZIP code. By using the .cumcount() method (cummulative count), I can add order of occurrence of the same combination of 'name' and 'kpi'.\n",
    "\n",
    "I also create a column 'franchise_name', consisting of the restaurant name and the order number."
   ]
  },
  {
   "cell_type": "code",
   "execution_count": 20,
   "id": "4318a4ef",
   "metadata": {},
   "outputs": [],
   "source": [
    "df_deliverando['franchise'] = df_deliverando.groupby(['name', 'kpi']).cumcount() + 1\n",
    "    # 'franchise' column (start by 0 by default, add 1)\n",
    "\n",
    "df_deliverando[['zip', 'franchise']] = df_deliverando[['zip', 'franchise']].astype(str)\n",
    "    # converting 'zip' and 'franchise' to strings to use them to make the franchase names\n",
    "\n",
    "df_deliverando['franchise_name'] = df_deliverando['name'] +' '+' No. '+ df_deliverando['franchise']  \n",
    "    # 'franchise_name' column"
   ]
  },
  {
   "cell_type": "markdown",
   "id": "99b8cf22",
   "metadata": {},
   "source": [
    "Melting the table to long format with respect, to 'month_1', 'month_2'."
   ]
  },
  {
   "cell_type": "code",
   "execution_count": 21,
   "id": "72fb5125",
   "metadata": {},
   "outputs": [],
   "source": [
    "df_deliverando_long = pd.melt(df_deliverando, \n",
    "                               id_vars=['name', 'zip', 'delivery_service', 'franchise_name', 'kpi'],\n",
    "                                      # variables not to be considered, identificating rows\n",
    "                               value_vars=['month_1', 'month_2'],   # columns to be melted into one\n",
    "                               var_name='month',   # the name of the new column with original variable names\n",
    "                               value_name='value')   # the name of the new column with values"
   ]
  },
  {
   "cell_type": "markdown",
   "id": "34f11efb",
   "metadata": {},
   "source": [
    "Pivoting the table to wide format with respect to 'kpi'."
   ]
  },
  {
   "cell_type": "code",
   "execution_count": 22,
   "id": "72e55b94",
   "metadata": {},
   "outputs": [],
   "source": [
    "df_deliverando_wide = pd.pivot(df_deliverando_long,\n",
    "                    columns='kpi',   # column to pivot\n",
    "                    index=['franchise_name', 'month'],   # column to be kept, unique restaurant franchise for each row\n",
    "                    values='value')   # column of values to pivot\n",
    "df_deliverando_wide = df_deliverando_wide.reset_index()   # get rid of multicolumn index"
   ]
  },
  {
   "cell_type": "markdown",
   "id": "980bbb4f",
   "metadata": {},
   "source": [
    "Standardize column names."
   ]
  },
  {
   "cell_type": "code",
   "execution_count": 23,
   "id": "6a26b196",
   "metadata": {},
   "outputs": [],
   "source": [
    "df_deliverando_wide.rename(columns={'# Commissionable Orders':'orders', '# Negative Comments':'neg_comments',\\\n",
    "                               '# Positive Comments':'pos_comments', '% Kill Rate':'kill_rate',\\\n",
    "                              'Avg Basket Size €':'avg_basket_size', 'Avg Time to Accept (s)':'avg_acc_time'},\n",
    "                      inplace=True)"
   ]
  },
  {
   "cell_type": "code",
   "execution_count": 24,
   "id": "c8fdbba3",
   "metadata": {},
   "outputs": [
    {
     "data": {
      "text/html": [
       "<div>\n",
       "<style scoped>\n",
       "    .dataframe tbody tr th:only-of-type {\n",
       "        vertical-align: middle;\n",
       "    }\n",
       "\n",
       "    .dataframe tbody tr th {\n",
       "        vertical-align: top;\n",
       "    }\n",
       "\n",
       "    .dataframe thead th {\n",
       "        text-align: right;\n",
       "    }\n",
       "</style>\n",
       "<table border=\"1\" class=\"dataframe\">\n",
       "  <thead>\n",
       "    <tr style=\"text-align: right;\">\n",
       "      <th>kpi</th>\n",
       "      <th>franchise_name</th>\n",
       "      <th>month</th>\n",
       "      <th>orders</th>\n",
       "      <th>neg_comments</th>\n",
       "      <th>pos_comments</th>\n",
       "      <th>kill_rate</th>\n",
       "      <th>avg_basket_size</th>\n",
       "      <th>avg_acc_time</th>\n",
       "    </tr>\n",
       "  </thead>\n",
       "  <tbody>\n",
       "    <tr>\n",
       "      <th>0</th>\n",
       "      <td>Adventurous Brauerei  No. 1</td>\n",
       "      <td>month_1</td>\n",
       "      <td>0.0</td>\n",
       "      <td>0.0</td>\n",
       "      <td>0.0</td>\n",
       "      <td>NaN</td>\n",
       "      <td>NaN</td>\n",
       "      <td>NaN</td>\n",
       "    </tr>\n",
       "    <tr>\n",
       "      <th>1</th>\n",
       "      <td>Adventurous Brauerei  No. 1</td>\n",
       "      <td>month_2</td>\n",
       "      <td>15.0</td>\n",
       "      <td>0.0</td>\n",
       "      <td>0.0</td>\n",
       "      <td>NaN</td>\n",
       "      <td>NaN</td>\n",
       "      <td>NaN</td>\n",
       "    </tr>\n",
       "    <tr>\n",
       "      <th>2</th>\n",
       "      <td>Adventurous Brauhaus  No. 1</td>\n",
       "      <td>month_1</td>\n",
       "      <td>0.0</td>\n",
       "      <td>0.0</td>\n",
       "      <td>0.0</td>\n",
       "      <td>NaN</td>\n",
       "      <td>NaN</td>\n",
       "      <td>NaN</td>\n",
       "    </tr>\n",
       "    <tr>\n",
       "      <th>3</th>\n",
       "      <td>Adventurous Brauhaus  No. 1</td>\n",
       "      <td>month_2</td>\n",
       "      <td>102.0</td>\n",
       "      <td>0.0</td>\n",
       "      <td>1.0</td>\n",
       "      <td>NaN</td>\n",
       "      <td>NaN</td>\n",
       "      <td>NaN</td>\n",
       "    </tr>\n",
       "    <tr>\n",
       "      <th>4</th>\n",
       "      <td>Adventurous Rathskeller  No. 1</td>\n",
       "      <td>month_1</td>\n",
       "      <td>0.0</td>\n",
       "      <td>0.0</td>\n",
       "      <td>0.0</td>\n",
       "      <td>NaN</td>\n",
       "      <td>NaN</td>\n",
       "      <td>NaN</td>\n",
       "    </tr>\n",
       "    <tr>\n",
       "      <th>5</th>\n",
       "      <td>Adventurous Rathskeller  No. 1</td>\n",
       "      <td>month_2</td>\n",
       "      <td>0.0</td>\n",
       "      <td>0.0</td>\n",
       "      <td>0.0</td>\n",
       "      <td>NaN</td>\n",
       "      <td>NaN</td>\n",
       "      <td>NaN</td>\n",
       "    </tr>\n",
       "  </tbody>\n",
       "</table>\n",
       "</div>"
      ],
      "text/plain": [
       "kpi                  franchise_name    month  orders  neg_comments  \\\n",
       "0       Adventurous Brauerei  No. 1  month_1     0.0           0.0   \n",
       "1       Adventurous Brauerei  No. 1  month_2    15.0           0.0   \n",
       "2       Adventurous Brauhaus  No. 1  month_1     0.0           0.0   \n",
       "3       Adventurous Brauhaus  No. 1  month_2   102.0           0.0   \n",
       "4    Adventurous Rathskeller  No. 1  month_1     0.0           0.0   \n",
       "5    Adventurous Rathskeller  No. 1  month_2     0.0           0.0   \n",
       "\n",
       "kpi  pos_comments  kill_rate  avg_basket_size  avg_acc_time  \n",
       "0             0.0        NaN              NaN           NaN  \n",
       "1             0.0        NaN              NaN           NaN  \n",
       "2             0.0        NaN              NaN           NaN  \n",
       "3             1.0        NaN              NaN           NaN  \n",
       "4             0.0        NaN              NaN           NaN  \n",
       "5             0.0        NaN              NaN           NaN  "
      ]
     },
     "execution_count": 24,
     "metadata": {},
     "output_type": "execute_result"
    }
   ],
   "source": [
    "df_deliverando_wide.head(6)"
   ]
  },
  {
   "cell_type": "markdown",
   "id": "c506f61c",
   "metadata": {},
   "source": [
    "## Analysis and Visualizations: Deliverando KPI's  <a id='kpi'></a>"
   ]
  },
  {
   "cell_type": "markdown",
   "id": "0380a3c9",
   "metadata": {},
   "source": [
    "See some basic statistics.\n",
    "\n",
    "As we can see, the maximum number of positive comments for a particular restaurant was 1. The data is apparently wrong and I will not proceed with further analyses of positive comments.\n",
    "\n",
    "Moreover, the kill rate, which should be expressed in percentage, reaches up to 231."
   ]
  },
  {
   "cell_type": "code",
   "execution_count": 25,
   "id": "924a3ca7",
   "metadata": {},
   "outputs": [
    {
     "data": {
      "text/html": [
       "<div>\n",
       "<style scoped>\n",
       "    .dataframe tbody tr th:only-of-type {\n",
       "        vertical-align: middle;\n",
       "    }\n",
       "\n",
       "    .dataframe tbody tr th {\n",
       "        vertical-align: top;\n",
       "    }\n",
       "\n",
       "    .dataframe thead th {\n",
       "        text-align: right;\n",
       "    }\n",
       "</style>\n",
       "<table border=\"1\" class=\"dataframe\">\n",
       "  <thead>\n",
       "    <tr style=\"text-align: right;\">\n",
       "      <th>kpi</th>\n",
       "      <th>orders</th>\n",
       "      <th>neg_comments</th>\n",
       "      <th>pos_comments</th>\n",
       "      <th>kill_rate</th>\n",
       "      <th>avg_basket_size</th>\n",
       "      <th>avg_acc_time</th>\n",
       "    </tr>\n",
       "  </thead>\n",
       "  <tbody>\n",
       "    <tr>\n",
       "      <th>count</th>\n",
       "      <td>670.000000</td>\n",
       "      <td>668.000000</td>\n",
       "      <td>658.000000</td>\n",
       "      <td>430.000000</td>\n",
       "      <td>428.000000</td>\n",
       "      <td>428.000000</td>\n",
       "    </tr>\n",
       "    <tr>\n",
       "      <th>mean</th>\n",
       "      <td>162.828358</td>\n",
       "      <td>0.869760</td>\n",
       "      <td>0.594225</td>\n",
       "      <td>73.618721</td>\n",
       "      <td>20.787033</td>\n",
       "      <td>280.032710</td>\n",
       "    </tr>\n",
       "    <tr>\n",
       "      <th>std</th>\n",
       "      <td>318.821131</td>\n",
       "      <td>1.935105</td>\n",
       "      <td>0.491415</td>\n",
       "      <td>42.963620</td>\n",
       "      <td>5.260632</td>\n",
       "      <td>255.123754</td>\n",
       "    </tr>\n",
       "    <tr>\n",
       "      <th>min</th>\n",
       "      <td>0.000000</td>\n",
       "      <td>0.000000</td>\n",
       "      <td>0.000000</td>\n",
       "      <td>0.000000</td>\n",
       "      <td>8.750000</td>\n",
       "      <td>9.000000</td>\n",
       "    </tr>\n",
       "    <tr>\n",
       "      <th>25%</th>\n",
       "      <td>0.000000</td>\n",
       "      <td>0.000000</td>\n",
       "      <td>0.000000</td>\n",
       "      <td>47.000000</td>\n",
       "      <td>17.177500</td>\n",
       "      <td>18.000000</td>\n",
       "    </tr>\n",
       "    <tr>\n",
       "      <th>50%</th>\n",
       "      <td>38.000000</td>\n",
       "      <td>0.000000</td>\n",
       "      <td>1.000000</td>\n",
       "      <td>74.000000</td>\n",
       "      <td>20.810000</td>\n",
       "      <td>321.000000</td>\n",
       "    </tr>\n",
       "    <tr>\n",
       "      <th>75%</th>\n",
       "      <td>160.000000</td>\n",
       "      <td>1.000000</td>\n",
       "      <td>1.000000</td>\n",
       "      <td>98.000000</td>\n",
       "      <td>24.222500</td>\n",
       "      <td>465.250000</td>\n",
       "    </tr>\n",
       "    <tr>\n",
       "      <th>max</th>\n",
       "      <td>2508.000000</td>\n",
       "      <td>13.000000</td>\n",
       "      <td>1.000000</td>\n",
       "      <td>231.000000</td>\n",
       "      <td>43.100000</td>\n",
       "      <td>1951.000000</td>\n",
       "    </tr>\n",
       "  </tbody>\n",
       "</table>\n",
       "</div>"
      ],
      "text/plain": [
       "kpi         orders  neg_comments  pos_comments   kill_rate  avg_basket_size  \\\n",
       "count   670.000000    668.000000    658.000000  430.000000       428.000000   \n",
       "mean    162.828358      0.869760      0.594225   73.618721        20.787033   \n",
       "std     318.821131      1.935105      0.491415   42.963620         5.260632   \n",
       "min       0.000000      0.000000      0.000000    0.000000         8.750000   \n",
       "25%       0.000000      0.000000      0.000000   47.000000        17.177500   \n",
       "50%      38.000000      0.000000      1.000000   74.000000        20.810000   \n",
       "75%     160.000000      1.000000      1.000000   98.000000        24.222500   \n",
       "max    2508.000000     13.000000      1.000000  231.000000        43.100000   \n",
       "\n",
       "kpi    avg_acc_time  \n",
       "count    428.000000  \n",
       "mean     280.032710  \n",
       "std      255.123754  \n",
       "min        9.000000  \n",
       "25%       18.000000  \n",
       "50%      321.000000  \n",
       "75%      465.250000  \n",
       "max     1951.000000  "
      ]
     },
     "execution_count": 25,
     "metadata": {},
     "output_type": "execute_result"
    }
   ],
   "source": [
    "df_deliverando_wide.describe()"
   ]
  },
  {
   "cell_type": "markdown",
   "id": "875d056c",
   "metadata": {},
   "source": [
    "**Commissionable orders in June and July**"
   ]
  },
  {
   "cell_type": "markdown",
   "id": "0de48984",
   "metadata": {},
   "source": [
    "Calculate the change of total orders between the two months."
   ]
  },
  {
   "cell_type": "code",
   "execution_count": 26,
   "id": "5a3f1c83",
   "metadata": {},
   "outputs": [
    {
     "name": "stdout",
     "output_type": "stream",
     "text": [
      "53478.0 55617.0 3.9997756086615155\n"
     ]
    }
   ],
   "source": [
    "orders_sum_m1 = df_deliverando_wide[df_deliverando_wide['month']=='month_1']['orders'].sum()\n",
    "orders_sum_m2 = df_deliverando_wide[df_deliverando_wide['month']=='month_2']['orders'].sum()\n",
    "orders_growth_percent = (orders_sum_m2/orders_sum_m1-1)*100\n",
    "print(orders_sum_m1, orders_sum_m2, orders_growth_percent)"
   ]
  },
  {
   "cell_type": "markdown",
   "id": "746c4847",
   "metadata": {},
   "source": [
    "**Negative comments**"
   ]
  },
  {
   "cell_type": "markdown",
   "id": "2f892d78",
   "metadata": {},
   "source": [
    "Calculate the change of total negative comments between the two months."
   ]
  },
  {
   "cell_type": "code",
   "execution_count": 27,
   "id": "84f67b2a",
   "metadata": {},
   "outputs": [
    {
     "name": "stdout",
     "output_type": "stream",
     "text": [
      "280.0 301.0 7.499999999999996\n"
     ]
    }
   ],
   "source": [
    "neg_comm_m1 = df_deliverando_wide[df_deliverando_wide['month']=='month_1']['neg_comments'].sum()\n",
    "neg_comm_m2 = df_deliverando_wide[df_deliverando_wide['month']=='month_2']['neg_comments'].sum()\n",
    "neg_comm_growth_percent = (neg_comm_m2/neg_comm_m1-1)*100\n",
    "print(neg_comm_m1, neg_comm_m2, neg_comm_growth_percent)"
   ]
  },
  {
   "cell_type": "markdown",
   "id": "eeeca4c8",
   "metadata": {},
   "source": [
    "Visualization - 2 bars showing the numbers for both months."
   ]
  },
  {
   "cell_type": "code",
   "execution_count": 59,
   "id": "40468990",
   "metadata": {},
   "outputs": [
    {
     "data": {
      "image/png": "[encoded data removed]",
      "text/plain": [
       "<Figure size 640x480 with 1 Axes>"
      ]
     },
     "metadata": {},
     "output_type": "display_data"
    }
   ],
   "source": [
    "# new list with numbers to plot (1 row, 2 columns/numbers)\n",
    "neg_comm_m1 = round(neg_comm_m1)   # convert the grouping result (Pandas Series) to float\n",
    "neg_comm_m2 = round(neg_comm_m2)   # convert the grouping result (Pandas Series) to float\n",
    "df_neg_comm = [neg_comm_m1, neg_comm_m2]   # prepare the list\n",
    "\n",
    "# Seaborn style to get the grid\n",
    "sns.set(style='whitegrid')\n",
    "\n",
    "# some more aesthetics\n",
    "labels = ['June', 'July']   # labels for x axis (set below)\n",
    "colors = ['#fc8d62', '#fc8d62']  # custom color to fit the presentation design\n",
    "\n",
    "# create bar plot\n",
    "sns.barplot(x=labels, y=df_neg_comm, palette=colors)\n",
    "\n",
    "# labels on top of the bars\n",
    "for index, value in enumerate(df_neg_comm):\n",
    "    plt.text(index, value + 1, f'{value}', ha='center', va='bottom', fontsize=12, fontweight='bold')\n",
    "\n",
    "# axes labels and title\n",
    "plt.xlabel('Month', fontsize=12)\n",
    "plt.ylabel('Negative comments', fontsize=12)\n",
    "plt.title('Increase in Negative Comments', fontsize=14, fontweight='bold')\n",
    "\n",
    "# change y range\n",
    "plt.ylim(0, max(df_neg_comm) + 30)\n",
    "\n",
    "# save and/or display the plot\n",
    "# plt.savefig('../vizzes/neg_comm_plot.png', dpi=300)\n",
    "plt.show()"
   ]
  },
  {
   "cell_type": "markdown",
   "id": "511284aa",
   "metadata": {},
   "source": [
    "**Kill rate**"
   ]
  },
  {
   "cell_type": "markdown",
   "id": "25b10813",
   "metadata": {},
   "source": [
    "There is 102 entries with kill rate over 100% out of 670:"
   ]
  },
  {
   "cell_type": "code",
   "execution_count": 29,
   "id": "fcf8dc06",
   "metadata": {},
   "outputs": [
    {
     "name": "stdout",
     "output_type": "stream",
     "text": [
      "(670, 8)\n",
      "(102, 8)\n"
     ]
    }
   ],
   "source": [
    "print(df_deliverando_wide.shape)\n",
    "print(df_deliverando_wide[df_deliverando_wide['kill_rate']>100].shape)"
   ]
  },
  {
   "cell_type": "markdown",
   "id": "a80f397f",
   "metadata": {},
   "source": [
    "I decided to continue analyzing the kill rate. However, I dropped the lines with values exceeding 100%."
   ]
  },
  {
   "cell_type": "code",
   "execution_count": 30,
   "id": "afb2dfa6",
   "metadata": {},
   "outputs": [],
   "source": [
    "df_kill_rate = df_deliverando_wide.loc[~(df_deliverando_wide['kill_rate']>100)]\n",
    "df_kill_rate.reset_index(drop=True, inplace=True)"
   ]
  },
  {
   "cell_type": "markdown",
   "id": "ba4b6824",
   "metadata": {},
   "source": [
    "Calculate the change of average kill rate between the two months."
   ]
  },
  {
   "cell_type": "code",
   "execution_count": 31,
   "id": "562775b2",
   "metadata": {
    "scrolled": true
   },
   "outputs": [
    {
     "name": "stdout",
     "output_type": "stream",
     "text": [
      "56.88325 55.51029761904762 -2.41363209899641\n"
     ]
    }
   ],
   "source": [
    "kill_rate_avg_m1 = df_kill_rate[df_kill_rate['month']=='month_1']['kill_rate'].mean()\n",
    "kill_rate_avg_m2 = df_kill_rate[df_kill_rate['month']=='month_2']['kill_rate'].mean()\n",
    "kill_rate_avg_ratio = (kill_rate_avg_m2/kill_rate_avg_m1-1)*100\n",
    "print(kill_rate_avg_m1, kill_rate_avg_m2, kill_rate_avg_ratio)"
   ]
  },
  {
   "cell_type": "markdown",
   "id": "fd47aae4",
   "metadata": {},
   "source": [
    "Visualization - 2 bars showing the numbers for both months."
   ]
  },
  {
   "cell_type": "code",
   "execution_count": 60,
   "id": "d6cb8897",
   "metadata": {},
   "outputs": [
    {
     "data": {
      "image/png": "[encoded data removed]",
      "text/plain": [
       "<Figure size 640x480 with 1 Axes>"
      ]
     },
     "metadata": {},
     "output_type": "display_data"
    }
   ],
   "source": [
    "# new list with numbers to plot (1 row, 2 columns/numbers)\n",
    "kill_rate_avg_m1 = round(kill_rate_avg_m1, 1)   # convert the grouping result (Pandas Series) to float\n",
    "kill_rate_avg_m2 = round(kill_rate_avg_m2, 1)   # convert the grouping result (Pandas Series) to float\n",
    "df_plot_kill_rate = [kill_rate_avg_m1, kill_rate_avg_m2]   # prepare the list\n",
    "\n",
    "# Seaborn style to get the grid (not needed if executed before)\n",
    "# sns.set(style='whitegrid')\n",
    "\n",
    "# some more aesthetics\n",
    "labels = ['June', 'July']   # labels for x axis (set below)\n",
    "colors = ['#849f27', '#849f27']  # custom color to fit the presentation design\n",
    "\n",
    "# create bar plot\n",
    "sns.barplot(x=labels, y=df_plot_kill_rate, palette=colors)\n",
    "\n",
    "# labels on top of the bars\n",
    "for index, value in enumerate(df_plot_kill_rate):\n",
    "    plt.text(index, value + 1, f'{value}%', ha='center', va='bottom', fontsize=12, fontweight='bold')\n",
    "\n",
    "# axes labels and title\n",
    "plt.xlabel('Month', fontsize=12)\n",
    "plt.ylabel('Average kill rate (%)', fontsize=12)\n",
    "plt.title('Kill Rate Increase', fontsize=14, fontweight='bold')\n",
    "\n",
    "# change y range\n",
    "plt.ylim(0, max(df_plot_kill_rate) + 10)\n",
    "\n",
    "# save and/or display the plot\n",
    "# plt.savefig('../vizzes/kill_rate_plot.png', dpi=300)\n",
    "plt.show()"
   ]
  },
  {
   "cell_type": "markdown",
   "id": "2b7df27a",
   "metadata": {},
   "source": [
    "**Average time to accept**"
   ]
  },
  {
   "cell_type": "markdown",
   "id": "1a52a2d8",
   "metadata": {},
   "source": [
    "Create a new data frame for calculation of weighted averages to investigate about the change in Time to Accept.\n",
    "\n",
    "Choose the relevant columns."
   ]
  },
  {
   "cell_type": "code",
   "execution_count": 33,
   "id": "19ad41fd",
   "metadata": {},
   "outputs": [],
   "source": [
    "df_time = df_deliverando_wide[['franchise_name', 'month', 'orders', 'avg_acc_time']]"
   ]
  },
  {
   "cell_type": "markdown",
   "id": "d99ca004",
   "metadata": {},
   "source": [
    "Multiply number of orders by average time to accept of respective restaurant and month."
   ]
  },
  {
   "cell_type": "code",
   "execution_count": 34,
   "id": "540c5bc4",
   "metadata": {},
   "outputs": [
    {
     "name": "stderr",
     "output_type": "stream",
     "text": [
      "C:\\Users\\radek\\AppData\\Local\\Temp\\ipykernel_13524\\1342905669.py:1: SettingWithCopyWarning: \n",
      "A value is trying to be set on a copy of a slice from a DataFrame.\n",
      "Try using .loc[row_indexer,col_indexer] = value instead\n",
      "\n",
      "See the caveats in the documentation: https://pandas.pydata.org/pandas-docs/stable/user_guide/indexing.html#returning-a-view-versus-a-copy\n",
      "  df_time['product'] = df_time['orders']*df_time['avg_acc_time']\n"
     ]
    }
   ],
   "source": [
    "df_time['product'] = df_time['orders']*df_time['avg_acc_time']"
   ]
  },
  {
   "cell_type": "markdown",
   "id": "1a7d73a0",
   "metadata": {},
   "source": [
    "Calculate the change of average time to accept between the two months. The time slightly decreased."
   ]
  },
  {
   "cell_type": "code",
   "execution_count": 35,
   "id": "6c3641a6",
   "metadata": {
    "scrolled": true
   },
   "outputs": [
    {
     "name": "stdout",
     "output_type": "stream",
     "text": [
      "197.36499121133923 195.65510545336858 -0.8663571728076636\n"
     ]
    }
   ],
   "source": [
    "acc_time_avg_m1 = df_time[df_time['month']=='month_1']['product'].sum()/\\\n",
    "df_time[df_time['month']=='month_1']['orders'].sum()\n",
    "    # weighted average for June\n",
    "\n",
    "acc_time_avg_m2 = df_time[df_time['month']=='month_2']['product'].sum()/\\\n",
    "df_time[df_time['month']=='month_2']['orders'].sum()\n",
    "    # weighted average for July\n",
    "\n",
    "acc_time_avg_ratio = (acc_time_avg_m2/acc_time_avg_m1-1)*100\n",
    "print(acc_time_avg_m1, acc_time_avg_m2, acc_time_avg_ratio)"
   ]
  },
  {
   "cell_type": "markdown",
   "id": "318e8470",
   "metadata": {},
   "source": [
    "Let's see how much absolute time we saved for all the customers overall. This time, we calculate sums of the numerical products only. The total saved time is 327,065 s, which is approx 3.8 days."
   ]
  },
  {
   "cell_type": "code",
   "execution_count": 36,
   "id": "53cc676e",
   "metadata": {},
   "outputs": [
    {
     "name": "stdout",
     "output_type": "stream",
     "text": [
      "10554685.0 10881750.0 327065.0\n"
     ]
    }
   ],
   "source": [
    "acc_time_sum_m1 = df_time[df_time['month']=='month_1']['product'].sum()\n",
    "acc_time_sum_m2 = df_time[df_time['month']=='month_2']['product'].sum()\n",
    "acc_time_avg_diff = acc_time_sum_m2 - acc_time_sum_m1\n",
    "print(acc_time_sum_m1, acc_time_sum_m2, acc_time_avg_diff)"
   ]
  },
  {
   "cell_type": "markdown",
   "id": "8fb4d4d8",
   "metadata": {},
   "source": [
    "Visualization - 2 bars showing the numbers for both months."
   ]
  },
  {
   "cell_type": "code",
   "execution_count": 61,
   "id": "8e15b520",
   "metadata": {},
   "outputs": [
    {
     "data": {
      "image/png": "[encoded data removed]",
      "text/plain": [
       "<Figure size 640x480 with 1 Axes>"
      ]
     },
     "metadata": {},
     "output_type": "display_data"
    }
   ],
   "source": [
    "# new list with numbers to plot (1 row, 2 columns/numbers)\n",
    "df_plot_acc_time = [round(acc_time_avg_m1), round(acc_time_avg_m2)]   # prepare the list\n",
    "\n",
    "# Seaborn style to get the grid (not needed if executed before)\n",
    "# sns.set(style='whitegrid')\n",
    "\n",
    "# some more aesthetics\n",
    "labels = ['June', 'July']   # labels for x axis (set below)\n",
    "colors = ['#849f27', '#849f27']  # custom color to fit the presentation design\n",
    "\n",
    "# create bar plot\n",
    "sns.barplot(x=labels, y=df_plot_acc_time, palette=colors)\n",
    "\n",
    "# labels on top of the bars\n",
    "for index, value in enumerate(df_plot_acc_time):\n",
    "    plt.text(index, value + 1, f'{value} s', ha='center', va='bottom', fontsize=12, fontweight='bold')\n",
    "\n",
    "# axes labels and title\n",
    "plt.xlabel('Month', fontsize=12)\n",
    "plt.ylabel('Average time to accept (s)', fontsize=12)\n",
    "plt.title('Decrease in Time to Accept', fontsize=14, fontweight='bold')\n",
    "\n",
    "# change y range\n",
    "plt.ylim(0, max(df_plot_acc_time) + 30)\n",
    "\n",
    "# save and/or display the plot\n",
    "# plt.savefig('../vizzes/acc_time_plot.png', dpi=300)\n",
    "plt.show()"
   ]
  },
  {
   "cell_type": "markdown",
   "id": "3c2a6958",
   "metadata": {},
   "source": [
    "**Average basket size**"
   ]
  },
  {
   "cell_type": "markdown",
   "id": "8f3292a2",
   "metadata": {},
   "source": [
    "Create a new data frame for calculation of weighted averages to investigate about the change in Average Basket Size.\n",
    "\n",
    "Choose the relevant columns."
   ]
  },
  {
   "cell_type": "code",
   "execution_count": 38,
   "id": "86a05b1e",
   "metadata": {},
   "outputs": [],
   "source": [
    "df_basket = df_deliverando_wide[['franchise_name', 'month', 'orders', 'avg_basket_size']]"
   ]
  },
  {
   "cell_type": "markdown",
   "id": "5f7ec289",
   "metadata": {},
   "source": [
    "Multiply number of orders by average basket size of respective restaurant and month."
   ]
  },
  {
   "cell_type": "code",
   "execution_count": 39,
   "id": "1393bfc7",
   "metadata": {
    "scrolled": true
   },
   "outputs": [
    {
     "name": "stderr",
     "output_type": "stream",
     "text": [
      "C:\\Users\\radek\\AppData\\Local\\Temp\\ipykernel_13524\\1682125095.py:1: SettingWithCopyWarning: \n",
      "A value is trying to be set on a copy of a slice from a DataFrame.\n",
      "Try using .loc[row_indexer,col_indexer] = value instead\n",
      "\n",
      "See the caveats in the documentation: https://pandas.pydata.org/pandas-docs/stable/user_guide/indexing.html#returning-a-view-versus-a-copy\n",
      "  df_basket['product'] = df_basket['orders']*df_basket['avg_basket_size']\n"
     ]
    }
   ],
   "source": [
    "df_basket['product'] = df_basket['orders']*df_basket['avg_basket_size']"
   ]
  },
  {
   "cell_type": "markdown",
   "id": "63f8cf8e",
   "metadata": {},
   "source": [
    "Calculate the change of average basket size between the two months. We can see a tiny decrease of about 5 cents per average."
   ]
  },
  {
   "cell_type": "code",
   "execution_count": 40,
   "id": "b5af819a",
   "metadata": {
    "scrolled": true
   },
   "outputs": [
    {
     "name": "stdout",
     "output_type": "stream",
     "text": [
      "21.384835820337337 21.374846899329338 -0.04671030019551825\n"
     ]
    }
   ],
   "source": [
    "avg_basket_m1 = df_basket[df_basket['month']=='month_1']['product'].sum()/\\\n",
    "df_basket[df_basket['month']=='month_1']['orders'].sum()\n",
    "    # weighted average for June\n",
    "\n",
    "avg_basket_m2 = df_basket[df_basket['month']=='month_2']['product'].sum()/\\\n",
    "df_basket[df_basket['month']=='month_2']['orders'].sum()\n",
    "    # weighted average for July\n",
    "\n",
    "avg_basket_ratio = (avg_basket_m2/avg_basket_m1-1)*100\n",
    "print(avg_basket_m1, avg_basket_m2, avg_basket_ratio)"
   ]
  },
  {
   "cell_type": "markdown",
   "id": "d1dfd2a0",
   "metadata": {},
   "source": [
    "**Let us calculate an important parameter: the sales for both months.**\n",
    "\n",
    "I continue the above calculation but only considedr the sums of products now. We can see that despite the tiny change in average basket size,  the sales rose by about €45,000."
   ]
  },
  {
   "cell_type": "code",
   "execution_count": 41,
   "id": "d852849e",
   "metadata": {},
   "outputs": [
    {
     "name": "stdout",
     "output_type": "stream",
     "text": [
      "1143618.25 1188804.8599999999 45186.60999999987\n"
     ]
    }
   ],
   "source": [
    "sales_m1 = df_basket[df_basket['month']=='month_1']['product'].sum()\n",
    "sales_m2 = df_basket[df_basket['month']=='month_2']['product'].sum()\n",
    "sales_diff = sales_m2 - sales_m1\n",
    "print(sales_m1, sales_m2, sales_diff)"
   ]
  },
  {
   "cell_type": "markdown",
   "id": "8ff3d93c",
   "metadata": {},
   "source": [
    "Visualization - 2 bars showing the sales for both months."
   ]
  },
  {
   "cell_type": "code",
   "execution_count": 84,
   "id": "78019201",
   "metadata": {},
   "outputs": [
    {
     "data": {
      "image/png": "[encoded data removed]",
      "text/plain": [
       "<Figure size 640x480 with 1 Axes>"
      ]
     },
     "metadata": {},
     "output_type": "display_data"
    }
   ],
   "source": [
    "# new list with numbers to plot (1 row, 2 columns/numbers)\n",
    "df_plot_basket = [round(sales_m1/1000000, 3), round(sales_m2/1000000, 3)]   # prepare the list\n",
    "\n",
    "# Seaborn style to get the grid (not needed if executed before)\n",
    "# sns.set(style='whitegrid')\n",
    "\n",
    "# some more aesthetics\n",
    "labels = ['June', 'July']   # labels for x axis (set below)\n",
    "colors = ['#849f27', '#849f27']  # custom color to fit the presentation design\n",
    "\n",
    "# create bar plot\n",
    "sns.barplot(x=labels, y=df_plot_basket, palette=colors)\n",
    "\n",
    "# labels on top of the bars\n",
    "for index, value in enumerate(df_plot_basket):\n",
    "    plt.text(index, value, f'{value} mil. €', ha='center', va='bottom', fontsize=12, fontweight='bold')\n",
    "\n",
    "# axes labels and title\n",
    "plt.xlabel('Month', fontsize=12)\n",
    "plt.ylabel('Sales (mil. €)', fontsize=12)\n",
    "plt.title('Increase in Sales', fontsize=14, fontweight='bold')\n",
    "\n",
    "# change y range\n",
    "plt.ylim(0, 1.35)\n",
    "\n",
    "# save and/or display the plot\n",
    "# plt.savefig('../vizzes/sales_plot.png', dpi=300)\n",
    "plt.show()"
   ]
  },
  {
   "cell_type": "markdown",
   "id": "bc11c4bb",
   "metadata": {},
   "source": [
    "## Further research questions <a id='further'></a>"
   ]
  },
  {
   "cell_type": "markdown",
   "id": "00bc8ee0",
   "metadata": {},
   "source": [
    "### 1. How many restaurants are active on Deliverando or our competitors in the given months?\n",
    "### *+ How much have the respective platforms grown?*"
   ]
  },
  {
   "cell_type": "markdown",
   "id": "04dbf961",
   "metadata": {},
   "source": [
    "We need to specify, whether we are interested in the number of restaurant compenies (chains) or individual locations (franchices). I decided to focus on the number of companies so I use the original 'df_deliverando' in this section."
   ]
  },
  {
   "cell_type": "code",
   "execution_count": 42,
   "id": "1139b096",
   "metadata": {},
   "outputs": [
    {
     "name": "stdout",
     "output_type": "stream",
     "text": [
      "Deliverando: 212 restaurants in Month 1, 217 restaurants in Month 2 (growth of 2.4 %).\n",
      "Competition: 266 restaurants in Month 1, 276 restaurants in Month 2 (growth of 3.8 %).\n"
     ]
    }
   ],
   "source": [
    "no_deliverando_m1 = df_deliverando[(df_deliverando['kpi']=='# Commissionable Orders') &\\\n",
    "                                   (df_deliverando['month_1']>0)]['name'].nunique()\n",
    "                                    # unique restaurant names with non-zero orders in the given month\n",
    "no_deliverando_m2 = df_deliverando[(df_deliverando['kpi']=='# Commissionable Orders') &\\\n",
    "                                   (df_deliverando['month_2']>0)]['name'].nunique()\n",
    "growth_deliverando = round((no_deliverando_m2/no_deliverando_m1-1)*100, 1)\n",
    "print(f'Deliverando: {no_deliverando_m1} restaurants in Month 1, {no_deliverando_m2} restaurants in Month 2 \\\n",
    "(growth of {growth_deliverando} %).')\n",
    "\n",
    "no_competition_m1 = df_competition_month1[df_competition_month1['orders']>0]['name'].nunique()\n",
    "no_competition_m2 = df_competition_month2[df_competition_month2['orders']>0]['name'].nunique()\n",
    "growth_competition = round((no_competition_m2/no_competition_m1-1)*100, 1)\n",
    "print(f'Competition: {no_competition_m1} restaurants in Month 1, {no_competition_m2} restaurants in Month 2 \\\n",
    "(growth of {growth_competition} %).')\n"
   ]
  },
  {
   "cell_type": "markdown",
   "id": "5930524d",
   "metadata": {},
   "source": [
    "Plot the results as pie charts."
   ]
  },
  {
   "cell_type": "code",
   "execution_count": 85,
   "id": "ecfd001b",
   "metadata": {},
   "outputs": [
    {
     "data": {
      "image/png": "[encoded data removed]",
      "text/plain": [
       "<Figure size 1200x600 with 2 Axes>"
      ]
     },
     "metadata": {},
     "output_type": "display_data"
    }
   ],
   "source": [
    "# lists of values to plot\n",
    "restaurants_month1 = [no_deliverando_m1, no_competition_m1]\n",
    "restaurants_month2 = [no_deliverando_m2, no_competition_m2]\n",
    "\n",
    "# some more aesthetics\n",
    "companies = ['Deliverando', 'Competition']   # labels\n",
    "colors = ['#849f27', '#fc8d62']\n",
    "sns.set(font_scale=1.5)   # set font size to double\n",
    "\n",
    "# figure with 2 subplots, one for each month\n",
    "# facecolor for background, gridspec_kw sets the separation of both subplots\n",
    "fig, axs = plt.subplots(1, 2, figsize=(12, 6), facecolor='#d9d9d9', gridspec_kw={'wspace': 0.4})\n",
    "\n",
    "# pie chart for June\n",
    "axs[0].pie(restaurants_month1, labels=companies, autopct='%1.1f%%', startangle=90, colors=colors)\n",
    "axs[0].set_title('June')\n",
    "\n",
    "# pie chart for July\n",
    "axs[1].pie(restaurants_month2, labels=companies, autopct='%1.1f%%', startangle=90, colors=colors)\n",
    "axs[1].set_title('July')\n",
    "\n",
    "# save and/or display the plot\n",
    "# plt.savefig('../vizzes/comparison_pie.png', dpi=300)\n",
    "plt.show()"
   ]
  },
  {
   "cell_type": "markdown",
   "id": "fdfd1855",
   "metadata": {},
   "source": [
    "To now if we should worry about the trend of growing share market of the population, we need to specify the significance level which is interesting for us. Commonly, we use 5 % certainty. In that case, our p-value is smaller and therefore the result is statistically significant."
   ]
  },
  {
   "cell_type": "code",
   "execution_count": 44,
   "id": "e960b013",
   "metadata": {
    "scrolled": false
   },
   "outputs": [
    {
     "name": "stdout",
     "output_type": "stream",
     "text": [
      "-10.107027258299048 0.009647892787967403\n"
     ]
    }
   ],
   "source": [
    "# prepare the data to compare\n",
    "data = pd.DataFrame([[no_deliverando_m1, no_competition_m1],[no_deliverando_m2, no_competition_m2]])\n",
    "\n",
    "# t-test (A/B test) to determine statistical significance of the shift\n",
    "test_statistic, pvalue = stats.ttest_ind(data[0], data[1])\n",
    "print (test_statistic, pvalue)"
   ]
  },
  {
   "cell_type": "markdown",
   "id": "ade7d4b6",
   "metadata": {},
   "source": [
    "### 2. How many restaurants are exclusively online with our competitors and not available on deliverando?"
   ]
  },
  {
   "cell_type": "markdown",
   "id": "28732710",
   "metadata": {},
   "source": [
    "Find out what is the set difference between the restaurants registered on both platforms."
   ]
  },
  {
   "cell_type": "code",
   "execution_count": 45,
   "id": "6f0f1bd7",
   "metadata": {},
   "outputs": [
    {
     "name": "stdout",
     "output_type": "stream",
     "text": [
      "There are 118 restaurants solely on competing platforms.\n",
      "These are: Alpine Burg, Bauer Taverne, Berg Alm, Bergdorf Palast, Blaue Schlemmerparadies, Blaue Schmiede, Blauer Hofladen, Blumen Brauhaus, Blumen Dorf, Blumen Hütte, Bunte Alm, Bunte Stuben, Bustling Pizzeria, Bustling Weinbistro, Bustling Winkel, Countrified Feuerstelle, Edelweiß Ratsstube, Edelweiß Stuben, Ehrwürdige Brauerei, Ehrwürdige Gastgewölbe, Ehrwürdige Jausenstation, Ehrwürdige Palast, Einsame Gastzimmer, Erfahrene Scheune, Festliche Bodega, Festliche Kneipe, Festliche Tisch, Fischer Dorfschenke, Fröhliche Felsenkeller, Fröhliche Hofladen, Gastfreundliche Esszimmer, Gasthof Festscheune, Gasthof Gasthof, Gebackene Rathskeller, Geheimnisvolle Wanderhütte, Gesellige Brauerei, Gesellige Speiselokal, Glanzvolle Alm, Glänzende Tanzlokal, Goldene Biergarten, Gute Blick, Heimat Eck, Heimat Schenke, Herbstliche Brauhaus, Herbstliche Hofbräu, Herzliche See, Herzliche Stadl, Herzliche Stube, Himmel Bauernhof, Holz Wanderhütte, Idyllische Herrenhaus, Idyllische Schenke, Kaiser Hangout, Kaiser Salons, Kaiser Schenke, Kultivierte Südseeparadies, Königliche Gastgewölbe, Königliche Tal, Köstliche Bauernhof, Köstliche Jausenstation, Köstliche Schlemmerparadies, Köstliche Stadl, Köstliche Weinlokal, Legendary Schankstube, Ländliche Speakeasy, Malerische Mühle, Maritime Ratskeller, Moderne Inn, Moderne Tanzschuppen, Mozart Almhütte, Mozart Club, Mühle Bierbrunnen, Mühle Tafelspitz, Neue Burg, Neue Hideaway, Opulent Platz, Prachtvolle Krug, Rasante Kneipe, Rasante Küche, Rauchige Herberge, Romantische Bauernhof, Romantische Speiselokal, Rote Alm, Rote Grillplatz, Rote Ratskeller, Rote Südseeparadies, Roter Brauhaus, Roter Scheune, Roter Stuben, Ruhige Bauernhof, Ruhige Gourmet, Rustikale Blick, Rustikale Grillplatz, Schloss Wanderhütte, Schöne Eatery, Schöne Gaststube, Sonnen Eck, Sonnen Esszimmer, Sonnige Bierstube, Sonnige Gourmet, Stern Hofladen, Stille Palast, Traditionelle Stube, Traditionsreiche Blick, Traditionsreiche Jausenstation, Traditionsreiche Salons, Traditionsreiche Stüberl, Verträumte Hideaway, Verzauberte Heuriger, Wein Esszimmer, Wein Schänke, Wein Tafelspitz, Winterliche Ratskeller, Wirtshaus Hofladen, Wirtshaus Krug, Wolkenkratzer Platz, Wolkenkratzer Schanze, Zirben Dorfschenke.\n"
     ]
    }
   ],
   "source": [
    "set_competition = set(df_competition_month1['name'].unique())|set(df_competition_month2['name'].unique())\n",
    "set_deliverando = set(df_deliverando['name'].unique())\n",
    "only_competition = sorted(set_competition - set_deliverando, key=lambda x: x.lower()) # sorts regardless upper / lowercase\n",
    "\n",
    "only_comp_str = ', '.join(only_competition) # makes a string out of list items\n",
    "print(f'There are {len(only_competition)} restaurants solely on competing platforms.\\n\\\n",
    "These are:', only_comp_str + '.')"
   ]
  },
  {
   "cell_type": "markdown",
   "id": "b0a5bc61",
   "metadata": {},
   "source": [
    "### 3. Which restaurants have placed the most orders with our competitors (top 10)?"
   ]
  },
  {
   "cell_type": "markdown",
   "id": "3f23e4c4",
   "metadata": {},
   "source": [
    "To analyze this question, I need to join competition's data frames for both months. This creates two new columns with month names, carrying no information, so I drop them, and rename the columns with orders. Finally, I calculate the sum of orders from both months."
   ]
  },
  {
   "cell_type": "code",
   "execution_count": 46,
   "id": "74fd68cb",
   "metadata": {},
   "outputs": [
    {
     "data": {
      "text/html": [
       "<div>\n",
       "<style scoped>\n",
       "    .dataframe tbody tr th:only-of-type {\n",
       "        vertical-align: middle;\n",
       "    }\n",
       "\n",
       "    .dataframe tbody tr th {\n",
       "        vertical-align: top;\n",
       "    }\n",
       "\n",
       "    .dataframe thead th {\n",
       "        text-align: right;\n",
       "    }\n",
       "</style>\n",
       "<table border=\"1\" class=\"dataframe\">\n",
       "  <thead>\n",
       "    <tr style=\"text-align: right;\">\n",
       "      <th></th>\n",
       "      <th>name</th>\n",
       "      <th>month_1</th>\n",
       "      <th>month_2</th>\n",
       "      <th>orders_total</th>\n",
       "    </tr>\n",
       "  </thead>\n",
       "  <tbody>\n",
       "    <tr>\n",
       "      <th>0</th>\n",
       "      <td>Bustling Weinbistro</td>\n",
       "      <td>569</td>\n",
       "      <td>672</td>\n",
       "      <td>1241</td>\n",
       "    </tr>\n",
       "    <tr>\n",
       "      <th>1</th>\n",
       "      <td>Ruhige Gourmet</td>\n",
       "      <td>127</td>\n",
       "      <td>75</td>\n",
       "      <td>202</td>\n",
       "    </tr>\n",
       "    <tr>\n",
       "      <th>2</th>\n",
       "      <td>Bunte Alm</td>\n",
       "      <td>574</td>\n",
       "      <td>542</td>\n",
       "      <td>1116</td>\n",
       "    </tr>\n",
       "    <tr>\n",
       "      <th>3</th>\n",
       "      <td>Festliche Schänke</td>\n",
       "      <td>40</td>\n",
       "      <td>78</td>\n",
       "      <td>118</td>\n",
       "    </tr>\n",
       "    <tr>\n",
       "      <th>4</th>\n",
       "      <td>Stern Hofladen</td>\n",
       "      <td>9</td>\n",
       "      <td>323</td>\n",
       "      <td>332</td>\n",
       "    </tr>\n",
       "  </tbody>\n",
       "</table>\n",
       "</div>"
      ],
      "text/plain": [
       "                  name  month_1  month_2  orders_total\n",
       "0  Bustling Weinbistro      569      672          1241\n",
       "1       Ruhige Gourmet      127       75           202\n",
       "2            Bunte Alm      574      542          1116\n",
       "3    Festliche Schänke       40       78           118\n",
       "4       Stern Hofladen        9      323           332"
      ]
     },
     "execution_count": 46,
     "metadata": {},
     "output_type": "execute_result"
    }
   ],
   "source": [
    "# inner join\n",
    "df_competition = pd.merge(df_competition_month1, df_competition_month2, how='inner', on=['name', 'delivery_service'])\n",
    "\n",
    "# dropping and renaming columns\n",
    "df_competition = df_competition.drop(['month_x', 'month_y', 'zip_x', 'zip_y', 'delivery_service'], axis='columns')\n",
    "df_competition.rename(columns={'orders_x':'month_1', 'orders_y':'month_2'}, inplace=True)\n",
    "\n",
    "# sum of orders\n",
    "df_competition['orders_total'] = df_competition['month_1'] + df_competition['month_2']\n",
    "df_competition.head()"
   ]
  },
  {
   "cell_type": "markdown",
   "id": "b1fe37f9",
   "metadata": {},
   "source": [
    "In this data frame, we have multiple occurrences of the same restaurant names (franchises), sometimes with different ZIP code. I group by name and sum the results up to get a table for restaurant chains."
   ]
  },
  {
   "cell_type": "code",
   "execution_count": 47,
   "id": "4117a10b",
   "metadata": {},
   "outputs": [],
   "source": [
    "df_competition = df_competition.groupby('name')[['month_1', 'month_2', 'orders_total']].sum().reset_index()"
   ]
  },
  {
   "cell_type": "markdown",
   "id": "69a3ccb6",
   "metadata": {},
   "source": [
    "Sort by 'orders_total' to get the TOP10."
   ]
  },
  {
   "cell_type": "code",
   "execution_count": 48,
   "id": "c1e75d2f",
   "metadata": {},
   "outputs": [
    {
     "data": {
      "text/html": [
       "<div>\n",
       "<style scoped>\n",
       "    .dataframe tbody tr th:only-of-type {\n",
       "        vertical-align: middle;\n",
       "    }\n",
       "\n",
       "    .dataframe tbody tr th {\n",
       "        vertical-align: top;\n",
       "    }\n",
       "\n",
       "    .dataframe thead th {\n",
       "        text-align: right;\n",
       "    }\n",
       "</style>\n",
       "<table border=\"1\" class=\"dataframe\">\n",
       "  <thead>\n",
       "    <tr style=\"text-align: right;\">\n",
       "      <th></th>\n",
       "      <th>name</th>\n",
       "      <th>month_1</th>\n",
       "      <th>month_2</th>\n",
       "      <th>orders_total</th>\n",
       "    </tr>\n",
       "  </thead>\n",
       "  <tbody>\n",
       "    <tr>\n",
       "      <th>0</th>\n",
       "      <td>Kleine Brauerei</td>\n",
       "      <td>6948</td>\n",
       "      <td>10290</td>\n",
       "      <td>17238</td>\n",
       "    </tr>\n",
       "    <tr>\n",
       "      <th>1</th>\n",
       "      <td>Bäuerliche Waldhaus</td>\n",
       "      <td>8193</td>\n",
       "      <td>6204</td>\n",
       "      <td>14397</td>\n",
       "    </tr>\n",
       "    <tr>\n",
       "      <th>2</th>\n",
       "      <td>Fröhliche Taverna</td>\n",
       "      <td>4886</td>\n",
       "      <td>5876</td>\n",
       "      <td>10762</td>\n",
       "    </tr>\n",
       "    <tr>\n",
       "      <th>3</th>\n",
       "      <td>Kaiser Salons</td>\n",
       "      <td>3468</td>\n",
       "      <td>3726</td>\n",
       "      <td>7194</td>\n",
       "    </tr>\n",
       "    <tr>\n",
       "      <th>4</th>\n",
       "      <td>Ruhige Soda fountain</td>\n",
       "      <td>2904</td>\n",
       "      <td>1944</td>\n",
       "      <td>4848</td>\n",
       "    </tr>\n",
       "    <tr>\n",
       "      <th>5</th>\n",
       "      <td>Große Küche</td>\n",
       "      <td>1722</td>\n",
       "      <td>2374</td>\n",
       "      <td>4096</td>\n",
       "    </tr>\n",
       "    <tr>\n",
       "      <th>6</th>\n",
       "      <td>Kleine Soda fountain</td>\n",
       "      <td>1658</td>\n",
       "      <td>2378</td>\n",
       "      <td>4036</td>\n",
       "    </tr>\n",
       "    <tr>\n",
       "      <th>7</th>\n",
       "      <td>Bäuerliche Festscheune</td>\n",
       "      <td>2094</td>\n",
       "      <td>1758</td>\n",
       "      <td>3852</td>\n",
       "    </tr>\n",
       "    <tr>\n",
       "      <th>8</th>\n",
       "      <td>Neue Burg</td>\n",
       "      <td>1905</td>\n",
       "      <td>1244</td>\n",
       "      <td>3149</td>\n",
       "    </tr>\n",
       "    <tr>\n",
       "      <th>9</th>\n",
       "      <td>Blumen Hütte</td>\n",
       "      <td>1133</td>\n",
       "      <td>1679</td>\n",
       "      <td>2812</td>\n",
       "    </tr>\n",
       "  </tbody>\n",
       "</table>\n",
       "</div>"
      ],
      "text/plain": [
       "                     name  month_1  month_2  orders_total\n",
       "0         Kleine Brauerei     6948    10290         17238\n",
       "1     Bäuerliche Waldhaus     8193     6204         14397\n",
       "2       Fröhliche Taverna     4886     5876         10762\n",
       "3           Kaiser Salons     3468     3726          7194\n",
       "4    Ruhige Soda fountain     2904     1944          4848\n",
       "5             Große Küche     1722     2374          4096\n",
       "6    Kleine Soda fountain     1658     2378          4036\n",
       "7  Bäuerliche Festscheune     2094     1758          3852\n",
       "8               Neue Burg     1905     1244          3149\n",
       "9            Blumen Hütte     1133     1679          2812"
      ]
     },
     "execution_count": 48,
     "metadata": {},
     "output_type": "execute_result"
    }
   ],
   "source": [
    "# sort\n",
    "\n",
    "df_competition = df_competition.sort_values('orders_total', ascending=False).reset_index(drop=True)\n",
    "df_competition.head(10)"
   ]
  },
  {
   "cell_type": "markdown",
   "id": "7049cf22",
   "metadata": {},
   "source": [
    "### *Are these restaurants also active on deliverando and if so, how did the orders on the deliverando platform compare to the performance on the competitor platform?*"
   ]
  },
  {
   "cell_type": "markdown",
   "id": "14b40c76",
   "metadata": {},
   "source": [
    "Calculate total orders over 2 months for Deliverando by grouping and summing up."
   ]
  },
  {
   "cell_type": "code",
   "execution_count": 49,
   "id": "d44032a8",
   "metadata": {},
   "outputs": [
    {
     "data": {
      "text/html": [
       "<div>\n",
       "<style scoped>\n",
       "    .dataframe tbody tr th:only-of-type {\n",
       "        vertical-align: middle;\n",
       "    }\n",
       "\n",
       "    .dataframe tbody tr th {\n",
       "        vertical-align: top;\n",
       "    }\n",
       "\n",
       "    .dataframe thead th {\n",
       "        text-align: right;\n",
       "    }\n",
       "</style>\n",
       "<table border=\"1\" class=\"dataframe\">\n",
       "  <thead>\n",
       "    <tr style=\"text-align: right;\">\n",
       "      <th></th>\n",
       "      <th>franchise_name</th>\n",
       "      <th>orders_total</th>\n",
       "    </tr>\n",
       "  </thead>\n",
       "  <tbody>\n",
       "    <tr>\n",
       "      <th>0</th>\n",
       "      <td>Adventurous Brauerei  No. 1</td>\n",
       "      <td>15.0</td>\n",
       "    </tr>\n",
       "    <tr>\n",
       "      <th>1</th>\n",
       "      <td>Adventurous Brauhaus  No. 1</td>\n",
       "      <td>102.0</td>\n",
       "    </tr>\n",
       "    <tr>\n",
       "      <th>2</th>\n",
       "      <td>Adventurous Rathskeller  No. 1</td>\n",
       "      <td>0.0</td>\n",
       "    </tr>\n",
       "    <tr>\n",
       "      <th>3</th>\n",
       "      <td>Alpen Alm  No. 1</td>\n",
       "      <td>535.0</td>\n",
       "    </tr>\n",
       "    <tr>\n",
       "      <th>4</th>\n",
       "      <td>Alpen Stadl  No. 1</td>\n",
       "      <td>2531.0</td>\n",
       "    </tr>\n",
       "  </tbody>\n",
       "</table>\n",
       "</div>"
      ],
      "text/plain": [
       "                   franchise_name  orders_total\n",
       "0     Adventurous Brauerei  No. 1          15.0\n",
       "1     Adventurous Brauhaus  No. 1         102.0\n",
       "2  Adventurous Rathskeller  No. 1           0.0\n",
       "3                Alpen Alm  No. 1         535.0\n",
       "4              Alpen Stadl  No. 1        2531.0"
      ]
     },
     "execution_count": 49,
     "metadata": {},
     "output_type": "execute_result"
    }
   ],
   "source": [
    "df_deliverando_totals = df_deliverando_wide[['franchise_name', 'month', 'orders']]\n",
    "df_deliverando_totals = df_deliverando_totals.groupby('franchise_name')['orders'].sum().reset_index()\n",
    "df_deliverando_totals.rename(columns={'orders':'orders_total'}, inplace=True)\n",
    "df_deliverando_totals.head()"
   ]
  },
  {
   "cell_type": "markdown",
   "id": "7ef40546",
   "metadata": {},
   "source": [
    "Sum up results for all franchises within restaurant companies (chains)."
   ]
  },
  {
   "cell_type": "code",
   "execution_count": 50,
   "id": "3ac53b58",
   "metadata": {},
   "outputs": [],
   "source": [
    "# function to split the name by 'No.' and keep the first part only\n",
    "def extract_chain_name(name):\n",
    "    parts = name.split('No.')   # splitting\n",
    "    return parts[0].strip()   # stripping the remaining part\n",
    "\n",
    "# restaurant company (chain) as a new column\n",
    "df_deliverando_totals['name'] = df_deliverando_totals['franchise_name'].apply(extract_chain_name)\n",
    "\n",
    "# group by 'company' and sum up results\n",
    "df_deliverando_totals = df_deliverando_totals.groupby('name')['orders_total'].sum().reset_index()"
   ]
  },
  {
   "cell_type": "code",
   "execution_count": 51,
   "id": "18fb9049",
   "metadata": {},
   "outputs": [],
   "source": [
    "# #################### test: there are restaurants with orders from both delivery services\n",
    "# set_competition = set(df_competition[df_competition['orders_total']>0]['name'].unique())\n",
    "# set_deliverando = set(df_deliverando_totals[df_deliverando_totals['orders_total']>0]['name'].unique())\n",
    "\n",
    "# intersection = set_competition & set_deliverando\n",
    "# intersection"
   ]
  },
  {
   "cell_type": "markdown",
   "id": "b1a60b6c",
   "metadata": {},
   "source": [
    "Merge data frames for competition and Deliverando (outer join to keep all data)."
   ]
  },
  {
   "cell_type": "code",
   "execution_count": 52,
   "id": "b7f31e31",
   "metadata": {
    "scrolled": true
   },
   "outputs": [],
   "source": [
    "# left join with competition\n",
    "\n",
    "df_all = pd.merge(left = df_competition, right = df_deliverando_totals, how='outer', on=['name'])\n",
    "df_all = df_all.rename(columns={'orders_total_x':'orders_competition', 'orders_total_y':'orders_deliverando'})"
   ]
  },
  {
   "cell_type": "markdown",
   "id": "93e15a8d",
   "metadata": {},
   "source": [
    "Show TOP10 competition restaurants."
   ]
  },
  {
   "cell_type": "code",
   "execution_count": 53,
   "id": "8d5dfed2",
   "metadata": {},
   "outputs": [
    {
     "data": {
      "text/html": [
       "<div>\n",
       "<style scoped>\n",
       "    .dataframe tbody tr th:only-of-type {\n",
       "        vertical-align: middle;\n",
       "    }\n",
       "\n",
       "    .dataframe tbody tr th {\n",
       "        vertical-align: top;\n",
       "    }\n",
       "\n",
       "    .dataframe thead th {\n",
       "        text-align: right;\n",
       "    }\n",
       "</style>\n",
       "<table border=\"1\" class=\"dataframe\">\n",
       "  <thead>\n",
       "    <tr style=\"text-align: right;\">\n",
       "      <th></th>\n",
       "      <th>name</th>\n",
       "      <th>month_1</th>\n",
       "      <th>month_2</th>\n",
       "      <th>orders_competition</th>\n",
       "      <th>orders_deliverando</th>\n",
       "    </tr>\n",
       "  </thead>\n",
       "  <tbody>\n",
       "    <tr>\n",
       "      <th>0</th>\n",
       "      <td>Kleine Brauerei</td>\n",
       "      <td>6948.0</td>\n",
       "      <td>10290.0</td>\n",
       "      <td>17238.0</td>\n",
       "      <td>11738.0</td>\n",
       "    </tr>\n",
       "    <tr>\n",
       "      <th>1</th>\n",
       "      <td>Bäuerliche Waldhaus</td>\n",
       "      <td>8193.0</td>\n",
       "      <td>6204.0</td>\n",
       "      <td>14397.0</td>\n",
       "      <td>92.0</td>\n",
       "    </tr>\n",
       "    <tr>\n",
       "      <th>2</th>\n",
       "      <td>Fröhliche Taverna</td>\n",
       "      <td>4886.0</td>\n",
       "      <td>5876.0</td>\n",
       "      <td>10762.0</td>\n",
       "      <td>1580.0</td>\n",
       "    </tr>\n",
       "    <tr>\n",
       "      <th>3</th>\n",
       "      <td>Kaiser Salons</td>\n",
       "      <td>3468.0</td>\n",
       "      <td>3726.0</td>\n",
       "      <td>7194.0</td>\n",
       "      <td>NaN</td>\n",
       "    </tr>\n",
       "    <tr>\n",
       "      <th>4</th>\n",
       "      <td>Ruhige Soda fountain</td>\n",
       "      <td>2904.0</td>\n",
       "      <td>1944.0</td>\n",
       "      <td>4848.0</td>\n",
       "      <td>1095.0</td>\n",
       "    </tr>\n",
       "    <tr>\n",
       "      <th>5</th>\n",
       "      <td>Große Küche</td>\n",
       "      <td>1722.0</td>\n",
       "      <td>2374.0</td>\n",
       "      <td>4096.0</td>\n",
       "      <td>1674.0</td>\n",
       "    </tr>\n",
       "    <tr>\n",
       "      <th>6</th>\n",
       "      <td>Kleine Soda fountain</td>\n",
       "      <td>1658.0</td>\n",
       "      <td>2378.0</td>\n",
       "      <td>4036.0</td>\n",
       "      <td>1047.0</td>\n",
       "    </tr>\n",
       "    <tr>\n",
       "      <th>7</th>\n",
       "      <td>Bäuerliche Festscheune</td>\n",
       "      <td>2094.0</td>\n",
       "      <td>1758.0</td>\n",
       "      <td>3852.0</td>\n",
       "      <td>2660.0</td>\n",
       "    </tr>\n",
       "    <tr>\n",
       "      <th>8</th>\n",
       "      <td>Neue Burg</td>\n",
       "      <td>1905.0</td>\n",
       "      <td>1244.0</td>\n",
       "      <td>3149.0</td>\n",
       "      <td>NaN</td>\n",
       "    </tr>\n",
       "    <tr>\n",
       "      <th>9</th>\n",
       "      <td>Blumen Hütte</td>\n",
       "      <td>1133.0</td>\n",
       "      <td>1679.0</td>\n",
       "      <td>2812.0</td>\n",
       "      <td>NaN</td>\n",
       "    </tr>\n",
       "  </tbody>\n",
       "</table>\n",
       "</div>"
      ],
      "text/plain": [
       "                     name  month_1  month_2  orders_competition  \\\n",
       "0         Kleine Brauerei   6948.0  10290.0             17238.0   \n",
       "1     Bäuerliche Waldhaus   8193.0   6204.0             14397.0   \n",
       "2       Fröhliche Taverna   4886.0   5876.0             10762.0   \n",
       "3           Kaiser Salons   3468.0   3726.0              7194.0   \n",
       "4    Ruhige Soda fountain   2904.0   1944.0              4848.0   \n",
       "5             Große Küche   1722.0   2374.0              4096.0   \n",
       "6    Kleine Soda fountain   1658.0   2378.0              4036.0   \n",
       "7  Bäuerliche Festscheune   2094.0   1758.0              3852.0   \n",
       "8               Neue Burg   1905.0   1244.0              3149.0   \n",
       "9            Blumen Hütte   1133.0   1679.0              2812.0   \n",
       "\n",
       "   orders_deliverando  \n",
       "0             11738.0  \n",
       "1                92.0  \n",
       "2              1580.0  \n",
       "3                 NaN  \n",
       "4              1095.0  \n",
       "5              1674.0  \n",
       "6              1047.0  \n",
       "7              2660.0  \n",
       "8                 NaN  \n",
       "9                 NaN  "
      ]
     },
     "execution_count": 53,
     "metadata": {},
     "output_type": "execute_result"
    }
   ],
   "source": [
    "df_top_10 = df_all.head(10)\n",
    "df_top_10"
   ]
  },
  {
   "cell_type": "markdown",
   "id": "911148b8",
   "metadata": {},
   "source": [
    "Plot the results as a bar chart.\n",
    "\n",
    "First, I melt the results into long format for easier plotting."
   ]
  },
  {
   "cell_type": "code",
   "execution_count": 54,
   "id": "7e1deaf6",
   "metadata": {},
   "outputs": [],
   "source": [
    "df_melted = df_top_10.melt(id_vars=['name'], value_vars=['orders_competition', 'orders_deliverando'], \n",
    "                    var_name='company', value_name='orders_total')"
   ]
  },
  {
   "cell_type": "markdown",
   "id": "4410954b",
   "metadata": {},
   "source": [
    "Plot."
   ]
  },
  {
   "cell_type": "code",
   "execution_count": 97,
   "id": "d3a53955",
   "metadata": {},
   "outputs": [
    {
     "data": {
      "image/png": "[encoded data removed]",
      "text/plain": [
       "<Figure size 1200x600 with 1 Axes>"
      ]
     },
     "metadata": {},
     "output_type": "display_data"
    }
   ],
   "source": [
    "# Seaborn style to get the grid and grey background\n",
    "sns.set(style='whitegrid', rc={'axes.facecolor': '#d9d9d9', 'figure.facecolor': '#d9d9d9'})\n",
    "\n",
    "# aspect ratio\n",
    "plt.figure(figsize=(12, 6))\n",
    "\n",
    "# create bar plot\n",
    "plot_comparison = sns.barplot(x='name', y='orders_total', hue='company', data=df_melted, palette=['#fc8d62', '#849f27'])\n",
    "\n",
    "# axes labels, title, legend\n",
    "plt.xlabel('')\n",
    "plt.ylabel('Total Orders')\n",
    "plt.title('')\n",
    "plt.xticks(rotation=45, ha='right')   # rotate x-axis labels\n",
    "\n",
    "# modify legend\n",
    "legend_labels = {'orders_competition': 'Competition', 'orders_deliverando': 'Deliverando'}\n",
    "handles, _ = plot_comparison.get_legend_handles_labels()\n",
    "plot_comparison.legend(handles=handles, labels=[legend_labels[label] for label in df_melted['company'].unique()],\\\n",
    "                       title='Company', loc='upper right')\n",
    "\n",
    "plt.tight_layout()\n",
    "\n",
    "# save and/or display the plot\n",
    "plt.savefig('../vizzes/comparison_companies.png', dpi=300)\n",
    "plt.show()"
   ]
  },
  {
   "cell_type": "code",
   "execution_count": null,
   "id": "1e2f4c6a",
   "metadata": {},
   "outputs": [],
   "source": []
  }
 ],
 "metadata": {
  "kernelspec": {
   "display_name": "Python 3 (ipykernel)",
   "language": "python",
   "name": "python3"
  },
  "language_info": {
   "codemirror_mode": {
    "name": "ipython",
    "version": 3
   },
   "file_extension": ".py",
   "mimetype": "text/x-python",
   "name": "python",
   "nbconvert_exporter": "python",
   "pygments_lexer": "ipython3",
   "version": "3.10.10"
  }
 },
 "nbformat": 4,
 "nbformat_minor": 5
}
