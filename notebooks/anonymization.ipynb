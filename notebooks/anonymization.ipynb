{
 "cells": [
  {
   "cell_type": "markdown",
   "id": "277c5efa",
   "metadata": {},
   "source": [
    "# Anonymize restaurant names"
   ]
  },
  {
   "cell_type": "markdown",
   "id": "a49c6dde",
   "metadata": {},
   "source": [
    "This notebook was used to anonymize restaurant names in the Deliverando project.\n",
    "\n",
    "I followed \"A Practical Guide to Anonymizing Datasets with Python & Faker\" at https://medium.com/district-data-labs/a-practical-guide-to-anonymizing-datasets-with-python-faker-ecf15114c9be and updated, broadened and automated it with the help of ChatGPT."
   ]
  },
  {
   "cell_type": "code",
   "execution_count": 1,
   "id": "185ad8d8",
   "metadata": {},
   "outputs": [],
   "source": [
    "import pandas as pd   # work with data frames\n",
    "from faker import Factory   # to create instance generating random restaurant names\n",
    "import csv   # to read and write CSV files\n",
    "from tqdm import tqdm   # to check progress"
   ]
  },
  {
   "cell_type": "markdown",
   "id": "4849b10b",
   "metadata": {},
   "source": [
    "Import data and save everythng to CSV files with comma searated variables. This is needed for automating the process."
   ]
  },
  {
   "cell_type": "code",
   "execution_count": 2,
   "id": "61bacdb5",
   "metadata": {},
   "outputs": [],
   "source": [
    "df_deliverando = pd.read_csv('../data/SalesAnalyst_deliverando.csv', sep=';')\n",
    "df_deliverando.to_csv('../data/deliverando.csv', index=False)\n",
    "\n",
    "df_competition_month1 = pd.read_excel('../data/SalesAnalyst_Competition.xlsx', sheet_name = 'Month 1')\n",
    "df_competition_month1.to_csv('../data/comp_month_1.csv', index=False)\n",
    "\n",
    "df_competition_month2 = pd.read_excel('../data/SalesAnalyst_Competition.xlsx', sheet_name = 'Month 2')\n",
    "df_competition_month2.to_csv('../data/comp_month_2.csv', index=False)"
   ]
  },
  {
   "cell_type": "markdown",
   "id": "79899765",
   "metadata": {},
   "source": [
    "AI generated lists with words often used in Austrian restaurants. Used later for generation of random names for authenticity."
   ]
  },
  {
   "cell_type": "code",
   "execution_count": 3,
   "id": "6a03048e",
   "metadata": {},
   "outputs": [],
   "source": [
    "# Generate a fake Austrian-sounding restaurant name\n",
    "adjectives = [\n",
    "    \"Alpen\", \"Wiener\", \"Kaiser\", \"Berg\", \"Mozart\", \"Hof\",\n",
    "    \"Grüne\", \"Goldene\", \"Herzog\", \"Roter\", \"Blauer\", \"Gasthof\", \"Schloss\",\n",
    "    \"Wald\", \"Gemütliche\", \"Kleine\", \"Große\", \"Romantische\", \"Traditionelle\",\n",
    "    \"Grüne\", \"Bunte\", \"Himmel\", \"Holz\", \"Alte\", \"Neue\", \"Wirtshaus\",\n",
    "    \"Mühle\", \"Heimat\", \"Bergdorf\", \"Edle\", \"Stille\", \"Sonnen\", \"Wein\",\n",
    "    \"Dörfler\", \"Gebackene\", \"Bauer\", \"Stern\", \"Schöne\", \"Festliche\",\n",
    "    \"Königliche\", \"Sonnige\", \"Bäuerliche\", \"Weinstube\", \"Fischer\",\n",
    "    \"Blumen\", \"Fröhliche\", \"Hohe\", \"Gute\", \"Ruhige\", \"Zirben\",\n",
    "    \"Edelweiß\", \"Elegante\", \"Märchenhafte\", \"Rustikale\", \"Rote\", \"Blaue\", \"Grüne\",\n",
    "    \"Bunte\", \"Glänzende\", \"Stilvolle\", \"Prachtvolle\", \"Magische\", \"Ruhige\", \"Moderne\",\n",
    "    \"Traditionsreiche\", \"Köstliche\", \"Herzliche\", \"Exotische\", \"Rustikale\", \"Verträumte\",\n",
    "    \"Gesellige\", \"Idyllische\", \"Romantische\", \"Ehrwürdige\", \"Wolkenkratzer\", \"Maritime\",\n",
    "    \"Alpine\", \"Ländliche\", \"Winterliche\", \"Scharfe\", \"Sanfte\", \"Nostalgische\", \"Erfahrene\",\n",
    "    \"Herbstliche\", \"Verträumte\", \"Einsame\", \"Gastfreundliche\", \"Kultivierte\", \"Goldene\",\n",
    "    \"Malerische\", \"Blaue\", \"Glanzvolle\", \"Rote\", \"Verzauberte\", \"Geheimnisvolle\", \"Frische\",\n",
    "    \"Rasante\", \"Silberne\", \"Rauchige\", \"Adventurous\", \"Pittoreske\", \"Quaint\", \"Countrified\",\n",
    "    \"Legendary\", \"Opulent\", \"Bustling\"\n",
    "]\n",
    "\n",
    "nouns = [\n",
    "    \"Stube\", \"Hofbräu\", \"Küche\", \"Gourmet\", \"Palast\",\n",
    "    \"Wirtshaus\", \"Brauerei\", \"Schmankerl\", \"Dorf\", \"Alm\",\n",
    "    \"Garten\", \"Stubn\", \"Hütte\", \"Ecke\", \"Platz\",\n",
    "    \"Taverne\", \"Winkel\", \"Tal\", \"See\", \"Hof\",\n",
    "    \"Weinstube\", \"Stadl\", \"Mühle\", \"Bauernhof\", \"Hofladen\",\n",
    "    \"Gaststube\", \"Biergarten\", \"Keller\", \"Inn\", \"Blick\",\n",
    "    \"Krug\", \"Waldhaus\", \"Burg\", \"Küche\", \"Stuben\",\n",
    "    \"Haus\", \"Hofladen\", \"Tisch\", \"Scheune\", \"Platzl\",\n",
    "    \"Gasthof\", \"Eck\", \"Schmiede\", \"Kneipe\", \"Dorfschenke\",\n",
    "    \"Stüberl\", \"Kaminzimmer\", \"Ort\", \"Zirbelstube\",\n",
    "    \"Bräustüberl\", \"Felsenkeller\", \"Almhütte\", \"Bierstube\", \"Herrenhaus\",\n",
    "    \"Heuriger\", \"Jausenstation\", \"Kellerstüberl\", \"Klause\", \"Kneipenlokal\",\n",
    "    \"Lokal\", \"Pinte\", \"Ratskeller\", \"Rebgarten\", \"Schanke\", \"Schenke\",\n",
    "    \"Schlösschen\", \"Speiselokal\", \"Tanzlokal\", \"Tanzschuppen\", \"Weinkeller\",\n",
    "    \"Bodega\", \"Braustube\", \"Esszimmer\", \"Festscheune\", \"Feuerstelle\", \"Gastgewölbe\",\n",
    "    \"Gastzimmer\", \"Gesellschaftsraum\", \"Grillplatz\", \"Herberge\", \"Ratsstube\",\n",
    "    \"Rittersaal\", \"Salons\", \"Schänke\", \"Schankstube\", \"Schanze\", \"Schlemmerparadies\",\n",
    "    \"Speisesaal\", \"Südseeparadies\", \"Tafelspitz\", \"Tenne\", \"Verköstigungszimmer\",\n",
    "    \"Wanderhütte\", \"Weinbar\", \"Weinbistro\", \"Weinkneipe\", \"Weinlokal\", \"Wirt\",\n",
    "    \"Zimmer\", \"Bierbrunnen\", \"Brauhaus\", \"Café\", \"Club\", \"Dive\", \"Drinkery\",\n",
    "    \"Eatery\", \"Ginmill\", \"Grillroom\", \"Hideaway\", \"Hangout\", \"Juke joint\", \"Pizzeria\",\n",
    "    \"Rathskeller\", \"Soda fountain\", \"Speakeasy\", \"Taverna\", \"Watering hole\",\n",
    "    \"Winery\"\n",
    "]"
   ]
  },
  {
   "cell_type": "markdown",
   "id": "a6fa50af",
   "metadata": {},
   "source": [
    "Definition of functions used to generate random Autrian-sounding names and keep them consistent across all files (mapping)."
   ]
  },
  {
   "cell_type": "code",
   "execution_count": 4,
   "id": "d934e4fc",
   "metadata": {},
   "outputs": [],
   "source": [
    "def anonymize_rows(rows, name_mappings):\n",
    "    \"\"\"\n",
    "    Rows is an iterable of dictionaries that contain name and\n",
    "    email fields that need to be anonymized.\n",
    "    \"\"\"\n",
    "    for row in rows:\n",
    "        original_name = row['name']\n",
    "        anonymized_name = name_mappings.get(original_name, original_name)\n",
    "        # Replace the name field with the generated or mapped restaurant name\n",
    "        row['name'] = anonymized_name\n",
    "        yield row\n",
    "\n",
    "def anonymize(source_files, target_files, adjectives, nouns):\n",
    "    \"\"\"\n",
    "    Anonymize multiple source CSV files and save the anonymized data to multiple target CSV files.\n",
    "    \"\"\"\n",
    "    # Create an overall dictionary to store consistent mappings across all files\n",
    "    overall_name_mappings = {}\n",
    "    faker = Factory.create()\n",
    "    \n",
    "    for source, target in zip(source_files, target_files):\n",
    "        with open(source, 'r', encoding='utf-8') as f:\n",
    "            reader = csv.DictReader(f)\n",
    "            \n",
    "            # Use tqdm to create a progress bar for the rows in the CSV file\n",
    "            for row in tqdm(reader, desc=f\"Processing {source}\"):\n",
    "                original_name = row['name']\n",
    "                \n",
    "                # Check if the original name has been mapped already\n",
    "                if original_name in overall_name_mappings:\n",
    "                    anonymized_name = overall_name_mappings[original_name]\n",
    "                else:\n",
    "                    # Generate a unique restaurant name\n",
    "                    restaurant_name = generate_unique_name(adjectives, nouns, overall_name_mappings, faker)\n",
    "                    overall_name_mappings[original_name] = restaurant_name\n",
    "                    anonymized_name = restaurant_name\n",
    "                \n",
    "                # Replace the name field with the generated or mapped restaurant name\n",
    "                row['name'] = anonymized_name\n",
    "                \n",
    "            # Rewind the CSV file to the beginning\n",
    "            f.seek(0)\n",
    "            \n",
    "            with open(target, 'w', encoding='utf-8', newline='') as o:\n",
    "                fieldnames = reader.fieldnames\n",
    "                \n",
    "                # Create a writer for the target file\n",
    "                writer = csv.DictWriter(o, fieldnames=fieldnames)\n",
    "                writer.writeheader()  # Write the header row\n",
    "                \n",
    "                # Process and anonymize rows\n",
    "                anonymized_rows = anonymize_rows(reader, overall_name_mappings)\n",
    "                \n",
    "                for row in tqdm(anonymized_rows, desc=f\"Writing {target}\"):\n",
    "                    # Write the anonymized row to the target file\n",
    "                    writer.writerow(row)\n",
    "    \n",
    "    # After processing all files, the overall_name_mappings will contain the mapping across all files\n",
    "    return overall_name_mappings\n",
    "\n",
    "def generate_unique_name(adjectives, nouns, name_mappings, faker):\n",
    "    \"\"\"\n",
    "    Generate a unique restaurant name by checking against existing mappings.\n",
    "    \"\"\"\n",
    "    while True:\n",
    "        restaurant_name = faker.random_element(adjectives) + \" \" + faker.random_element(nouns)\n",
    "        \n",
    "        # Check if the generated name is unique within the current mappings\n",
    "        if restaurant_name not in name_mappings.values():\n",
    "            return restaurant_name"
   ]
  },
  {
   "cell_type": "markdown",
   "id": "54975397",
   "metadata": {},
   "source": [
    "Executing the renaming, creating new CSV files with anonymized names."
   ]
  },
  {
   "cell_type": "code",
   "execution_count": 11,
   "id": "1b4f3ee3",
   "metadata": {},
   "outputs": [
    {
     "name": "stderr",
     "output_type": "stream",
     "text": [
      "Processing ../data/deliverando.csv: 1648it [00:00, 150724.23it/s]\n",
      "Writing ../data/deliverando_anonymized.csv: 1649it [00:00, 98725.43it/s]\n",
      "Processing ../data/comp_month_1.csv: 3207it [00:00, 22624.78it/s]\n",
      "Writing ../data/comp_month_1_anonymized.csv: 3208it [00:00, 107840.18it/s]\n",
      "Processing ../data/comp_month_2.csv: 3242it [00:00, 179536.75it/s]\n",
      "Writing ../data/comp_month_2_anonymized.csv: 3243it [00:00, 115977.97it/s]\n"
     ]
    }
   ],
   "source": [
    "source_files = ['../data/deliverando.csv',\n",
    "                '../data/comp_month_1.csv',\n",
    "                '../data/comp_month_2.csv']\n",
    "target_files = ['../data/deliverando_anonymized.csv',\n",
    "                '../data/comp_month_1_anonymized.csv',\n",
    "                '../data/comp_month_2_anonymized.csv']\n",
    "\n",
    "anonymize(source_files, target_files, adjectives, nouns)"
   ]
  },
  {
   "cell_type": "code",
   "execution_count": null,
   "id": "5b2d77c7",
   "metadata": {},
   "outputs": [],
   "source": []
  }
 ],
 "metadata": {
  "kernelspec": {
   "display_name": "Python 3 (ipykernel)",
   "language": "python",
   "name": "python3"
  },
  "language_info": {
   "codemirror_mode": {
    "name": "ipython",
    "version": 3
   },
   "file_extension": ".py",
   "mimetype": "text/x-python",
   "name": "python",
   "nbconvert_exporter": "python",
   "pygments_lexer": "ipython3",
   "version": "3.10.10"
  }
 },
 "nbformat": 4,
 "nbformat_minor": 5
}
