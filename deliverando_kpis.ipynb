{
 "cells": [
  {
   "cell_type": "markdown",
   "id": "dbb59560",
   "metadata": {},
   "source": [
    "# Coding Challenge 2: Sales Analyst Restaurant"
   ]
  },
  {
   "cell_type": "markdown",
   "id": "c17be556",
   "metadata": {},
   "source": [
    "## Import"
   ]
  },
  {
   "cell_type": "code",
   "execution_count": 135,
   "id": "c4cbd291",
   "metadata": {},
   "outputs": [],
   "source": [
    "import pandas as pd\n",
    "from geopy.geocoders import Nominatim\n",
    "from matplotlib import pyplot as plt\n",
    "import seaborn as sns\n",
    "from scipy import stats"
   ]
  },
  {
   "cell_type": "markdown",
   "id": "efbdb889",
   "metadata": {},
   "source": [
    "## Import, exploration, cleaning"
   ]
  },
  {
   "cell_type": "code",
   "execution_count": 2,
   "id": "b8ea096c",
   "metadata": {},
   "outputs": [],
   "source": [
    "df_deliverando = pd.read_csv('../data/SalesAnalyst_deliverando.csv', sep=';')\n",
    "\n",
    "df_deliverando = df_deliverando[df_deliverando['zip'].isin([8010, 8020, 8036, 8041, 8042, 8043, 8045, 8051, 8052, 8053, 8054, 8055, 8063, 8077])]\n"
   ]
  },
  {
   "cell_type": "code",
   "execution_count": 3,
   "id": "e3a40b5e",
   "metadata": {},
   "outputs": [],
   "source": [
    "df_deliverando.rename(columns={'Month 1':'month_1', 'Month 2':'month_2', 'delivery service':'delivery_service'},\n",
    "                      inplace=True)"
   ]
  },
  {
   "cell_type": "code",
   "execution_count": 28,
   "id": "948e0fb6",
   "metadata": {
    "scrolled": false
   },
   "outputs": [
    {
     "data": {
      "text/html": [
       "<div>\n",
       "<style scoped>\n",
       "    .dataframe tbody tr th:only-of-type {\n",
       "        vertical-align: middle;\n",
       "    }\n",
       "\n",
       "    .dataframe tbody tr th {\n",
       "        vertical-align: top;\n",
       "    }\n",
       "\n",
       "    .dataframe thead th {\n",
       "        text-align: right;\n",
       "    }\n",
       "</style>\n",
       "<table border=\"1\" class=\"dataframe\">\n",
       "  <thead>\n",
       "    <tr style=\"text-align: right;\">\n",
       "      <th></th>\n",
       "      <th>name</th>\n",
       "      <th>zip</th>\n",
       "      <th>kpi</th>\n",
       "      <th>month_1</th>\n",
       "      <th>month_2</th>\n",
       "      <th>delivery_service</th>\n",
       "      <th>franchise</th>\n",
       "      <th>name_franchise</th>\n",
       "    </tr>\n",
       "  </thead>\n",
       "  <tbody>\n",
       "    <tr>\n",
       "      <th>0</th>\n",
       "      <td>Mampf</td>\n",
       "      <td>8020</td>\n",
       "      <td># Commissionable Orders</td>\n",
       "      <td>699.0</td>\n",
       "      <td>822.00</td>\n",
       "      <td>deliverando</td>\n",
       "      <td>0</td>\n",
       "      <td>Mampf 8020 No. 0</td>\n",
       "    </tr>\n",
       "    <tr>\n",
       "      <th>1</th>\n",
       "      <td>Mampf</td>\n",
       "      <td>8020</td>\n",
       "      <td>Avg Basket Size €</td>\n",
       "      <td>22.5</td>\n",
       "      <td>23.33</td>\n",
       "      <td>deliverando</td>\n",
       "      <td>0</td>\n",
       "      <td>Mampf 8020 No. 0</td>\n",
       "    </tr>\n",
       "    <tr>\n",
       "      <th>2</th>\n",
       "      <td>Mampf</td>\n",
       "      <td>8020</td>\n",
       "      <td># Negative Comments</td>\n",
       "      <td>3.0</td>\n",
       "      <td>4.00</td>\n",
       "      <td>deliverando</td>\n",
       "      <td>0</td>\n",
       "      <td>Mampf 8020 No. 0</td>\n",
       "    </tr>\n",
       "    <tr>\n",
       "      <th>3</th>\n",
       "      <td>Mampf</td>\n",
       "      <td>8020</td>\n",
       "      <td># Positive Comments</td>\n",
       "      <td>1.0</td>\n",
       "      <td>1.00</td>\n",
       "      <td>deliverando</td>\n",
       "      <td>0</td>\n",
       "      <td>Mampf 8020 No. 0</td>\n",
       "    </tr>\n",
       "    <tr>\n",
       "      <th>4</th>\n",
       "      <td>Mampf</td>\n",
       "      <td>8020</td>\n",
       "      <td>% Kill Rate</td>\n",
       "      <td>52.0</td>\n",
       "      <td>46.00</td>\n",
       "      <td>deliverando</td>\n",
       "      <td>0</td>\n",
       "      <td>Mampf 8020 No. 0</td>\n",
       "    </tr>\n",
       "    <tr>\n",
       "      <th>5</th>\n",
       "      <td>Mampf</td>\n",
       "      <td>8020</td>\n",
       "      <td>Avg Time to Accept (s)</td>\n",
       "      <td>17.0</td>\n",
       "      <td>15.00</td>\n",
       "      <td>deliverando</td>\n",
       "      <td>0</td>\n",
       "      <td>Mampf 8020 No. 0</td>\n",
       "    </tr>\n",
       "    <tr>\n",
       "      <th>6</th>\n",
       "      <td>Dolce Vita</td>\n",
       "      <td>8020</td>\n",
       "      <td># Commissionable Orders</td>\n",
       "      <td>1178.0</td>\n",
       "      <td>1353.00</td>\n",
       "      <td>deliverando</td>\n",
       "      <td>0</td>\n",
       "      <td>Dolce Vita 8020 No. 0</td>\n",
       "    </tr>\n",
       "  </tbody>\n",
       "</table>\n",
       "</div>"
      ],
      "text/plain": [
       "         name   zip                      kpi  month_1  month_2  \\\n",
       "0       Mampf  8020  # Commissionable Orders    699.0   822.00   \n",
       "1       Mampf  8020        Avg Basket Size €     22.5    23.33   \n",
       "2       Mampf  8020      # Negative Comments      3.0     4.00   \n",
       "3       Mampf  8020      # Positive Comments      1.0     1.00   \n",
       "4       Mampf  8020              % Kill Rate     52.0    46.00   \n",
       "5       Mampf  8020   Avg Time to Accept (s)     17.0    15.00   \n",
       "6  Dolce Vita  8020  # Commissionable Orders   1178.0  1353.00   \n",
       "\n",
       "  delivery_service franchise         name_franchise  \n",
       "0      deliverando         0       Mampf 8020 No. 0  \n",
       "1      deliverando         0       Mampf 8020 No. 0  \n",
       "2      deliverando         0       Mampf 8020 No. 0  \n",
       "3      deliverando         0       Mampf 8020 No. 0  \n",
       "4      deliverando         0       Mampf 8020 No. 0  \n",
       "5      deliverando         0       Mampf 8020 No. 0  \n",
       "6      deliverando         0  Dolce Vita 8020 No. 0  "
      ]
     },
     "execution_count": 28,
     "metadata": {},
     "output_type": "execute_result"
    }
   ],
   "source": [
    "df_deliverando.drop_duplicates(inplace=True)\n",
    "df_deliverando.head(7)"
   ]
  },
  {
   "cell_type": "code",
   "execution_count": 5,
   "id": "3714be78",
   "metadata": {},
   "outputs": [],
   "source": [
    "# replace dean & david Wels\n",
    "\n",
    "df_deliverando.loc[df_deliverando['name'] == 'dean & david Wels', 'name'] = 'dean & david'"
   ]
  },
  {
   "cell_type": "markdown",
   "id": "875d056c",
   "metadata": {},
   "source": [
    "**Commissionable orders in Month 1 and 2**"
   ]
  },
  {
   "cell_type": "code",
   "execution_count": 14,
   "id": "5a3f1c83",
   "metadata": {},
   "outputs": [
    {
     "data": {
      "text/plain": [
       "kpi\n",
       "# Commissionable Orders    53478.0\n",
       "Name: month_1, dtype: float64"
      ]
     },
     "execution_count": 14,
     "metadata": {},
     "output_type": "execute_result"
    }
   ],
   "source": [
    "orders_sum_m1 = df_deliverando[df_deliverando['kpi']=='# Commissionable Orders'].groupby('kpi')['month_1'].sum()\n",
    "orders_sum_m1"
   ]
  },
  {
   "cell_type": "code",
   "execution_count": 15,
   "id": "0ec39ec4",
   "metadata": {
    "scrolled": true
   },
   "outputs": [
    {
     "data": {
      "text/plain": [
       "kpi\n",
       "# Commissionable Orders    55617.0\n",
       "Name: month_2, dtype: float64"
      ]
     },
     "execution_count": 15,
     "metadata": {},
     "output_type": "execute_result"
    }
   ],
   "source": [
    "orders_sum_m2 = df_deliverando[df_deliverando['kpi']=='# Commissionable Orders'].groupby('kpi')['month_2'].sum()\n",
    "orders_sum_m2"
   ]
  },
  {
   "cell_type": "code",
   "execution_count": 16,
   "id": "393ef09c",
   "metadata": {
    "scrolled": true
   },
   "outputs": [
    {
     "data": {
      "text/plain": [
       "kpi\n",
       "# Commissionable Orders    3.999776\n",
       "dtype: float64"
      ]
     },
     "execution_count": 16,
     "metadata": {},
     "output_type": "execute_result"
    }
   ],
   "source": [
    "(orders_sum_m2/orders_sum_m1-1)*100"
   ]
  },
  {
   "cell_type": "markdown",
   "id": "746c4847",
   "metadata": {},
   "source": [
    "**Negative comments**"
   ]
  },
  {
   "cell_type": "code",
   "execution_count": 32,
   "id": "84f67b2a",
   "metadata": {},
   "outputs": [],
   "source": [
    "neg_comm_m1 = df_deliverando[df_deliverando['kpi']=='# Negative Comments'].groupby('kpi')['month_1'].sum()\n",
    "neg_comm_m2 = df_deliverando[df_deliverando['kpi']=='# Negative Comments'].groupby('kpi')['month_2'].sum()\n",
    "neg_comm_ratio = (neg_comm_avg_m2/neg_comm_avg_m1-1)*100"
   ]
  },
  {
   "cell_type": "code",
   "execution_count": 33,
   "id": "41d0d557",
   "metadata": {
    "scrolled": false
   },
   "outputs": [
    {
     "name": "stdout",
     "output_type": "stream",
     "text": [
      "kpi\n",
      "# Negative Comments    280.0\n",
      "Name: month_1, dtype: float64 kpi\n",
      "# Negative Comments    301.0\n",
      "Name: month_2, dtype: float64 kpi\n",
      "# Negative Comments    7.5\n",
      "dtype: float64\n"
     ]
    }
   ],
   "source": [
    "print(neg_comm_m1, neg_comm_m2, neg_comm_ratio)"
   ]
  },
  {
   "cell_type": "code",
   "execution_count": 69,
   "id": "40468990",
   "metadata": {},
   "outputs": [
    {
     "data": {
      "image/png": "[encoded data removed]",
      "text/plain": [
       "<Figure size 640x480 with 1 Axes>"
      ]
     },
     "metadata": {},
     "output_type": "display_data"
    }
   ],
   "source": [
    "# new df for plot (1 row, 2 numbers)\n",
    "neg_comm_m1 = round(float(neg_comm_m1))\n",
    "neg_comm_m2 = round(float(neg_comm_m2))\n",
    "df_neg_comm = [neg_comm_m1, neg_comm_m2]\n",
    "labels = ['June', 'July']\n",
    "\n",
    "# Setting Seaborn style (optional but improves aesthetics)\n",
    "sns.set(style='whitegrid')\n",
    "\n",
    "# Custom color palette\n",
    "colors = ['#fc8d62', '#fc8d62']  # You can choose any colors you like\n",
    "\n",
    "# Creating the bar plot with custom colors\n",
    "sns.barplot(x=labels, y=df_neg_comm, palette=colors)\n",
    "\n",
    "# Adding data labels on top of the bars\n",
    "for index, value in enumerate(df_neg_comm):\n",
    "    plt.text(index, value + 1, f'{value}', ha='center', va='bottom', fontsize=12, fontweight='bold')\n",
    "\n",
    "# Adding labels and title\n",
    "plt.xlabel('Month', fontsize=12)\n",
    "plt.ylabel('Negative comments', fontsize=12)\n",
    "plt.title('Increase in Negative Comments', fontsize=14, fontweight='bold')\n",
    "\n",
    "# Adjusting the plot layout for better visibility of labels\n",
    "plt.tight_layout()\n",
    "\n",
    "# change y range\n",
    "plt.ylim(0, max(df_neg_comm) + 30)\n",
    "\n",
    "# save and display the plot\n",
    "plt.savefig('neg_comm_plot.png', dpi=300)\n",
    "plt.show()"
   ]
  },
  {
   "cell_type": "markdown",
   "id": "511284aa",
   "metadata": {},
   "source": [
    "**Kill rate**"
   ]
  },
  {
   "cell_type": "code",
   "execution_count": 40,
   "id": "562775b2",
   "metadata": {
    "scrolled": true
   },
   "outputs": [
    {
     "name": "stdout",
     "output_type": "stream",
     "text": [
      "75.98753488372093 71.24990697674419 -6.234743519744967\n"
     ]
    },
    {
     "name": "stderr",
     "output_type": "stream",
     "text": [
      "C:\\Users\\radek\\AppData\\Local\\Temp\\ipykernel_2772\\511469282.py:1: FutureWarning: Calling float on a single element Series is deprecated and will raise a TypeError in the future. Use float(ser.iloc[0]) instead\n",
      "  kill_rate_avg_m1 = float(df_deliverando[df_deliverando['kpi']=='% Kill Rate'].groupby('kpi')['month_1'].mean())\n",
      "C:\\Users\\radek\\AppData\\Local\\Temp\\ipykernel_2772\\511469282.py:2: FutureWarning: Calling float on a single element Series is deprecated and will raise a TypeError in the future. Use float(ser.iloc[0]) instead\n",
      "  kill_rate_avg_m2 = float(df_deliverando[df_deliverando['kpi']=='% Kill Rate'].groupby('kpi')['month_2'].mean())\n"
     ]
    }
   ],
   "source": [
    "kill_rate_avg_m1 = float(df_deliverando[df_deliverando['kpi']=='% Kill Rate'].groupby('kpi')['month_1'].mean())\n",
    "kill_rate_avg_m2 = float(df_deliverando[df_deliverando['kpi']=='% Kill Rate'].groupby('kpi')['month_2'].mean())\n",
    "kill_rate_avg_ratio = (kill_rate_avg_m2/kill_rate_avg_m1-1)*100\n",
    "print(kill_rate_avg_m1, kill_rate_avg_m2, kill_rate_avg_ratio)"
   ]
  },
  {
   "cell_type": "code",
   "execution_count": 50,
   "id": "d6cb8897",
   "metadata": {},
   "outputs": [
    {
     "data": {
      "image/png": "[encoded data removed]",
      "text/plain": [
       "<Figure size 640x480 with 1 Axes>"
      ]
     },
     "metadata": {},
     "output_type": "display_data"
    }
   ],
   "source": [
    "# new df for plot (1 row, 2 numbers)\n",
    "kill_rate_avg_m1 = round(kill_rate_avg_m1, 1)\n",
    "kill_rate_avg_m2 = round(kill_rate_avg_m2, 1)\n",
    "df_plot_kill_rate = [kill_rate_avg_m1, kill_rate_avg_m2]\n",
    "labels = ['June', 'July']\n",
    "\n",
    "# Setting Seaborn style (optional but improves aesthetics)\n",
    "sns.set(style='whitegrid')\n",
    "\n",
    "# Custom color palette\n",
    "colors = ['#849f27', '#849f27']  # You can choose any colors you like\n",
    "\n",
    "# Creating the bar plot with custom colors\n",
    "sns.barplot(x=labels, y=df_plot_kill_rate, palette=colors)\n",
    "\n",
    "# Adding data labels on top of the bars\n",
    "for index, value in enumerate(df_plot_kill_rate):\n",
    "    plt.text(index, value + 1, f'{value}%', ha='center', va='bottom', fontsize=12, fontweight='bold')\n",
    "\n",
    "# Adding labels and title\n",
    "plt.xlabel('Month', fontsize=12)\n",
    "plt.ylabel('Average kill rate (%)', fontsize=12)\n",
    "plt.title('Kill Rate Decrease', fontsize=14, fontweight='bold')\n",
    "\n",
    "# Adjusting the plot layout for better visibility of labels\n",
    "plt.tight_layout()\n",
    "\n",
    "# change y range\n",
    "plt.ylim(0, max(df_plot_kill_rate) + 10)\n",
    "\n",
    "# save and display the plot\n",
    "plt.savefig('kill_rate_plot.png', dpi=300)\n",
    "plt.show()"
   ]
  },
  {
   "cell_type": "markdown",
   "id": "2b7df27a",
   "metadata": {},
   "source": [
    "**Avg time to accept**"
   ]
  },
  {
   "cell_type": "code",
   "execution_count": 36,
   "id": "6c3641a6",
   "metadata": {
    "scrolled": true
   },
   "outputs": [
    {
     "name": "stdout",
     "output_type": "stream",
     "text": [
      "kpi\n",
      "Avg Time to Accept (s)    282.682243\n",
      "Name: month_1, dtype: float64 kpi\n",
      "Avg Time to Accept (s)    277.383178\n",
      "Name: month_2, dtype: float64 kpi\n",
      "Avg Time to Accept (s)   -1.874566\n",
      "dtype: float64\n"
     ]
    }
   ],
   "source": [
    "acc_time_avg_m1 = df_deliverando[df_deliverando['kpi']=='Avg Time to Accept (s)'].groupby('kpi')['month_1'].mean()\n",
    "acc_time_avg_m2 = df_deliverando[df_deliverando['kpi']=='Avg Time to Accept (s)'].groupby('kpi')['month_2'].mean()\n",
    "acc_time_avg_ratio = (acc_time_avg_m2/acc_time_avg_m1-1)*100\n",
    "print(acc_time_avg_m1, acc_time_avg_m2, acc_time_avg_ratio)"
   ]
  },
  {
   "cell_type": "code",
   "execution_count": 64,
   "id": "53cc676e",
   "metadata": {},
   "outputs": [
    {
     "name": "stdout",
     "output_type": "stream",
     "text": [
      "kpi\n",
      "Avg Time to Accept (s)    60494.0\n",
      "Name: month_1, dtype: float64 kpi\n",
      "Avg Time to Accept (s)    59360.0\n",
      "Name: month_2, dtype: float64 kpi\n",
      "Avg Time to Accept (s)   -1134.0\n",
      "dtype: float64\n"
     ]
    }
   ],
   "source": [
    "# total saved time\n",
    "\n",
    "acc_time_sum_m1 = df_deliverando[df_deliverando['kpi']=='Avg Time to Accept (s)'].groupby('kpi')['month_1'].sum()\n",
    "acc_time_sum_m2 = df_deliverando[df_deliverando['kpi']=='Avg Time to Accept (s)'].groupby('kpi')['month_2'].sum()\n",
    "acc_time_avg_diff = acc_time_sum_m2 - acc_time_sum_m1\n",
    "print(acc_time_sum_m1, acc_time_sum_m2, acc_time_avg_diff)"
   ]
  },
  {
   "cell_type": "code",
   "execution_count": 59,
   "id": "8e15b520",
   "metadata": {},
   "outputs": [
    {
     "data": {
      "image/png": "[encoded data removed]",
      "text/plain": [
       "<Figure size 640x480 with 1 Axes>"
      ]
     },
     "metadata": {},
     "output_type": "display_data"
    }
   ],
   "source": [
    "# new df for plot (1 row, 2 numbers)\n",
    "acc_time_avg_m1 = round(float(acc_time_avg_m1))\n",
    "acc_time_avg_m2 = round(float(acc_time_avg_m2))\n",
    "df_plot_acc_time = [acc_time_avg_m1, acc_time_avg_m2]\n",
    "labels = ['June', 'July']\n",
    "\n",
    "# Setting Seaborn style (optional but improves aesthetics)\n",
    "sns.set(style='whitegrid')\n",
    "\n",
    "# Custom color palette\n",
    "colors = ['#849f27', '#849f27']  # You can choose any colors you like\n",
    "\n",
    "# Creating the bar plot with custom colors\n",
    "sns.barplot(x=labels, y=df_plot_acc_time, palette=colors)\n",
    "\n",
    "# Adding data labels on top of the bars\n",
    "for index, value in enumerate(df_plot_acc_time):\n",
    "    plt.text(index, value + 1, f'{value} s', ha='center', va='bottom', fontsize=12, fontweight='bold')\n",
    "\n",
    "# Adding labels and title\n",
    "plt.xlabel('Month', fontsize=12)\n",
    "plt.ylabel('Average time to accept (s)', fontsize=12)\n",
    "plt.title('Decrease in Time to Accept', fontsize=14, fontweight='bold')\n",
    "\n",
    "# Adjusting the plot layout for better visibility of labels\n",
    "plt.tight_layout()\n",
    "\n",
    "# change y range\n",
    "plt.ylim(0, max(df_plot_acc_time) + 30)\n",
    "\n",
    "# save and display the plot\n",
    "plt.savefig('acc_time_plot.png', dpi=300)\n",
    "plt.show()"
   ]
  },
  {
   "cell_type": "markdown",
   "id": "4b524c11",
   "metadata": {},
   "source": [
    "**No. of positive comments is never larger than 1:**"
   ]
  },
  {
   "cell_type": "code",
   "execution_count": 144,
   "id": "6a9b6d12",
   "metadata": {
    "scrolled": true
   },
   "outputs": [
    {
     "data": {
      "text/html": [
       "<div>\n",
       "<style scoped>\n",
       "    .dataframe tbody tr th:only-of-type {\n",
       "        vertical-align: middle;\n",
       "    }\n",
       "\n",
       "    .dataframe tbody tr th {\n",
       "        vertical-align: top;\n",
       "    }\n",
       "\n",
       "    .dataframe thead th {\n",
       "        text-align: right;\n",
       "    }\n",
       "</style>\n",
       "<table border=\"1\" class=\"dataframe\">\n",
       "  <thead>\n",
       "    <tr style=\"text-align: right;\">\n",
       "      <th></th>\n",
       "      <th>name</th>\n",
       "      <th>zip</th>\n",
       "      <th>kpi</th>\n",
       "      <th>month_1</th>\n",
       "      <th>month_2</th>\n",
       "      <th>delivery_service</th>\n",
       "    </tr>\n",
       "  </thead>\n",
       "  <tbody>\n",
       "  </tbody>\n",
       "</table>\n",
       "</div>"
      ],
      "text/plain": [
       "Empty DataFrame\n",
       "Columns: [name, zip, kpi, month_1, month_2, delivery_service]\n",
       "Index: []"
      ]
     },
     "execution_count": 144,
     "metadata": {},
     "output_type": "execute_result"
    }
   ],
   "source": [
    "df_deliverando[(df_deliverando['kpi']=='# Positive Comments') & ((df_deliverando['month_1']>1) | (df_deliverando['month_2']>1))]\n"
   ]
  },
  {
   "cell_type": "markdown",
   "id": "ba2646a6",
   "metadata": {},
   "source": [
    "**More statistics after cumcount**"
   ]
  },
  {
   "cell_type": "code",
   "execution_count": 7,
   "id": "2189f0f0",
   "metadata": {},
   "outputs": [],
   "source": [
    "df_stat = df_deliverando\n",
    "df_stat['franchise'] = df_stat.groupby(['name','zip','kpi']).cumcount()\n",
    "\n",
    "df_stat[['zip', 'franchise']] = df_stat[['zip', 'franchise']].astype(str)\n",
    "\n",
    "df_stat['name_franchise'] = df_stat['name'] +' '+ df_stat['zip']\\\n",
    "+' No. '+ df_stat['franchise']"
   ]
  },
  {
   "cell_type": "code",
   "execution_count": 11,
   "id": "ccd4c2d2",
   "metadata": {},
   "outputs": [
    {
     "data": {
      "text/html": [
       "<div>\n",
       "<style scoped>\n",
       "    .dataframe tbody tr th:only-of-type {\n",
       "        vertical-align: middle;\n",
       "    }\n",
       "\n",
       "    .dataframe tbody tr th {\n",
       "        vertical-align: top;\n",
       "    }\n",
       "\n",
       "    .dataframe thead tr th {\n",
       "        text-align: left;\n",
       "    }\n",
       "</style>\n",
       "<table border=\"1\" class=\"dataframe\">\n",
       "  <thead>\n",
       "    <tr>\n",
       "      <th></th>\n",
       "      <th colspan=\"6\" halign=\"left\">month_1</th>\n",
       "      <th colspan=\"6\" halign=\"left\">month_2</th>\n",
       "    </tr>\n",
       "    <tr>\n",
       "      <th>kpi</th>\n",
       "      <th># Commissionable Orders</th>\n",
       "      <th># Negative Comments</th>\n",
       "      <th># Positive Comments</th>\n",
       "      <th>% Kill Rate</th>\n",
       "      <th>Avg Basket Size €</th>\n",
       "      <th>Avg Time to Accept (s)</th>\n",
       "      <th># Commissionable Orders</th>\n",
       "      <th># Negative Comments</th>\n",
       "      <th># Positive Comments</th>\n",
       "      <th>% Kill Rate</th>\n",
       "      <th>Avg Basket Size €</th>\n",
       "      <th>Avg Time to Accept (s)</th>\n",
       "    </tr>\n",
       "  </thead>\n",
       "  <tbody>\n",
       "    <tr>\n",
       "      <th>count</th>\n",
       "      <td>335.000000</td>\n",
       "      <td>334.000000</td>\n",
       "      <td>329.000000</td>\n",
       "      <td>215.000000</td>\n",
       "      <td>214.000000</td>\n",
       "      <td>214.000000</td>\n",
       "      <td>335.000000</td>\n",
       "      <td>334.000000</td>\n",
       "      <td>329.000000</td>\n",
       "      <td>215.000000</td>\n",
       "      <td>214.000000</td>\n",
       "      <td>214.000000</td>\n",
       "    </tr>\n",
       "    <tr>\n",
       "      <th>mean</th>\n",
       "      <td>159.635821</td>\n",
       "      <td>0.838323</td>\n",
       "      <td>0.577508</td>\n",
       "      <td>75.987535</td>\n",
       "      <td>20.644953</td>\n",
       "      <td>282.682243</td>\n",
       "      <td>166.020896</td>\n",
       "      <td>0.901198</td>\n",
       "      <td>0.610942</td>\n",
       "      <td>71.249907</td>\n",
       "      <td>20.929112</td>\n",
       "      <td>277.383178</td>\n",
       "    </tr>\n",
       "    <tr>\n",
       "      <th>std</th>\n",
       "      <td>321.414462</td>\n",
       "      <td>1.964604</td>\n",
       "      <td>0.494708</td>\n",
       "      <td>43.857855</td>\n",
       "      <td>5.173853</td>\n",
       "      <td>267.414735</td>\n",
       "      <td>316.655108</td>\n",
       "      <td>1.907579</td>\n",
       "      <td>0.488279</td>\n",
       "      <td>42.018859</td>\n",
       "      <td>5.354354</td>\n",
       "      <td>242.810815</td>\n",
       "    </tr>\n",
       "    <tr>\n",
       "      <th>min</th>\n",
       "      <td>0.000000</td>\n",
       "      <td>0.000000</td>\n",
       "      <td>0.000000</td>\n",
       "      <td>0.000000</td>\n",
       "      <td>9.230000</td>\n",
       "      <td>9.000000</td>\n",
       "      <td>0.000000</td>\n",
       "      <td>0.000000</td>\n",
       "      <td>0.000000</td>\n",
       "      <td>0.000000</td>\n",
       "      <td>8.750000</td>\n",
       "      <td>9.000000</td>\n",
       "    </tr>\n",
       "    <tr>\n",
       "      <th>25%</th>\n",
       "      <td>0.000000</td>\n",
       "      <td>0.000000</td>\n",
       "      <td>0.000000</td>\n",
       "      <td>48.000000</td>\n",
       "      <td>16.962500</td>\n",
       "      <td>19.000000</td>\n",
       "      <td>0.000000</td>\n",
       "      <td>0.000000</td>\n",
       "      <td>0.000000</td>\n",
       "      <td>45.500000</td>\n",
       "      <td>17.297500</td>\n",
       "      <td>18.000000</td>\n",
       "    </tr>\n",
       "    <tr>\n",
       "      <th>50%</th>\n",
       "      <td>36.000000</td>\n",
       "      <td>0.000000</td>\n",
       "      <td>1.000000</td>\n",
       "      <td>77.000000</td>\n",
       "      <td>20.705000</td>\n",
       "      <td>323.500000</td>\n",
       "      <td>40.000000</td>\n",
       "      <td>0.000000</td>\n",
       "      <td>1.000000</td>\n",
       "      <td>71.000000</td>\n",
       "      <td>20.950000</td>\n",
       "      <td>312.500000</td>\n",
       "    </tr>\n",
       "    <tr>\n",
       "      <th>75%</th>\n",
       "      <td>160.000000</td>\n",
       "      <td>1.000000</td>\n",
       "      <td>1.000000</td>\n",
       "      <td>102.500000</td>\n",
       "      <td>24.057500</td>\n",
       "      <td>462.000000</td>\n",
       "      <td>159.000000</td>\n",
       "      <td>1.000000</td>\n",
       "      <td>1.000000</td>\n",
       "      <td>95.000000</td>\n",
       "      <td>24.292500</td>\n",
       "      <td>476.500000</td>\n",
       "    </tr>\n",
       "    <tr>\n",
       "      <th>max</th>\n",
       "      <td>2508.000000</td>\n",
       "      <td>13.000000</td>\n",
       "      <td>1.000000</td>\n",
       "      <td>227.000000</td>\n",
       "      <td>38.300000</td>\n",
       "      <td>1951.000000</td>\n",
       "      <td>2180.000000</td>\n",
       "      <td>11.000000</td>\n",
       "      <td>1.000000</td>\n",
       "      <td>231.000000</td>\n",
       "      <td>43.100000</td>\n",
       "      <td>1051.000000</td>\n",
       "    </tr>\n",
       "  </tbody>\n",
       "</table>\n",
       "</div>"
      ],
      "text/plain": [
       "                      month_1                                          \\\n",
       "kpi   # Commissionable Orders # Negative Comments # Positive Comments   \n",
       "count              335.000000          334.000000          329.000000   \n",
       "mean               159.635821            0.838323            0.577508   \n",
       "std                321.414462            1.964604            0.494708   \n",
       "min                  0.000000            0.000000            0.000000   \n",
       "25%                  0.000000            0.000000            0.000000   \n",
       "50%                 36.000000            0.000000            1.000000   \n",
       "75%                160.000000            1.000000            1.000000   \n",
       "max               2508.000000           13.000000            1.000000   \n",
       "\n",
       "                                                            \\\n",
       "kpi   % Kill Rate Avg Basket Size € Avg Time to Accept (s)   \n",
       "count  215.000000        214.000000             214.000000   \n",
       "mean    75.987535         20.644953             282.682243   \n",
       "std     43.857855          5.173853             267.414735   \n",
       "min      0.000000          9.230000               9.000000   \n",
       "25%     48.000000         16.962500              19.000000   \n",
       "50%     77.000000         20.705000             323.500000   \n",
       "75%    102.500000         24.057500             462.000000   \n",
       "max    227.000000         38.300000            1951.000000   \n",
       "\n",
       "                      month_2                                          \\\n",
       "kpi   # Commissionable Orders # Negative Comments # Positive Comments   \n",
       "count              335.000000          334.000000          329.000000   \n",
       "mean               166.020896            0.901198            0.610942   \n",
       "std                316.655108            1.907579            0.488279   \n",
       "min                  0.000000            0.000000            0.000000   \n",
       "25%                  0.000000            0.000000            0.000000   \n",
       "50%                 40.000000            0.000000            1.000000   \n",
       "75%                159.000000            1.000000            1.000000   \n",
       "max               2180.000000           11.000000            1.000000   \n",
       "\n",
       "                                                            \n",
       "kpi   % Kill Rate Avg Basket Size € Avg Time to Accept (s)  \n",
       "count  215.000000        214.000000             214.000000  \n",
       "mean    71.249907         20.929112             277.383178  \n",
       "std     42.018859          5.354354             242.810815  \n",
       "min      0.000000          8.750000               9.000000  \n",
       "25%     45.500000         17.297500              18.000000  \n",
       "50%     71.000000         20.950000             312.500000  \n",
       "75%     95.000000         24.292500             476.500000  \n",
       "max    231.000000         43.100000            1051.000000  "
      ]
     },
     "execution_count": 11,
     "metadata": {},
     "output_type": "execute_result"
    }
   ],
   "source": [
    "df_stat_wide = pd.pivot(df_stat,\n",
    "                     columns='kpi', # column to pivot\n",
    "                     index=['name_franchise'], # columns to be kept, must become multicolumn index\n",
    "                     values=['month_1', 'month_2']) # column of values to pivot\n",
    "df_stat_wide = df_stat_wide.reset_index() # get rid of multicolumn index\n",
    "df_stat_wide.describe()"
   ]
  },
  {
   "cell_type": "code",
   "execution_count": 106,
   "id": "2907860a",
   "metadata": {},
   "outputs": [],
   "source": [
    "df_competition_month1 = pd.read_excel('../data/SalesAnalyst_Competition.xlsx', sheet_name = 'Month 1')\n",
    "df_competition_month2 = pd.read_excel('../data/SalesAnalyst_Competition.xlsx', sheet_name = 'Month 2')\n",
    "\n",
    "df_competition_month1 = df_competition_month1[df_competition_month1['zip'].isin([8010, 8020, 8036, 8041, 8042, 8043, 8045, 8051, 8052, 8053, 8054, 8055, 8063, 8077])]\n",
    "df_competition_month2 = df_competition_month2[df_competition_month2['zip'].isin([8010, 8020, 8036, 8041, 8042, 8043, 8045, 8051, 8052, 8053, 8054, 8055, 8063, 8077])]\n"
   ]
  },
  {
   "cell_type": "code",
   "execution_count": 107,
   "id": "d125152e",
   "metadata": {},
   "outputs": [
    {
     "data": {
      "text/html": [
       "<div>\n",
       "<style scoped>\n",
       "    .dataframe tbody tr th:only-of-type {\n",
       "        vertical-align: middle;\n",
       "    }\n",
       "\n",
       "    .dataframe tbody tr th {\n",
       "        vertical-align: top;\n",
       "    }\n",
       "\n",
       "    .dataframe thead th {\n",
       "        text-align: right;\n",
       "    }\n",
       "</style>\n",
       "<table border=\"1\" class=\"dataframe\">\n",
       "  <thead>\n",
       "    <tr style=\"text-align: right;\">\n",
       "      <th></th>\n",
       "      <th>name</th>\n",
       "      <th>zip</th>\n",
       "      <th>orders</th>\n",
       "      <th>month</th>\n",
       "      <th>delivery_service</th>\n",
       "    </tr>\n",
       "  </thead>\n",
       "  <tbody>\n",
       "    <tr>\n",
       "      <th>21</th>\n",
       "      <td>PHO YOU</td>\n",
       "      <td>8010</td>\n",
       "      <td>29</td>\n",
       "      <td>2</td>\n",
       "      <td>competition</td>\n",
       "    </tr>\n",
       "    <tr>\n",
       "      <th>57</th>\n",
       "      <td>Than Thai Asia</td>\n",
       "      <td>8010</td>\n",
       "      <td>12</td>\n",
       "      <td>2</td>\n",
       "      <td>competition</td>\n",
       "    </tr>\n",
       "    <tr>\n",
       "      <th>60</th>\n",
       "      <td>Heinz</td>\n",
       "      <td>8041</td>\n",
       "      <td>672</td>\n",
       "      <td>2</td>\n",
       "      <td>competition</td>\n",
       "    </tr>\n",
       "  </tbody>\n",
       "</table>\n",
       "</div>"
      ],
      "text/plain": [
       "              name   zip  orders  month delivery_service\n",
       "21         PHO YOU  8010      29      2      competition\n",
       "57  Than Thai Asia  8010      12      2      competition\n",
       "60           Heinz  8041     672      2      competition"
      ]
     },
     "execution_count": 107,
     "metadata": {},
     "output_type": "execute_result"
    }
   ],
   "source": [
    "df_competition_month1.drop_duplicates(inplace=True)\n",
    "df_competition_month2.drop_duplicates(inplace=True)\n",
    "\n",
    "df_competition_month2.head(3)"
   ]
  },
  {
   "cell_type": "code",
   "execution_count": 108,
   "id": "0c6f40c6",
   "metadata": {},
   "outputs": [],
   "source": [
    "# try stripping values in 'names'\n",
    "\n",
    "df_deliverando['name'] = df_deliverando['name'].str.strip()\n",
    "df_competition_month1['name'] = df_competition_month1['name'].str.strip()\n",
    "df_competition_month2['name'] = df_competition_month2['name'].str.strip()"
   ]
  },
  {
   "cell_type": "code",
   "execution_count": 109,
   "id": "146c1c1e",
   "metadata": {},
   "outputs": [],
   "source": [
    "# the problem with duplicates is that they have different zip, need to drop this column first\n",
    "\n",
    "df_deliverando = df_deliverando.drop(columns='zip')\n",
    "df_competition_month1 = df_competition_month1.drop(columns='zip')\n",
    "df_competition_month2 = df_competition_month2.drop(columns='zip')"
   ]
  },
  {
   "cell_type": "code",
   "execution_count": 110,
   "id": "bcfd125f",
   "metadata": {},
   "outputs": [],
   "source": [
    "#df_deliverando['name'].value_counts()['McDonald\\'s®']"
   ]
  },
  {
   "cell_type": "code",
   "execution_count": 111,
   "id": "57d1733f",
   "metadata": {},
   "outputs": [],
   "source": [
    "# group by and sum up rows for duplicates in 'name'\n",
    "\n",
    "df_competition_month1 = df_competition_month1.groupby(['name', 'month', 'delivery_service'])['orders'].sum().reset_index()\n",
    "df_competition_month1 = df_competition_month1.groupby(['name', 'month', 'delivery_service'])['orders'].sum().reset_index()\n",
    "\n",
    "\n",
    "df_competition_month2 = \\\n",
    "df_competition_month2.groupby(['name', 'month', 'delivery_service'])['orders'].sum().reset_index()\n",
    "\n",
    "df_deliverando = \\\n",
    "df_deliverando[df_deliverando['kpi']=='# Commissionable Orders'].groupby(['name', 'kpi', 'delivery_service'])[['month_1','month_2']].sum().reset_index()\n"
   ]
  },
  {
   "cell_type": "code",
   "execution_count": 112,
   "id": "ad128b93",
   "metadata": {},
   "outputs": [
    {
     "name": "stdout",
     "output_type": "stream",
     "text": [
      "                       name  month delivery_service  orders\n",
      "53  Chin Chin Asia Specials      1      competition    2443\n"
     ]
    }
   ],
   "source": [
    "print(df_competition_month1[df_competition_month1['name'] == 'Chin Chin Asia Specials'])"
   ]
  },
  {
   "cell_type": "code",
   "execution_count": 113,
   "id": "47dfa8a8",
   "metadata": {},
   "outputs": [],
   "source": [
    "# test duplicates for 'Chin Chin Asia Specials'\n",
    "# df_competition_month1['name'].value_counts()['Chin Chin Asia Specials']"
   ]
  },
  {
   "cell_type": "code",
   "execution_count": 114,
   "id": "6f51874b",
   "metadata": {},
   "outputs": [
    {
     "data": {
      "text/plain": [
       "1"
      ]
     },
     "execution_count": 114,
     "metadata": {},
     "output_type": "execute_result"
    }
   ],
   "source": [
    "df_competition_month1['name'].value_counts()['McDonald\\'s®']"
   ]
  },
  {
   "cell_type": "markdown",
   "id": "bc11c4bb",
   "metadata": {},
   "source": [
    "## Analysis"
   ]
  },
  {
   "cell_type": "markdown",
   "id": "00bc8ee0",
   "metadata": {},
   "source": [
    "### 1. How many restaurants are active on deliverando or our competitors in the given months?\n",
    "### *+ How much have the respective platforms grown?*"
   ]
  },
  {
   "cell_type": "code",
   "execution_count": 116,
   "id": "1139b096",
   "metadata": {},
   "outputs": [
    {
     "name": "stdout",
     "output_type": "stream",
     "text": [
      "Deliverando: 211 restaurants in Month 1, 216 restaurants in Month 2 (growth of 2.4 %).\n",
      "Competition: 266 restaurants in Month 1, 276 restaurants in Month 2 (growth of 3.8 %).\n"
     ]
    }
   ],
   "source": [
    "no_deliverando_m1 = df_deliverando[(df_deliverando['kpi']=='# Commissionable Orders') &\\\n",
    "                                   (df_deliverando['month_1']>0)]['name'].nunique()\n",
    "no_deliverando_m2 = df_deliverando[(df_deliverando['kpi']=='# Commissionable Orders') &\\\n",
    "                                   (df_deliverando['month_2']>0)]['name'].nunique()\n",
    "growth_deliverando = round((no_deliverando_m2/no_deliverando_m1-1)*100, 1)\n",
    "print(f'Deliverando: {no_deliverando_m1} restaurants in Month 1, {no_deliverando_m2} restaurants in Month 2 \\\n",
    "(growth of {growth_deliverando} %).')\n",
    "\n",
    "no_competition_m1 = df_competition_month1[df_competition_month1['orders']>0]['name'].nunique()\n",
    "no_competition_m2 = df_competition_month2[df_competition_month2['orders']>0]['name'].nunique()\n",
    "growth_competition = round((no_competition_m2/no_competition_m1-1)*100, 1)\n",
    "print(f'Competition: {no_competition_m1} restaurants in Month 1, {no_competition_m2} restaurants in Month 2 \\\n",
    "(growth of {growth_competition} %).')\n"
   ]
  },
  {
   "cell_type": "code",
   "execution_count": 152,
   "id": "163d3b69",
   "metadata": {},
   "outputs": [
    {
     "data": {
      "image/png": "[encoded data removed]",
      "text/plain": [
       "<Figure size 1200x600 with 2 Axes>"
      ]
     },
     "metadata": {},
     "output_type": "display_data"
    }
   ],
   "source": [
    "# Data for Deliverando and Competition restaurants in Month 1 and Month 2\n",
    "deliverando_month1 = 211\n",
    "deliverando_month2 = 216\n",
    "competition_month1 = 266\n",
    "competition_month2 = 276\n",
    "\n",
    "# Create a list with the restaurant counts for each company\n",
    "restaurants_month1 = [deliverando_month1, competition_month1]\n",
    "restaurants_month2 = [deliverando_month2, competition_month2]\n",
    "\n",
    "# Company names for labeling the pie charts\n",
    "companies = ['Deliverando', 'Competition']\n",
    "\n",
    "# Colors for Deliverando and Competition\n",
    "colors = ['#849f27', '#fc8d62']\n",
    "\n",
    "# Create a figure with 2 subplots, one for each month\n",
    "fig, axs = plt.subplots(1, 2, figsize=(12, 6), facecolor='#d9d9d9', gridspec_kw={'wspace': 0.4})\n",
    "\n",
    "# Set font size to double\n",
    "sns.set(font_scale=1.5)\n",
    "\n",
    "# Plot the pie chart for Month 1\n",
    "axs[0].pie(restaurants_month1, labels=companies, autopct='%1.1f%%', startangle=90, colors=colors)\n",
    "axs[0].set_title('June')\n",
    "\n",
    "# Plot the pie chart for Month 2\n",
    "axs[1].pie(restaurants_month2, labels=companies, autopct='%1.1f%%', startangle=90, colors=colors)\n",
    "axs[1].set_title('July')\n",
    "\n",
    "# Set the aspect ratio to be equal so that the pie charts are circular\n",
    "axs[0].set_aspect('equal')\n",
    "axs[1].set_aspect('equal')\n",
    "\n",
    "# Display the pie charts\n",
    "plt.savefig('comparison_pie.png', dpi=300)\n",
    "plt.show()"
   ]
  },
  {
   "cell_type": "code",
   "execution_count": 156,
   "id": "ecfd001b",
   "metadata": {},
   "outputs": [
    {
     "data": {
      "image/png": "[encoded data removed]",
      "text/plain": [
       "<Figure size 1200x600 with 2 Axes>"
      ]
     },
     "metadata": {},
     "output_type": "display_data"
    }
   ],
   "source": [
    "# Data for Deliverando and Competition restaurants in Month 1 and Month 2\n",
    "deliverando_month1 = 211\n",
    "deliverando_month2 = 216\n",
    "competition_month1 = 266\n",
    "competition_month2 = 276\n",
    "\n",
    "# Create a list with the restaurant counts for each company\n",
    "restaurants_month1 = [deliverando_month1, competition_month1]\n",
    "restaurants_month2 = [deliverando_month2, competition_month2]\n",
    "\n",
    "# Company names for labeling the pie charts\n",
    "companies = ['Deliverando', 'Competition']\n",
    "\n",
    "# Colors for Deliverando and Competition\n",
    "colors = ['#849f27', '#fc8d62']\n",
    "\n",
    "# Create a figure with 2 subplots, one for each month\n",
    "fig, axs = plt.subplots(1, 2, figsize=(12, 6), facecolor='#d9d9d9', gridspec_kw={'wspace': 0.4})\n",
    "\n",
    "# Set font size to double\n",
    "sns.set(font_scale=1.5)\n",
    "\n",
    "# Custom function to display absolute numbers and percentages with smaller font size\n",
    "def absolute_and_percentage(pct, allvals):\n",
    "    absolute = int(pct/100.*sum(allvals))\n",
    "    return \"{:.0f} ({:.1f}%)\".format(absolute, pct)\n",
    "\n",
    "# Plot the pie chart for Month 1 with smaller font size\n",
    "axs[0].pie(restaurants_month1, labels=companies, autopct=lambda pct: absolute_and_percentage(pct, restaurants_month1), startangle=90, colors=colors, textprops={'fontsize': 13})\n",
    "axs[0].set_title('June')\n",
    "\n",
    "# Plot the pie chart for Month 2 with smaller font size\n",
    "axs[1].pie(restaurants_month2, labels=companies, autopct=lambda pct: absolute_and_percentage(pct, restaurants_month2), startangle=90, colors=colors, textprops={'fontsize': 13})\n",
    "axs[1].set_title('July')\n",
    "\n",
    "# Set the aspect ratio to be equal so that the pie charts are circular\n",
    "axs[0].set_aspect('equal')\n",
    "axs[1].set_aspect('equal')\n",
    "\n",
    "# Display the pie charts\n",
    "plt.savefig('comparison_pie.png', dpi=300)\n",
    "plt.show()"
   ]
  },
  {
   "cell_type": "code",
   "execution_count": 128,
   "id": "f790d745",
   "metadata": {
    "scrolled": true
   },
   "outputs": [
    {
     "data": {
      "image/png": "[encoded data removed]",
      "text/plain": [
       "<Figure size 1200x600 with 2 Axes>"
      ]
     },
     "metadata": {},
     "output_type": "display_data"
    }
   ],
   "source": [
    "# Data\n",
    "months = ['June', 'July']\n",
    "deliverando_restaurants = [211, 216]\n",
    "competition_restaurants = [266, 276]\n",
    "\n",
    "# Create a figure with two subplots (1 row, 2 columns) sharing the y-axis\n",
    "fig, axs = plt.subplots(1, 2, figsize=(12, 6), sharey=True)\n",
    "\n",
    "# Customize colors\n",
    "deliverando_color = '#849f27'\n",
    "competition_color = '#fc8d62'\n",
    "\n",
    "# Bar chart for Deliverando\n",
    "sns.barplot(x=months, y=deliverando_restaurants, ax=axs[0], color=deliverando_color)\n",
    "axs[0].set_title('Deliverando', fontsize=14, fontweight='bold')\n",
    "# axs[0].set_xlabel('Months')\n",
    "axs[0].set_ylabel('Restaurants')\n",
    "axs[0].set_ylim(0, 290)  # Set y-axis upper limit to 290\n",
    "\n",
    "# Add data labels on top of the bars for Deliverando\n",
    "for index, value in enumerate(deliverando_restaurants):\n",
    "    axs[0].text(index, value, str(value), ha='center', va='bottom', fontweight='bold')\n",
    "\n",
    "# Bar chart for Competition\n",
    "sns.barplot(x=months, y=competition_restaurants, ax=axs[1], color=competition_color)\n",
    "axs[1].set_title('Competition', fontsize=14, fontweight='bold')\n",
    "#axs[1].set_xlabel('Months')\n",
    "# axs[1].set_ylabel('Restaurants') # Comment out this line to remove y-axis label for the second subplot\n",
    "axs[1].set_ylim(0, 290)  # Set y-axis upper limit to 290\n",
    "\n",
    "# Add data labels on top of the bars for Competition\n",
    "for index, value in enumerate(competition_restaurants):\n",
    "    axs[1].text(index, value, str(value), ha='center', va='bottom', fontweight='bold')\n",
    "\n",
    "plt.tight_layout()\n",
    "plt.savefig('comparison.png', dpi=300)\n",
    "plt.show()"
   ]
  },
  {
   "cell_type": "code",
   "execution_count": 141,
   "id": "e960b013",
   "metadata": {
    "scrolled": false
   },
   "outputs": [
    {
     "data": {
      "text/plain": [
       "0    1\n",
       "1    1\n",
       "Name: 0, dtype: int64"
      ]
     },
     "execution_count": 141,
     "metadata": {},
     "output_type": "execute_result"
    }
   ],
   "source": [
    "data = pd.DataFrame([[1, 1.24],[1, 1.38]])\n",
    "data[0]"
   ]
  },
  {
   "cell_type": "code",
   "execution_count": 142,
   "id": "4a75489e",
   "metadata": {},
   "outputs": [
    {
     "name": "stdout",
     "output_type": "stream",
     "text": [
      "-4.428571428571432 0.0473931200123467\n"
     ]
    }
   ],
   "source": [
    "test_statistic, pvalue = stats.ttest_ind(data[0], data[1])\n",
    "print (test_statistic, pvalue)"
   ]
  },
  {
   "cell_type": "markdown",
   "id": "ade7d4b6",
   "metadata": {},
   "source": [
    "### 2. How many restaurants are exclusively online with our competitors and not available on deliverando?"
   ]
  },
  {
   "cell_type": "code",
   "execution_count": 16,
   "id": "6f0f1bd7",
   "metadata": {},
   "outputs": [
    {
     "name": "stdout",
     "output_type": "stream",
     "text": [
      "There are 117 restaurants solely on competing platforms.\n",
      "These are: Al Forno, Alkexpress Graz, Anka Pizza & Kebap, Antalya Kebap & Pizza, Arena - Kebap, Pizza, Burger, Asia Restaurant -Cineplexx, Asia-Wok Royal, Asparagos, Babe Asia-Noodle-House, Barista's, Bauernwirt, Bellagio Uni Viertel, Bellys 2, Best Food Grill 7, BOWL - GRAZ HAUPTPLATZ, Bräukeller, Bungalow, Burger Factory, By Kebap, Cafe Bali, Cafe Pizzeria La Famiglia, Café Beirut, Campus Cafe, Ceylon Curry, China Restaurant Goldener Fisch, China Restaurant Szechuan, Chinarestaurant Shun Feng, Chop - Suey, Clocktower American Bar & Grill, Die Bausatz Lokale, Die Herzl, Dim Sum, Dolce Vita Graz, Don Camillo Murpark, Dumpling Factory, Dunkin' Donuts, Eat - Asiafood, Eiskaffee ROMA-Konditorei, eleven, Eli's, Elit Restaurant Graz, Euro kebap, Europa Kebab, Fandl Hendl, Flamingo Graz, Flann O'Brien, Ganesha Indian Restaurant, Gasthaus zur Traube, Georgische Küche - Tamada, Gourmet Express, Grill & Box, Grill Am Gries, Gössendorfer Pizza-Burger-Kebaphaus, Göstinger Hof, Hai Asia, Haru Sushi Bar 8010, Haru Sushi Bar 8020, Hathi-Indische Spezialitäten, Heinz, Himalaya Masala, HirschBauer- Schnapserei Vineria Bauer, Ichiban, In's Pfandl, Kaffeesiederei Schraußer, Kirby's American Kitchen, Koko, Kyabia - Japanese Restaurant, La Perla, La Pizza, Like Pizza und Kebab, LIU ASIA Restaurant & Bar, Mando, Mile's Diner, Momiji Asia Restaurant, Momo's Restaurant, Mr. Bin im Glockenspielcafe, Nam Bistro, Nandos, Noodlebox, Ortweinstandl, OTA Taiwanesisches Restaurant, Pastificio, Peri Peri 2, Phoenix Pizza, PiPaPo Marktrestaurant Pizzeria, Pizza Side, Pizza Stella, Pizzeria David, Pizzeria Kebap Onkel Donald, Pizzeria Roma Graz, Pizzeria Veneziastar, Pizzeria Volta, Restaurant Athen, Restaurant Cevabdzinica Hodzic, Restaurant Kornati, Restaurant Zum Kochlöffel, Rosamunde Kebap, Römerstube, Safi Pizza Burger, Safran Restaurant Cafe, Sphinx- Arabisches Restaurant, Stand 12 - weil's Wurscht is, SternBar, Thali Platz, The Hungry Heart - Graz, Thomawirt, Torona, Ungerhof, Unicafe, Unis Kebap, Venezia, Vina Restaurant, Vis A Vis am Tummelplatz, WELG Kebap & Pizza, Zeppelin, Zu den 3 Goldenen Kugeln, Zum Mandarin.\n"
     ]
    }
   ],
   "source": [
    "set_competition = set(df_competition_month1['name'].unique())|set(df_competition_month2['name'].unique())\n",
    "set_deliverando = set(df_deliverando['name'].unique())\n",
    "only_competition = sorted(set_competition - set_deliverando, key=lambda x: x.lower()) # sorts regardless upper / lowercase\n",
    "\n",
    "only_comp_str = ', '.join(only_competition) # makes a string out of list items\n",
    "print(f'There are {len(only_competition)} restaurants solely on competing platforms.\\n\\\n",
    "These are:', only_comp_str + '.')"
   ]
  },
  {
   "cell_type": "code",
   "execution_count": 17,
   "id": "4f7ac230",
   "metadata": {},
   "outputs": [],
   "source": [
    "# test - intersection\n",
    "\n",
    "# intersection = set_competition & set_deliverando\n",
    "# intersection"
   ]
  },
  {
   "cell_type": "markdown",
   "id": "b0a5bc61",
   "metadata": {},
   "source": [
    "### 3. Which restaurants have placed the most orders with our competitors (top 10)?"
   ]
  },
  {
   "cell_type": "code",
   "execution_count": 18,
   "id": "74fd68cb",
   "metadata": {},
   "outputs": [
    {
     "data": {
      "text/html": [
       "<div>\n",
       "<style scoped>\n",
       "    .dataframe tbody tr th:only-of-type {\n",
       "        vertical-align: middle;\n",
       "    }\n",
       "\n",
       "    .dataframe tbody tr th {\n",
       "        vertical-align: top;\n",
       "    }\n",
       "\n",
       "    .dataframe thead th {\n",
       "        text-align: right;\n",
       "    }\n",
       "</style>\n",
       "<table border=\"1\" class=\"dataframe\">\n",
       "  <thead>\n",
       "    <tr style=\"text-align: right;\">\n",
       "      <th></th>\n",
       "      <th>name</th>\n",
       "      <th>month_x</th>\n",
       "      <th>delivery_service</th>\n",
       "      <th>orders_x</th>\n",
       "      <th>month_y</th>\n",
       "      <th>orders_y</th>\n",
       "    </tr>\n",
       "  </thead>\n",
       "  <tbody>\n",
       "    <tr>\n",
       "      <th>0</th>\n",
       "      <td>Adelphia</td>\n",
       "      <td>1</td>\n",
       "      <td>competition</td>\n",
       "      <td>126</td>\n",
       "      <td>2</td>\n",
       "      <td>234</td>\n",
       "    </tr>\n",
       "    <tr>\n",
       "      <th>1</th>\n",
       "      <td>Aegaeis - Greek Grill</td>\n",
       "      <td>1</td>\n",
       "      <td>competition</td>\n",
       "      <td>9</td>\n",
       "      <td>2</td>\n",
       "      <td>13</td>\n",
       "    </tr>\n",
       "    <tr>\n",
       "      <th>2</th>\n",
       "      <td>Afghan Restaurant</td>\n",
       "      <td>1</td>\n",
       "      <td>competition</td>\n",
       "      <td>40</td>\n",
       "      <td>2</td>\n",
       "      <td>78</td>\n",
       "    </tr>\n",
       "  </tbody>\n",
       "</table>\n",
       "</div>"
      ],
      "text/plain": [
       "                    name  month_x delivery_service  orders_x  month_y  \\\n",
       "0               Adelphia        1      competition       126        2   \n",
       "1  Aegaeis - Greek Grill        1      competition         9        2   \n",
       "2      Afghan Restaurant        1      competition        40        2   \n",
       "\n",
       "   orders_y  \n",
       "0       234  \n",
       "1        13  \n",
       "2        78  "
      ]
     },
     "execution_count": 18,
     "metadata": {},
     "output_type": "execute_result"
    }
   ],
   "source": [
    "# join month 1 and 2:\n",
    "\n",
    "df_competition = pd.merge(df_competition_month1, df_competition_month2, how='inner', on=['name', 'delivery_service'])\n",
    "df_competition.head(3)"
   ]
  },
  {
   "cell_type": "code",
   "execution_count": 19,
   "id": "b30a8918",
   "metadata": {},
   "outputs": [
    {
     "data": {
      "text/html": [
       "<div>\n",
       "<style scoped>\n",
       "    .dataframe tbody tr th:only-of-type {\n",
       "        vertical-align: middle;\n",
       "    }\n",
       "\n",
       "    .dataframe tbody tr th {\n",
       "        vertical-align: top;\n",
       "    }\n",
       "\n",
       "    .dataframe thead th {\n",
       "        text-align: right;\n",
       "    }\n",
       "</style>\n",
       "<table border=\"1\" class=\"dataframe\">\n",
       "  <thead>\n",
       "    <tr style=\"text-align: right;\">\n",
       "      <th></th>\n",
       "      <th>name</th>\n",
       "      <th>delivery_service</th>\n",
       "      <th>month_1</th>\n",
       "      <th>month_2</th>\n",
       "      <th>orders_total</th>\n",
       "    </tr>\n",
       "  </thead>\n",
       "  <tbody>\n",
       "    <tr>\n",
       "      <th>0</th>\n",
       "      <td>Adelphia</td>\n",
       "      <td>competition</td>\n",
       "      <td>126</td>\n",
       "      <td>234</td>\n",
       "      <td>360</td>\n",
       "    </tr>\n",
       "    <tr>\n",
       "      <th>1</th>\n",
       "      <td>Aegaeis - Greek Grill</td>\n",
       "      <td>competition</td>\n",
       "      <td>9</td>\n",
       "      <td>13</td>\n",
       "      <td>22</td>\n",
       "    </tr>\n",
       "    <tr>\n",
       "      <th>2</th>\n",
       "      <td>Afghan Restaurant</td>\n",
       "      <td>competition</td>\n",
       "      <td>40</td>\n",
       "      <td>78</td>\n",
       "      <td>118</td>\n",
       "    </tr>\n",
       "    <tr>\n",
       "      <th>3</th>\n",
       "      <td>Akakiko</td>\n",
       "      <td>competition</td>\n",
       "      <td>1054</td>\n",
       "      <td>1573</td>\n",
       "      <td>2627</td>\n",
       "    </tr>\n",
       "    <tr>\n",
       "      <th>4</th>\n",
       "      <td>Akdag Kebap</td>\n",
       "      <td>competition</td>\n",
       "      <td>87</td>\n",
       "      <td>196</td>\n",
       "      <td>283</td>\n",
       "    </tr>\n",
       "    <tr>\n",
       "      <th>...</th>\n",
       "      <td>...</td>\n",
       "      <td>...</td>\n",
       "      <td>...</td>\n",
       "      <td>...</td>\n",
       "      <td>...</td>\n",
       "    </tr>\n",
       "    <tr>\n",
       "      <th>269</th>\n",
       "      <td>eleven</td>\n",
       "      <td>competition</td>\n",
       "      <td>5</td>\n",
       "      <td>14</td>\n",
       "      <td>19</td>\n",
       "    </tr>\n",
       "    <tr>\n",
       "      <th>270</th>\n",
       "      <td>my Kentt Pizza &amp; Kebap</td>\n",
       "      <td>competition</td>\n",
       "      <td>367</td>\n",
       "      <td>1407</td>\n",
       "      <td>1774</td>\n",
       "    </tr>\n",
       "    <tr>\n",
       "      <th>271</th>\n",
       "      <td>taste&amp;soul - powered by eatclever</td>\n",
       "      <td>competition</td>\n",
       "      <td>208</td>\n",
       "      <td>348</td>\n",
       "      <td>556</td>\n",
       "    </tr>\n",
       "    <tr>\n",
       "      <th>272</th>\n",
       "      <td>the italian</td>\n",
       "      <td>competition</td>\n",
       "      <td>250</td>\n",
       "      <td>463</td>\n",
       "      <td>713</td>\n",
       "    </tr>\n",
       "    <tr>\n",
       "      <th>273</th>\n",
       "      <td>Östa Konditorei und Cafe</td>\n",
       "      <td>competition</td>\n",
       "      <td>9</td>\n",
       "      <td>133</td>\n",
       "      <td>142</td>\n",
       "    </tr>\n",
       "  </tbody>\n",
       "</table>\n",
       "<p>274 rows × 5 columns</p>\n",
       "</div>"
      ],
      "text/plain": [
       "                                  name delivery_service  month_1  month_2  \\\n",
       "0                             Adelphia      competition      126      234   \n",
       "1                Aegaeis - Greek Grill      competition        9       13   \n",
       "2                    Afghan Restaurant      competition       40       78   \n",
       "3                              Akakiko      competition     1054     1573   \n",
       "4                          Akdag Kebap      competition       87      196   \n",
       "..                                 ...              ...      ...      ...   \n",
       "269                             eleven      competition        5       14   \n",
       "270             my Kentt Pizza & Kebap      competition      367     1407   \n",
       "271  taste&soul - powered by eatclever      competition      208      348   \n",
       "272                        the italian      competition      250      463   \n",
       "273           Östa Konditorei und Cafe      competition        9      133   \n",
       "\n",
       "     orders_total  \n",
       "0             360  \n",
       "1              22  \n",
       "2             118  \n",
       "3            2627  \n",
       "4             283  \n",
       "..            ...  \n",
       "269            19  \n",
       "270          1774  \n",
       "271           556  \n",
       "272           713  \n",
       "273           142  \n",
       "\n",
       "[274 rows x 5 columns]"
      ]
     },
     "execution_count": 19,
     "metadata": {},
     "output_type": "execute_result"
    }
   ],
   "source": [
    "# drop irrelevant columns and rename orders\n",
    "\n",
    "df_competition = df_competition.drop(['month_x', 'month_y'], axis='columns')\n",
    "df_competition.rename(columns={'orders_x':'month_1', 'orders_y':'month_2'},\n",
    "                      inplace=True)\n",
    "\n",
    "df_competition['orders_total'] = df_competition['month_1'] + df_competition['month_2']\n",
    "df_competition"
   ]
  },
  {
   "cell_type": "code",
   "execution_count": 20,
   "id": "8b81df42",
   "metadata": {},
   "outputs": [],
   "source": [
    "# melt orders\n",
    "\n",
    "# df_competition = pd.melt(df_competition,\n",
    "#                     id_vars=['name', 'zip', 'delivery_service'], # these will be kept as separate columns\n",
    "#                     value_vars=['month_1', 'month_2'], # these we are melting into one column\n",
    "#                     var_name = 'month', # new name for the melted column\n",
    "#                     value_name='orders') # new name for the column with melted values\n",
    "# df_competition"
   ]
  },
  {
   "cell_type": "code",
   "execution_count": 21,
   "id": "c1e75d2f",
   "metadata": {},
   "outputs": [
    {
     "data": {
      "text/html": [
       "<div>\n",
       "<style scoped>\n",
       "    .dataframe tbody tr th:only-of-type {\n",
       "        vertical-align: middle;\n",
       "    }\n",
       "\n",
       "    .dataframe tbody tr th {\n",
       "        vertical-align: top;\n",
       "    }\n",
       "\n",
       "    .dataframe thead th {\n",
       "        text-align: right;\n",
       "    }\n",
       "</style>\n",
       "<table border=\"1\" class=\"dataframe\">\n",
       "  <thead>\n",
       "    <tr style=\"text-align: right;\">\n",
       "      <th></th>\n",
       "      <th>name</th>\n",
       "      <th>delivery_service</th>\n",
       "      <th>month_1</th>\n",
       "      <th>month_2</th>\n",
       "      <th>orders_total</th>\n",
       "    </tr>\n",
       "  </thead>\n",
       "  <tbody>\n",
       "    <tr>\n",
       "      <th>0</th>\n",
       "      <td>Chin Chin Asia Specials</td>\n",
       "      <td>competition</td>\n",
       "      <td>2443</td>\n",
       "      <td>2938</td>\n",
       "      <td>5381</td>\n",
       "    </tr>\n",
       "    <tr>\n",
       "      <th>1</th>\n",
       "      <td>Don Camillo</td>\n",
       "      <td>competition</td>\n",
       "      <td>2731</td>\n",
       "      <td>2068</td>\n",
       "      <td>4799</td>\n",
       "    </tr>\n",
       "    <tr>\n",
       "      <th>2</th>\n",
       "      <td>China Restaurant Imperium</td>\n",
       "      <td>competition</td>\n",
       "      <td>1658</td>\n",
       "      <td>2378</td>\n",
       "      <td>4036</td>\n",
       "    </tr>\n",
       "    <tr>\n",
       "      <th>3</th>\n",
       "      <td>dean &amp; david</td>\n",
       "      <td>competition</td>\n",
       "      <td>1734</td>\n",
       "      <td>1863</td>\n",
       "      <td>3597</td>\n",
       "    </tr>\n",
       "    <tr>\n",
       "      <th>4</th>\n",
       "      <td>Momo's Restaurant</td>\n",
       "      <td>competition</td>\n",
       "      <td>1905</td>\n",
       "      <td>1244</td>\n",
       "      <td>3149</td>\n",
       "    </tr>\n",
       "    <tr>\n",
       "      <th>5</th>\n",
       "      <td>McDonald's®</td>\n",
       "      <td>competition</td>\n",
       "      <td>1158</td>\n",
       "      <td>1715</td>\n",
       "      <td>2873</td>\n",
       "    </tr>\n",
       "    <tr>\n",
       "      <th>6</th>\n",
       "      <td>Hai Asia</td>\n",
       "      <td>competition</td>\n",
       "      <td>1133</td>\n",
       "      <td>1679</td>\n",
       "      <td>2812</td>\n",
       "    </tr>\n",
       "    <tr>\n",
       "      <th>7</th>\n",
       "      <td>Akakiko</td>\n",
       "      <td>competition</td>\n",
       "      <td>1054</td>\n",
       "      <td>1573</td>\n",
       "      <td>2627</td>\n",
       "    </tr>\n",
       "    <tr>\n",
       "      <th>8</th>\n",
       "      <td>Dolce Vita Graz</td>\n",
       "      <td>competition</td>\n",
       "      <td>974</td>\n",
       "      <td>1532</td>\n",
       "      <td>2506</td>\n",
       "    </tr>\n",
       "    <tr>\n",
       "      <th>9</th>\n",
       "      <td>Don Daniele</td>\n",
       "      <td>competition</td>\n",
       "      <td>932</td>\n",
       "      <td>1508</td>\n",
       "      <td>2440</td>\n",
       "    </tr>\n",
       "  </tbody>\n",
       "</table>\n",
       "</div>"
      ],
      "text/plain": [
       "                        name delivery_service  month_1  month_2  orders_total\n",
       "0    Chin Chin Asia Specials      competition     2443     2938          5381\n",
       "1                Don Camillo      competition     2731     2068          4799\n",
       "2  China Restaurant Imperium      competition     1658     2378          4036\n",
       "3               dean & david      competition     1734     1863          3597\n",
       "4          Momo's Restaurant      competition     1905     1244          3149\n",
       "5                McDonald's®      competition     1158     1715          2873\n",
       "6                   Hai Asia      competition     1133     1679          2812\n",
       "7                    Akakiko      competition     1054     1573          2627\n",
       "8            Dolce Vita Graz      competition      974     1532          2506\n",
       "9                Don Daniele      competition      932     1508          2440"
      ]
     },
     "execution_count": 21,
     "metadata": {},
     "output_type": "execute_result"
    }
   ],
   "source": [
    "# sort\n",
    "\n",
    "df_competition = df_competition.sort_values('orders_total', ascending=False).reset_index(drop=True)\n",
    "df_competition.head(10)"
   ]
  },
  {
   "cell_type": "markdown",
   "id": "7049cf22",
   "metadata": {},
   "source": [
    "### *Are these restaurants also active on deliverando and if so, how did the orders on the deliverando platform compare to the performance on the competitor platform?*"
   ]
  },
  {
   "cell_type": "code",
   "execution_count": 22,
   "id": "2c9f728c",
   "metadata": {},
   "outputs": [
    {
     "data": {
      "text/html": [
       "<div>\n",
       "<style scoped>\n",
       "    .dataframe tbody tr th:only-of-type {\n",
       "        vertical-align: middle;\n",
       "    }\n",
       "\n",
       "    .dataframe tbody tr th {\n",
       "        vertical-align: top;\n",
       "    }\n",
       "\n",
       "    .dataframe thead th {\n",
       "        text-align: right;\n",
       "    }\n",
       "</style>\n",
       "<table border=\"1\" class=\"dataframe\">\n",
       "  <thead>\n",
       "    <tr style=\"text-align: right;\">\n",
       "      <th></th>\n",
       "      <th>name</th>\n",
       "      <th>kpi</th>\n",
       "      <th>delivery_service</th>\n",
       "      <th>month_1</th>\n",
       "      <th>month_2</th>\n",
       "      <th>sum</th>\n",
       "    </tr>\n",
       "  </thead>\n",
       "  <tbody>\n",
       "    <tr>\n",
       "      <th>0</th>\n",
       "      <td>Adelphia</td>\n",
       "      <td># Commissionable Orders</td>\n",
       "      <td>deliverando</td>\n",
       "      <td>78</td>\n",
       "      <td>69</td>\n",
       "      <td>147</td>\n",
       "    </tr>\n",
       "    <tr>\n",
       "      <th>1</th>\n",
       "      <td>Aegaeis - Greek Grill</td>\n",
       "      <td># Commissionable Orders</td>\n",
       "      <td>deliverando</td>\n",
       "      <td>25</td>\n",
       "      <td>1</td>\n",
       "      <td>26</td>\n",
       "    </tr>\n",
       "    <tr>\n",
       "      <th>2</th>\n",
       "      <td>Afghan Restaurant</td>\n",
       "      <td># Commissionable Orders</td>\n",
       "      <td>deliverando</td>\n",
       "      <td>0</td>\n",
       "      <td>0</td>\n",
       "      <td>0</td>\n",
       "    </tr>\n",
       "  </tbody>\n",
       "</table>\n",
       "</div>"
      ],
      "text/plain": [
       "                    name                      kpi delivery_service  month_1  \\\n",
       "0               Adelphia  # Commissionable Orders      deliverando       78   \n",
       "1  Aegaeis - Greek Grill  # Commissionable Orders      deliverando       25   \n",
       "2      Afghan Restaurant  # Commissionable Orders      deliverando        0   \n",
       "\n",
       "   month_2  sum  \n",
       "0       69  147  \n",
       "1        1   26  \n",
       "2        0    0  "
      ]
     },
     "execution_count": 22,
     "metadata": {},
     "output_type": "execute_result"
    }
   ],
   "source": [
    "# total orders for deliverando\n",
    "\n",
    "df_deliverando[['month_1','month_2']] = df_deliverando[['month_1','month_2']].astype(int)\n",
    "df_deliverando['sum'] = df_deliverando['month_1'] + df_deliverando['month_2']\n",
    "df_deliverando['sum'] = df_deliverando['sum'].fillna(0).astype(int)\n",
    "df_deliverando.head(3)"
   ]
  },
  {
   "cell_type": "code",
   "execution_count": 23,
   "id": "254ea67f",
   "metadata": {},
   "outputs": [],
   "source": [
    "# outer join for deliverando and competition\n",
    "\n",
    "# df_all = pd.merge(df_deliverando, df_competition, how='outer', on=['name','zip','delivery_service', 'month_1', 'month_2'])\n",
    "# df_all.rename(columns={'orders_total_x':'total_deliverando', 'orders_total_y':'total_competition'}, inplace=True)\n",
    "# df_all\n"
   ]
  },
  {
   "cell_type": "code",
   "execution_count": 24,
   "id": "5e4b3e36",
   "metadata": {},
   "outputs": [
    {
     "data": {
      "text/html": [
       "<div>\n",
       "<style scoped>\n",
       "    .dataframe tbody tr th:only-of-type {\n",
       "        vertical-align: middle;\n",
       "    }\n",
       "\n",
       "    .dataframe tbody tr th {\n",
       "        vertical-align: top;\n",
       "    }\n",
       "\n",
       "    .dataframe thead th {\n",
       "        text-align: right;\n",
       "    }\n",
       "</style>\n",
       "<table border=\"1\" class=\"dataframe\">\n",
       "  <thead>\n",
       "    <tr style=\"text-align: right;\">\n",
       "      <th></th>\n",
       "      <th>name</th>\n",
       "      <th>delivery_service</th>\n",
       "      <th>month_1</th>\n",
       "      <th>month_2</th>\n",
       "      <th>sum</th>\n",
       "    </tr>\n",
       "  </thead>\n",
       "  <tbody>\n",
       "    <tr>\n",
       "      <th>0</th>\n",
       "      <td>Adelphia</td>\n",
       "      <td>deliverando</td>\n",
       "      <td>78</td>\n",
       "      <td>69</td>\n",
       "      <td>147</td>\n",
       "    </tr>\n",
       "    <tr>\n",
       "      <th>1</th>\n",
       "      <td>Aegaeis - Greek Grill</td>\n",
       "      <td>deliverando</td>\n",
       "      <td>25</td>\n",
       "      <td>1</td>\n",
       "      <td>26</td>\n",
       "    </tr>\n",
       "    <tr>\n",
       "      <th>2</th>\n",
       "      <td>Afghan Restaurant</td>\n",
       "      <td>deliverando</td>\n",
       "      <td>0</td>\n",
       "      <td>0</td>\n",
       "      <td>0</td>\n",
       "    </tr>\n",
       "  </tbody>\n",
       "</table>\n",
       "</div>"
      ],
      "text/plain": [
       "                    name delivery_service  month_1  month_2  sum\n",
       "0               Adelphia      deliverando       78       69  147\n",
       "1  Aegaeis - Greek Grill      deliverando       25        1   26\n",
       "2      Afghan Restaurant      deliverando        0        0    0"
      ]
     },
     "execution_count": 24,
     "metadata": {},
     "output_type": "execute_result"
    }
   ],
   "source": [
    "# filter for KPI == orders in deliverando\n",
    "\n",
    "df_deliverando_orders = df_deliverando[df_deliverando['kpi']=='# Commissionable Orders']\n",
    "df_deliverando_orders = df_deliverando_orders.drop('kpi', axis='columns')\n",
    "df_deliverando_orders.head(3)"
   ]
  },
  {
   "cell_type": "code",
   "execution_count": 25,
   "id": "8400e997",
   "metadata": {},
   "outputs": [],
   "source": [
    "# drop delivery_service and monthly orders from both\n",
    "df_competition = df_competition.drop(['delivery_service', 'month_1', 'month_2'], axis='columns')\n",
    "df_deliverando_orders = df_deliverando_orders.drop(['delivery_service', 'month_1', 'month_2'], axis='columns')"
   ]
  },
  {
   "cell_type": "code",
   "execution_count": 26,
   "id": "5bffe8da",
   "metadata": {},
   "outputs": [
    {
     "data": {
      "text/html": [
       "<div>\n",
       "<style scoped>\n",
       "    .dataframe tbody tr th:only-of-type {\n",
       "        vertical-align: middle;\n",
       "    }\n",
       "\n",
       "    .dataframe tbody tr th {\n",
       "        vertical-align: top;\n",
       "    }\n",
       "\n",
       "    .dataframe thead th {\n",
       "        text-align: right;\n",
       "    }\n",
       "</style>\n",
       "<table border=\"1\" class=\"dataframe\">\n",
       "  <thead>\n",
       "    <tr style=\"text-align: right;\">\n",
       "      <th></th>\n",
       "      <th>name</th>\n",
       "      <th>orders_total</th>\n",
       "    </tr>\n",
       "  </thead>\n",
       "  <tbody>\n",
       "    <tr>\n",
       "      <th>0</th>\n",
       "      <td>Chin Chin Asia Specials</td>\n",
       "      <td>5381</td>\n",
       "    </tr>\n",
       "    <tr>\n",
       "      <th>1</th>\n",
       "      <td>Don Camillo</td>\n",
       "      <td>4799</td>\n",
       "    </tr>\n",
       "    <tr>\n",
       "      <th>2</th>\n",
       "      <td>China Restaurant Imperium</td>\n",
       "      <td>4036</td>\n",
       "    </tr>\n",
       "  </tbody>\n",
       "</table>\n",
       "</div>"
      ],
      "text/plain": [
       "                        name  orders_total\n",
       "0    Chin Chin Asia Specials          5381\n",
       "1                Don Camillo          4799\n",
       "2  China Restaurant Imperium          4036"
      ]
     },
     "execution_count": 26,
     "metadata": {},
     "output_type": "execute_result"
    }
   ],
   "source": [
    "df_competition.head(3)"
   ]
  },
  {
   "cell_type": "code",
   "execution_count": 27,
   "id": "091ba798",
   "metadata": {
    "scrolled": true
   },
   "outputs": [
    {
     "data": {
      "text/html": [
       "<div>\n",
       "<style scoped>\n",
       "    .dataframe tbody tr th:only-of-type {\n",
       "        vertical-align: middle;\n",
       "    }\n",
       "\n",
       "    .dataframe tbody tr th {\n",
       "        vertical-align: top;\n",
       "    }\n",
       "\n",
       "    .dataframe thead th {\n",
       "        text-align: right;\n",
       "    }\n",
       "</style>\n",
       "<table border=\"1\" class=\"dataframe\">\n",
       "  <thead>\n",
       "    <tr style=\"text-align: right;\">\n",
       "      <th></th>\n",
       "      <th>name</th>\n",
       "      <th>sum</th>\n",
       "    </tr>\n",
       "  </thead>\n",
       "  <tbody>\n",
       "    <tr>\n",
       "      <th>0</th>\n",
       "      <td>Adelphia</td>\n",
       "      <td>147</td>\n",
       "    </tr>\n",
       "    <tr>\n",
       "      <th>1</th>\n",
       "      <td>Aegaeis - Greek Grill</td>\n",
       "      <td>26</td>\n",
       "    </tr>\n",
       "    <tr>\n",
       "      <th>2</th>\n",
       "      <td>Afghan Restaurant</td>\n",
       "      <td>0</td>\n",
       "    </tr>\n",
       "  </tbody>\n",
       "</table>\n",
       "</div>"
      ],
      "text/plain": [
       "                    name  sum\n",
       "0               Adelphia  147\n",
       "1  Aegaeis - Greek Grill   26\n",
       "2      Afghan Restaurant    0"
      ]
     },
     "execution_count": 27,
     "metadata": {},
     "output_type": "execute_result"
    }
   ],
   "source": [
    "df_deliverando_orders.head(3)"
   ]
  },
  {
   "cell_type": "code",
   "execution_count": 28,
   "id": "18fb9049",
   "metadata": {},
   "outputs": [],
   "source": [
    "##################### test: there are restaurants with orders from both delivery services\n",
    "# set_competition = set(df_competition[df_competition['orders_total']>0]['name'].unique())\n",
    "# set_deliverando = set(df_deliverando_orders[df_deliverando_orders['orders_total']>0]['name'].unique())\n",
    "\n",
    "# intersection = set_competition & set_deliverando\n",
    "# intersection"
   ]
  },
  {
   "cell_type": "code",
   "execution_count": 29,
   "id": "b7f31e31",
   "metadata": {
    "scrolled": true
   },
   "outputs": [
    {
     "data": {
      "text/html": [
       "<div>\n",
       "<style scoped>\n",
       "    .dataframe tbody tr th:only-of-type {\n",
       "        vertical-align: middle;\n",
       "    }\n",
       "\n",
       "    .dataframe tbody tr th {\n",
       "        vertical-align: top;\n",
       "    }\n",
       "\n",
       "    .dataframe thead th {\n",
       "        text-align: right;\n",
       "    }\n",
       "</style>\n",
       "<table border=\"1\" class=\"dataframe\">\n",
       "  <thead>\n",
       "    <tr style=\"text-align: right;\">\n",
       "      <th></th>\n",
       "      <th>name</th>\n",
       "      <th>orders_competition</th>\n",
       "      <th>orders_deliverando</th>\n",
       "    </tr>\n",
       "  </thead>\n",
       "  <tbody>\n",
       "    <tr>\n",
       "      <th>0</th>\n",
       "      <td>Chin Chin Asia Specials</td>\n",
       "      <td>5381.0</td>\n",
       "      <td>1580.0</td>\n",
       "    </tr>\n",
       "    <tr>\n",
       "      <th>1</th>\n",
       "      <td>Don Camillo</td>\n",
       "      <td>4799.0</td>\n",
       "      <td>92.0</td>\n",
       "    </tr>\n",
       "    <tr>\n",
       "      <th>2</th>\n",
       "      <td>China Restaurant Imperium</td>\n",
       "      <td>4036.0</td>\n",
       "      <td>1047.0</td>\n",
       "    </tr>\n",
       "    <tr>\n",
       "      <th>3</th>\n",
       "      <td>dean &amp; david</td>\n",
       "      <td>3597.0</td>\n",
       "      <td>1519.0</td>\n",
       "    </tr>\n",
       "    <tr>\n",
       "      <th>4</th>\n",
       "      <td>Momo's Restaurant</td>\n",
       "      <td>3149.0</td>\n",
       "      <td>NaN</td>\n",
       "    </tr>\n",
       "    <tr>\n",
       "      <th>...</th>\n",
       "      <td>...</td>\n",
       "      <td>...</td>\n",
       "      <td>...</td>\n",
       "    </tr>\n",
       "    <tr>\n",
       "      <th>419</th>\n",
       "      <td>YA HABIBI - marokkanische Küche</td>\n",
       "      <td>NaN</td>\n",
       "      <td>0.0</td>\n",
       "    </tr>\n",
       "    <tr>\n",
       "      <th>420</th>\n",
       "      <td>Yamauchi</td>\n",
       "      <td>NaN</td>\n",
       "      <td>0.0</td>\n",
       "    </tr>\n",
       "    <tr>\n",
       "      <th>421</th>\n",
       "      <td>Zur Steirerstub'n</td>\n",
       "      <td>NaN</td>\n",
       "      <td>85.0</td>\n",
       "    </tr>\n",
       "    <tr>\n",
       "      <th>422</th>\n",
       "      <td>Zushi Market</td>\n",
       "      <td>NaN</td>\n",
       "      <td>0.0</td>\n",
       "    </tr>\n",
       "    <tr>\n",
       "      <th>423</th>\n",
       "      <td>bp - MERKUR inside</td>\n",
       "      <td>NaN</td>\n",
       "      <td>261.0</td>\n",
       "    </tr>\n",
       "  </tbody>\n",
       "</table>\n",
       "<p>424 rows × 3 columns</p>\n",
       "</div>"
      ],
      "text/plain": [
       "                                name  orders_competition  orders_deliverando\n",
       "0            Chin Chin Asia Specials              5381.0              1580.0\n",
       "1                        Don Camillo              4799.0                92.0\n",
       "2          China Restaurant Imperium              4036.0              1047.0\n",
       "3                       dean & david              3597.0              1519.0\n",
       "4                  Momo's Restaurant              3149.0                 NaN\n",
       "..                               ...                 ...                 ...\n",
       "419  YA HABIBI - marokkanische Küche                 NaN                 0.0\n",
       "420                         Yamauchi                 NaN                 0.0\n",
       "421                Zur Steirerstub'n                 NaN                85.0\n",
       "422                     Zushi Market                 NaN                 0.0\n",
       "423               bp - MERKUR inside                 NaN               261.0\n",
       "\n",
       "[424 rows x 3 columns]"
      ]
     },
     "execution_count": 29,
     "metadata": {},
     "output_type": "execute_result"
    }
   ],
   "source": [
    "# left join with competition\n",
    "\n",
    "df_all = pd.merge(left = df_competition, right = df_deliverando_orders, how='outer',\\\n",
    "                  on=['name'])\n",
    "df_all = df_all.rename(columns={'orders_total':'orders_competition', 'sum':'orders_deliverando'})\n",
    "df_all"
   ]
  },
  {
   "cell_type": "code",
   "execution_count": 30,
   "id": "8d5dfed2",
   "metadata": {},
   "outputs": [
    {
     "data": {
      "text/html": [
       "<div>\n",
       "<style scoped>\n",
       "    .dataframe tbody tr th:only-of-type {\n",
       "        vertical-align: middle;\n",
       "    }\n",
       "\n",
       "    .dataframe tbody tr th {\n",
       "        vertical-align: top;\n",
       "    }\n",
       "\n",
       "    .dataframe thead th {\n",
       "        text-align: right;\n",
       "    }\n",
       "</style>\n",
       "<table border=\"1\" class=\"dataframe\">\n",
       "  <thead>\n",
       "    <tr style=\"text-align: right;\">\n",
       "      <th></th>\n",
       "      <th>name</th>\n",
       "      <th>orders_competition</th>\n",
       "      <th>orders_deliverando</th>\n",
       "    </tr>\n",
       "  </thead>\n",
       "  <tbody>\n",
       "    <tr>\n",
       "      <th>0</th>\n",
       "      <td>Chin Chin Asia Specials</td>\n",
       "      <td>5381.0</td>\n",
       "      <td>1580.0</td>\n",
       "    </tr>\n",
       "    <tr>\n",
       "      <th>1</th>\n",
       "      <td>Don Camillo</td>\n",
       "      <td>4799.0</td>\n",
       "      <td>92.0</td>\n",
       "    </tr>\n",
       "    <tr>\n",
       "      <th>2</th>\n",
       "      <td>China Restaurant Imperium</td>\n",
       "      <td>4036.0</td>\n",
       "      <td>1047.0</td>\n",
       "    </tr>\n",
       "    <tr>\n",
       "      <th>3</th>\n",
       "      <td>dean &amp; david</td>\n",
       "      <td>3597.0</td>\n",
       "      <td>1519.0</td>\n",
       "    </tr>\n",
       "    <tr>\n",
       "      <th>4</th>\n",
       "      <td>Momo's Restaurant</td>\n",
       "      <td>3149.0</td>\n",
       "      <td>NaN</td>\n",
       "    </tr>\n",
       "    <tr>\n",
       "      <th>5</th>\n",
       "      <td>McDonald's®</td>\n",
       "      <td>2873.0</td>\n",
       "      <td>11738.0</td>\n",
       "    </tr>\n",
       "    <tr>\n",
       "      <th>6</th>\n",
       "      <td>Hai Asia</td>\n",
       "      <td>2812.0</td>\n",
       "      <td>NaN</td>\n",
       "    </tr>\n",
       "    <tr>\n",
       "      <th>7</th>\n",
       "      <td>Akakiko</td>\n",
       "      <td>2627.0</td>\n",
       "      <td>886.0</td>\n",
       "    </tr>\n",
       "    <tr>\n",
       "      <th>8</th>\n",
       "      <td>Dolce Vita Graz</td>\n",
       "      <td>2506.0</td>\n",
       "      <td>NaN</td>\n",
       "    </tr>\n",
       "    <tr>\n",
       "      <th>9</th>\n",
       "      <td>Don Daniele</td>\n",
       "      <td>2440.0</td>\n",
       "      <td>553.0</td>\n",
       "    </tr>\n",
       "  </tbody>\n",
       "</table>\n",
       "</div>"
      ],
      "text/plain": [
       "                        name  orders_competition  orders_deliverando\n",
       "0    Chin Chin Asia Specials              5381.0              1580.0\n",
       "1                Don Camillo              4799.0                92.0\n",
       "2  China Restaurant Imperium              4036.0              1047.0\n",
       "3               dean & david              3597.0              1519.0\n",
       "4          Momo's Restaurant              3149.0                 NaN\n",
       "5                McDonald's®              2873.0             11738.0\n",
       "6                   Hai Asia              2812.0                 NaN\n",
       "7                    Akakiko              2627.0               886.0\n",
       "8            Dolce Vita Graz              2506.0                 NaN\n",
       "9                Don Daniele              2440.0               553.0"
      ]
     },
     "execution_count": 30,
     "metadata": {},
     "output_type": "execute_result"
    }
   ],
   "source": [
    "df_top_10 = df_all.head(10)\n",
    "df_top_10"
   ]
  },
  {
   "cell_type": "markdown",
   "id": "5bd13362",
   "metadata": {},
   "source": [
    "### Bonus - Locations"
   ]
  },
  {
   "cell_type": "code",
   "execution_count": 31,
   "id": "ec12dde5",
   "metadata": {},
   "outputs": [
    {
     "name": "stdout",
     "output_type": "stream",
     "text": [
      "Zur Steirerstub'n, 8, Lendplatz, Annenviertel, Lend, Graz, Steiermark, 8020, Österreich 47.074458 15.4307423\n"
     ]
    }
   ],
   "source": [
    "restaurant = 'Zur Steirerstub\\'n'\n",
    "\n",
    "loc = Nominatim(user_agent=\"mymap\").geocode(\n",
    "    f'{restaurant}, Graz'\n",
    ")\n",
    "print(loc.address, loc.latitude, loc.longitude)"
   ]
  },
  {
   "cell_type": "markdown",
   "id": "e4e77211",
   "metadata": {},
   "source": [
    "### 4. What conclusions regarding other KPIs can you draw from the performance of the top restaurants on deliverando?"
   ]
  },
  {
   "cell_type": "code",
   "execution_count": 32,
   "id": "529b4048",
   "metadata": {},
   "outputs": [
    {
     "data": {
      "text/plain": [
       "[\"McDonald's®\",\n",
       " 'Pizzeria Ristorante Da Vinci Linz',\n",
       " 'Swing Kitchen',\n",
       " 'Restaurant Z10',\n",
       " 'Da Piero',\n",
       " 'Burger King',\n",
       " 'Dolce Vita',\n",
       " 'KFC',\n",
       " 'Mamacita - California Burritos',\n",
       " 'Beste Freunde - Burgergrill']"
      ]
     },
     "execution_count": 32,
     "metadata": {},
     "output_type": "execute_result"
    }
   ],
   "source": [
    "# top restaurants on deliverando\n",
    "\n",
    "deliverando_top10 = list(df_deliverando_orders.sort_values('sum', ascending=False)['name'].reset_index(drop=True).head(10))\n",
    "deliverando_top10\n"
   ]
  },
  {
   "cell_type": "code",
   "execution_count": 166,
   "id": "0a53a4a5",
   "metadata": {},
   "outputs": [
    {
     "name": "stdout",
     "output_type": "stream",
     "text": [
      "<class 'pandas.core.frame.DataFrame'>\n",
      "Index: 1641 entries, 0 to 1647\n",
      "Data columns (total 6 columns):\n",
      " #   Column            Non-Null Count  Dtype  \n",
      "---  ------            --------------  -----  \n",
      " 0   name              1641 non-null   object \n",
      " 1   zip               1641 non-null   int64  \n",
      " 2   kpi               1641 non-null   object \n",
      " 3   month_1           1641 non-null   float64\n",
      " 4   month_2           1641 non-null   float64\n",
      " 5   delivery_service  1641 non-null   object \n",
      "dtypes: float64(2), int64(1), object(3)\n",
      "memory usage: 89.7+ KB\n"
     ]
    }
   ],
   "source": [
    "# df with all KPIs\n",
    "\n",
    "df_deliverando_kpi = pd.read_csv('../data/SalesAnalyst_deliverando.csv', sep=';')\n",
    "\n",
    "df_deliverando_kpi = df_deliverando_kpi[df_deliverando_kpi['zip'].isin([8010, 8020, 8036, 8041, 8042, 8043, 8045, 8051, 8052, 8053, 8054, 8055, 8063, 8077])]\n",
    "\n",
    "df_deliverando_kpi.rename(columns={'Month 1':'month_1', 'Month 2':'month_2', 'delivery service':'delivery_service'},\n",
    "                      inplace=True)\n",
    "\n",
    "df_deliverando_kpi.drop_duplicates(inplace=True)\n",
    "\n",
    "df_deliverando_kpi.loc[df_deliverando_kpi['name'] == 'dean & david Wels', 'name'] = 'dean & david'\n",
    "\n",
    "df_deliverando_kpi.info()\n"
   ]
  },
  {
   "cell_type": "code",
   "execution_count": 167,
   "id": "1cb748bc",
   "metadata": {},
   "outputs": [],
   "source": [
    "#### apply CUMCOUNT to separate individual locations\n",
    "\n",
    "df_deliverando_kpi['franchise'] = df_deliverando_kpi.groupby(['name','zip','kpi']).cumcount()\n",
    "#df_deliverando_kpi[df_deliverando_kpi['repetitions']==2]"
   ]
  },
  {
   "cell_type": "code",
   "execution_count": 168,
   "id": "91b20abc",
   "metadata": {},
   "outputs": [],
   "source": [
    "# TOP10 (keeping all KPIs)\n",
    "\n",
    "df_deliverando_top10_kpi = df_deliverando_kpi[df_deliverando_kpi['name'].isin(deliverando_top10)].drop(columns='delivery_service')\n",
    "\n",
    "#df_deliverando_top10_kpi[df_deliverando_kpi['repetitions']==2]\n"
   ]
  },
  {
   "cell_type": "code",
   "execution_count": 169,
   "id": "cff942ec",
   "metadata": {},
   "outputs": [],
   "source": [
    "# melt months together\n",
    "df_deliverando_top10_kpi = pd.melt(df_deliverando_top10_kpi,\n",
    "                    id_vars=['name', 'zip', 'kpi', 'franchise'], # these will be kept as separate columns\n",
    "                    value_vars=['month_1', 'month_2'], # these we are melting into one column\n",
    "                    var_name = 'month', # new name for the melted column\n",
    "                    value_name='value') # new name for the column with melted values\n"
   ]
  },
  {
   "cell_type": "code",
   "execution_count": 170,
   "id": "676b7280",
   "metadata": {
    "scrolled": true
   },
   "outputs": [
    {
     "data": {
      "text/plain": [
       "name          object\n",
       "zip            int64\n",
       "kpi           object\n",
       "franchise      int64\n",
       "month         object\n",
       "value        float64\n",
       "dtype: object"
      ]
     },
     "execution_count": 170,
     "metadata": {},
     "output_type": "execute_result"
    }
   ],
   "source": [
    "df_deliverando_top10_kpi.dtypes"
   ]
  },
  {
   "cell_type": "code",
   "execution_count": 171,
   "id": "feadba38",
   "metadata": {},
   "outputs": [
    {
     "data": {
      "text/html": [
       "<div>\n",
       "<style scoped>\n",
       "    .dataframe tbody tr th:only-of-type {\n",
       "        vertical-align: middle;\n",
       "    }\n",
       "\n",
       "    .dataframe tbody tr th {\n",
       "        vertical-align: top;\n",
       "    }\n",
       "\n",
       "    .dataframe thead th {\n",
       "        text-align: right;\n",
       "    }\n",
       "</style>\n",
       "<table border=\"1\" class=\"dataframe\">\n",
       "  <thead>\n",
       "    <tr style=\"text-align: right;\">\n",
       "      <th></th>\n",
       "      <th>name</th>\n",
       "      <th>zip</th>\n",
       "      <th>kpi</th>\n",
       "      <th>franchise</th>\n",
       "      <th>month</th>\n",
       "      <th>value</th>\n",
       "      <th>name_franchise</th>\n",
       "    </tr>\n",
       "  </thead>\n",
       "  <tbody>\n",
       "    <tr>\n",
       "      <th>0</th>\n",
       "      <td>Dolce Vita</td>\n",
       "      <td>8020</td>\n",
       "      <td># Commissionable Orders</td>\n",
       "      <td>1</td>\n",
       "      <td>month_1</td>\n",
       "      <td>1178.00</td>\n",
       "      <td>Dolce Vita 8020 No. 1</td>\n",
       "    </tr>\n",
       "    <tr>\n",
       "      <th>1</th>\n",
       "      <td>Dolce Vita</td>\n",
       "      <td>8020</td>\n",
       "      <td>Avg Basket Size €</td>\n",
       "      <td>1</td>\n",
       "      <td>month_1</td>\n",
       "      <td>19.12</td>\n",
       "      <td>Dolce Vita 8020 No. 1</td>\n",
       "    </tr>\n",
       "    <tr>\n",
       "      <th>2</th>\n",
       "      <td>Dolce Vita</td>\n",
       "      <td>8020</td>\n",
       "      <td># Negative Comments</td>\n",
       "      <td>1</td>\n",
       "      <td>month_1</td>\n",
       "      <td>0.00</td>\n",
       "      <td>Dolce Vita 8020 No. 1</td>\n",
       "    </tr>\n",
       "    <tr>\n",
       "      <th>3</th>\n",
       "      <td>Dolce Vita</td>\n",
       "      <td>8020</td>\n",
       "      <td># Positive Comments</td>\n",
       "      <td>1</td>\n",
       "      <td>month_1</td>\n",
       "      <td>1.00</td>\n",
       "      <td>Dolce Vita 8020 No. 1</td>\n",
       "    </tr>\n",
       "    <tr>\n",
       "      <th>4</th>\n",
       "      <td>Dolce Vita</td>\n",
       "      <td>8020</td>\n",
       "      <td>% Kill Rate</td>\n",
       "      <td>1</td>\n",
       "      <td>month_1</td>\n",
       "      <td>0.06</td>\n",
       "      <td>Dolce Vita 8020 No. 1</td>\n",
       "    </tr>\n",
       "    <tr>\n",
       "      <th>...</th>\n",
       "      <td>...</td>\n",
       "      <td>...</td>\n",
       "      <td>...</td>\n",
       "      <td>...</td>\n",
       "      <td>...</td>\n",
       "      <td>...</td>\n",
       "      <td>...</td>\n",
       "    </tr>\n",
       "    <tr>\n",
       "      <th>191</th>\n",
       "      <td>Mamacita - California Burritos</td>\n",
       "      <td>8010</td>\n",
       "      <td>Avg Basket Size €</td>\n",
       "      <td>1</td>\n",
       "      <td>month_2</td>\n",
       "      <td>23.01</td>\n",
       "      <td>Mamacita - California Burritos 8010 No. 1</td>\n",
       "    </tr>\n",
       "    <tr>\n",
       "      <th>192</th>\n",
       "      <td>Mamacita - California Burritos</td>\n",
       "      <td>8010</td>\n",
       "      <td># Negative Comments</td>\n",
       "      <td>1</td>\n",
       "      <td>month_2</td>\n",
       "      <td>10.00</td>\n",
       "      <td>Mamacita - California Burritos 8010 No. 1</td>\n",
       "    </tr>\n",
       "    <tr>\n",
       "      <th>193</th>\n",
       "      <td>Mamacita - California Burritos</td>\n",
       "      <td>8010</td>\n",
       "      <td># Positive Comments</td>\n",
       "      <td>1</td>\n",
       "      <td>month_2</td>\n",
       "      <td>1.00</td>\n",
       "      <td>Mamacita - California Burritos 8010 No. 1</td>\n",
       "    </tr>\n",
       "    <tr>\n",
       "      <th>194</th>\n",
       "      <td>Mamacita - California Burritos</td>\n",
       "      <td>8010</td>\n",
       "      <td>% Kill Rate</td>\n",
       "      <td>1</td>\n",
       "      <td>month_2</td>\n",
       "      <td>103.00</td>\n",
       "      <td>Mamacita - California Burritos 8010 No. 1</td>\n",
       "    </tr>\n",
       "    <tr>\n",
       "      <th>195</th>\n",
       "      <td>Mamacita - California Burritos</td>\n",
       "      <td>8010</td>\n",
       "      <td>Avg Time to Accept (s)</td>\n",
       "      <td>1</td>\n",
       "      <td>month_2</td>\n",
       "      <td>18.00</td>\n",
       "      <td>Mamacita - California Burritos 8010 No. 1</td>\n",
       "    </tr>\n",
       "  </tbody>\n",
       "</table>\n",
       "<p>196 rows × 7 columns</p>\n",
       "</div>"
      ],
      "text/plain": [
       "                               name   zip                      kpi franchise  \\\n",
       "0                        Dolce Vita  8020  # Commissionable Orders         1   \n",
       "1                        Dolce Vita  8020        Avg Basket Size €         1   \n",
       "2                        Dolce Vita  8020      # Negative Comments         1   \n",
       "3                        Dolce Vita  8020      # Positive Comments         1   \n",
       "4                        Dolce Vita  8020              % Kill Rate         1   \n",
       "..                              ...   ...                      ...       ...   \n",
       "191  Mamacita - California Burritos  8010        Avg Basket Size €         1   \n",
       "192  Mamacita - California Burritos  8010      # Negative Comments         1   \n",
       "193  Mamacita - California Burritos  8010      # Positive Comments         1   \n",
       "194  Mamacita - California Burritos  8010              % Kill Rate         1   \n",
       "195  Mamacita - California Burritos  8010   Avg Time to Accept (s)         1   \n",
       "\n",
       "       month    value                             name_franchise  \n",
       "0    month_1  1178.00                      Dolce Vita 8020 No. 1  \n",
       "1    month_1    19.12                      Dolce Vita 8020 No. 1  \n",
       "2    month_1     0.00                      Dolce Vita 8020 No. 1  \n",
       "3    month_1     1.00                      Dolce Vita 8020 No. 1  \n",
       "4    month_1     0.06                      Dolce Vita 8020 No. 1  \n",
       "..       ...      ...                                        ...  \n",
       "191  month_2    23.01  Mamacita - California Burritos 8010 No. 1  \n",
       "192  month_2    10.00  Mamacita - California Burritos 8010 No. 1  \n",
       "193  month_2     1.00  Mamacita - California Burritos 8010 No. 1  \n",
       "194  month_2   103.00  Mamacita - California Burritos 8010 No. 1  \n",
       "195  month_2    18.00  Mamacita - California Burritos 8010 No. 1  \n",
       "\n",
       "[196 rows x 7 columns]"
      ]
     },
     "execution_count": 171,
     "metadata": {},
     "output_type": "execute_result"
    }
   ],
   "source": [
    "# combine columns together as one franchise identificator\n",
    "\n",
    "df_deliverando_top10_kpi['franchise'] = df_deliverando_top10_kpi['franchise'] + 1\n",
    "df_deliverando_top10_kpi[['zip','franchise']] = df_deliverando_top10_kpi[['zip','franchise']].astype(str)\n",
    "\n",
    "df_deliverando_top10_kpi['name_franchise'] = df_deliverando_top10_kpi['name'] +' '+ df_deliverando_top10_kpi['zip']\\\n",
    "+' No. '+ df_deliverando_top10_kpi['franchise']\n",
    "\n",
    "df_deliverando_top10_kpi\n"
   ]
  },
  {
   "cell_type": "code",
   "execution_count": 173,
   "id": "c5b2673f",
   "metadata": {},
   "outputs": [],
   "source": [
    "# rename restaurants back to nice names where appropriate for presentation\n",
    "\n",
    "df_deliverando_top10_kpi.loc[df_deliverando_top10_kpi['name_franchise'] == 'Beste Freunde - Burgergrill 8020 No. 1', 'name_franchise'] = 'Beste Freunde - Burgergrill'\n",
    "df_deliverando_top10_kpi.loc[df_deliverando_top10_kpi['name_franchise'] == 'Da Piero 8020 No. 1', 'name_franchise'] = 'Da Piero'\n",
    "df_deliverando_top10_kpi.loc[df_deliverando_top10_kpi['name_franchise'] == 'Dolce Vita 8020 No. 1', 'name_franchise'] = 'Dolce Vita'\n",
    "df_deliverando_top10_kpi.loc[df_deliverando_top10_kpi['name_franchise'] == 'KFC 8020 No. 1', 'name_franchise'] = 'KFC'\n",
    "df_deliverando_top10_kpi.loc[df_deliverando_top10_kpi['name_franchise'] == 'Mamacita - California Burritos 8010 No. 1', 'name_franchise'] = 'Mamacita - California Burritos'\n",
    "# assuming Pizzeria Ristorante Da Vinci is located in Granz instead of Linz:\n",
    "df_deliverando_top10_kpi.loc[df_deliverando_top10_kpi['name_franchise'] == 'Pizzeria Ristorante Da Vinci Linz 8010 No. 1', 'name_franchise'] = 'Pizzeria Ristorante Da Vinci'\n",
    "df_deliverando_top10_kpi.loc[df_deliverando_top10_kpi['name_franchise'] == 'Restaurant Z10 8010 No. 1', 'name_franchise'] = 'Restaurant Z10'\n",
    "df_deliverando_top10_kpi.loc[df_deliverando_top10_kpi['name_franchise'] == 'Swing Kitchen 8010 No. 1', 'name_franchise'] = 'Swing Kitchen'\n"
   ]
  },
  {
   "cell_type": "code",
   "execution_count": 174,
   "id": "3f86404e",
   "metadata": {},
   "outputs": [],
   "source": [
    "df_deliverando_top10_kpi.to_csv('../data/deliverando_top10_kpi.csv')"
   ]
  },
  {
   "cell_type": "code",
   "execution_count": 119,
   "id": "52099d30",
   "metadata": {},
   "outputs": [
    {
     "data": {
      "text/plain": [
       "<Axes: xlabel='value', ylabel='Count'>"
      ]
     },
     "execution_count": 119,
     "metadata": {},
     "output_type": "execute_result"
    },
    {
     "data": {
      "image/png": "[encoded data removed]",
      "text/plain": [
       "<Figure size 640x480 with 1 Axes>"
      ]
     },
     "metadata": {},
     "output_type": "display_data"
    }
   ],
   "source": [
    "sns.histplot(data=df_deliverando_top10_kpi[df_deliverando_top10_kpi['kpi']=='% Kill Rate'],\n",
    "             x='value',\n",
    "             bins=5)"
   ]
  },
  {
   "cell_type": "code",
   "execution_count": null,
   "id": "cef64b12",
   "metadata": {},
   "outputs": [],
   "source": []
  }
 ],
 "metadata": {
  "kernelspec": {
   "display_name": "Python 3 (ipykernel)",
   "language": "python",
   "name": "python3"
  },
  "language_info": {
   "codemirror_mode": {
    "name": "ipython",
    "version": 3
   },
   "file_extension": ".py",
   "mimetype": "text/x-python",
   "name": "python",
   "nbconvert_exporter": "python",
   "pygments_lexer": "ipython3",
   "version": "3.10.10"
  }
 },
 "nbformat": 4,
 "nbformat_minor": 5
}
